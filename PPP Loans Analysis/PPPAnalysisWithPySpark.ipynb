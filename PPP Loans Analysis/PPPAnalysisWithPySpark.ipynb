{
  "nbformat": 4,
  "nbformat_minor": 0,
  "metadata": {
    "colab": {
      "provenance": [],
      "toc_visible": true
    },
    "kernelspec": {
      "name": "python3",
      "display_name": "Python 3"
    },
    "language_info": {
      "name": "python"
    },
    "gpuClass": "standard"
  },
  "cells": [
    {
      "cell_type": "markdown",
      "source": [
        "EDA with PySpark"
      ],
      "metadata": {
        "id": "ebTv_67Xec98"
      }
    },
    {
      "cell_type": "markdown",
      "source": [
        "# Introduction"
      ],
      "metadata": {
        "id": "WztDXE3lngQS"
      }
    },
    {
      "cell_type": "markdown",
      "source": [
        "Analysis of PPP loans data with demographics information.\n",
        "\n",
        "Now let's go tackle the PPP dataset and find some interesting trends using PySpark!"
      ],
      "metadata": {
        "id": "-4Km20MQgIWy"
      }
    },
    {
      "cell_type": "markdown",
      "source": [
        "## Download PPP data"
      ],
      "metadata": {
        "id": "aNh1_VfSfNjL"
      }
    },
    {
      "cell_type": "markdown",
      "source": [
        "You can download the data from here (https://data.sba.gov/dataset/ppp-foia). We will use the first three files.\n",
        "\n",
        "I have tried copying the link address and pasting it here (so no need to mount your Google Drive) - but the link address changes every few months, so instead we can download locally, drag to Google Drive, and use a shareable link."
      ],
      "metadata": {
        "id": "iT_jRh90egQd"
      }
    },
    {
      "cell_type": "code",
      "execution_count": null,
      "metadata": {
        "id": "fE3CH1V2eDJe",
        "colab": {
          "base_uri": "https://localhost:8080/"
        },
        "outputId": "9f4a6c98-ca61-4e96-d709-819010506664"
      },
      "outputs": [
        {
          "output_type": "stream",
          "name": "stdout",
          "text": [
            "Downloading...\n",
            "From: https://data.sba.gov/dataset/8aa276e2-6cab-4f86-aca4-a7dde42adf24/resource/2b55e11d-7e75-4bbb-b526-69a06c0c4731/download/public_150k_plus_230101.csv\n",
            "To: /content/public_150k_plus_230101.csv\n",
            "100% 452M/452M [00:03<00:00, 125MB/s] \n",
            "Downloading...\n",
            "From: https://data.sba.gov/dataset/8aa276e2-6cab-4f86-aca4-a7dde42adf24/resource/5f700a26-02f9-4d97-94a3-e3c2c43871eb/download/public_up_to_150k_1_230101.csv\n",
            "To: /content/public_up_to_150k_1_230101.csv\n",
            "100% 414M/414M [00:04<00:00, 97.9MB/s]\n",
            "Downloading...\n",
            "From: https://data.sba.gov/dataset/8aa276e2-6cab-4f86-aca4-a7dde42adf24/resource/b785dfac-7d99-4bc0-9ab2-e87fe855174e/download/public_up_to_150k_2_230101.csv\n",
            "To: /content/public_up_to_150k_2_230101.csv\n",
            "100% 412M/412M [00:02<00:00, 184MB/s]\n"
          ]
        }
      ],
      "source": [
        "# download the SBA data\n",
        "# would be great but the link changes every quarter!\n",
        "\n",
        "\n",
        "!gdown https://data.sba.gov/dataset/8aa276e2-6cab-4f86-aca4-a7dde42adf24/resource/2b55e11d-7e75-4bbb-b526-69a06c0c4731/download/public_150k_plus_230101.csv\n",
        "!gdown https://data.sba.gov/dataset/8aa276e2-6cab-4f86-aca4-a7dde42adf24/resource/5f700a26-02f9-4d97-94a3-e3c2c43871eb/download/public_up_to_150k_1_230101.csv\n",
        "!gdown https://data.sba.gov/dataset/8aa276e2-6cab-4f86-aca4-a7dde42adf24/resource/b785dfac-7d99-4bc0-9ab2-e87fe855174e/download/public_up_to_150k_2_230101.csv"
      ]
    },
    {
      "cell_type": "code",
      "source": [
        "!pip install --upgrade --no-cache-dir gdown"
      ],
      "metadata": {
        "colab": {
          "base_uri": "https://localhost:8080/"
        },
        "id": "5YbNxESZDpxo",
        "outputId": "4a075499-284a-448b-a761-cec8e74b59a6"
      },
      "execution_count": null,
      "outputs": [
        {
          "output_type": "stream",
          "name": "stdout",
          "text": [
            "Looking in indexes: https://pypi.org/simple, https://us-python.pkg.dev/colab-wheels/public/simple/\n",
            "Requirement already satisfied: gdown in /usr/local/lib/python3.8/dist-packages (4.4.0)\n",
            "Collecting gdown\n",
            "  Downloading gdown-4.6.0-py3-none-any.whl (14 kB)\n",
            "Requirement already satisfied: six in /usr/local/lib/python3.8/dist-packages (from gdown) (1.15.0)\n",
            "Requirement already satisfied: beautifulsoup4 in /usr/local/lib/python3.8/dist-packages (from gdown) (4.6.3)\n",
            "Requirement already satisfied: tqdm in /usr/local/lib/python3.8/dist-packages (from gdown) (4.64.1)\n",
            "Requirement already satisfied: filelock in /usr/local/lib/python3.8/dist-packages (from gdown) (3.9.0)\n",
            "Requirement already satisfied: requests[socks] in /usr/local/lib/python3.8/dist-packages (from gdown) (2.25.1)\n",
            "Requirement already satisfied: urllib3<1.27,>=1.21.1 in /usr/local/lib/python3.8/dist-packages (from requests[socks]->gdown) (1.24.3)\n",
            "Requirement already satisfied: idna<3,>=2.5 in /usr/local/lib/python3.8/dist-packages (from requests[socks]->gdown) (2.10)\n",
            "Requirement already satisfied: certifi>=2017.4.17 in /usr/local/lib/python3.8/dist-packages (from requests[socks]->gdown) (2022.12.7)\n",
            "Requirement already satisfied: chardet<5,>=3.0.2 in /usr/local/lib/python3.8/dist-packages (from requests[socks]->gdown) (4.0.0)\n",
            "Requirement already satisfied: PySocks!=1.5.7,>=1.5.6 in /usr/local/lib/python3.8/dist-packages (from requests[socks]->gdown) (1.7.1)\n",
            "Installing collected packages: gdown\n",
            "  Attempting uninstall: gdown\n",
            "    Found existing installation: gdown 4.4.0\n",
            "    Uninstalling gdown-4.4.0:\n",
            "      Successfully uninstalled gdown-4.4.0\n",
            "Successfully installed gdown-4.6.0\n"
          ]
        }
      ]
    },
    {
      "cell_type": "markdown",
      "source": [
        "If you look left, you should be able to see the three big .csv files on the lefthand side."
      ],
      "metadata": {
        "id": "miskYYfBeu45"
      }
    },
    {
      "cell_type": "markdown",
      "source": [
        "## Download zipcode-level socioeconomic data\n",
        "It's generally not known what census tract a business resides in, but the zipcode is almost always known. \n",
        "\n",
        "This repo (https://github.com/Ro-Data/Ro-Census-Summaries-By-Zipcode) has zipcode-level census attributes. I have downloaded all of the files to our local runtime on the left."
      ],
      "metadata": {
        "id": "zcF03DIPfPqq"
      }
    },
    {
      "cell_type": "code",
      "source": [
        "!gdown https://raw.githubusercontent.com/Ro-Data/Ro-Census-Summaries-By-Zipcode/master/econ.txt\n",
        "!gdown https://raw.githubusercontent.com/Ro-Data/Ro-Census-Summaries-By-Zipcode/master/demo.txt\n",
        "!gdown https://raw.githubusercontent.com/Ro-Data/Ro-Census-Summaries-By-Zipcode/master/housing.txt\n",
        "!gdown https://raw.githubusercontent.com/Ro-Data/Ro-Census-Summaries-By-Zipcode/master/rural_urban.txt\n",
        "!gdown https://raw.githubusercontent.com/Ro-Data/Ro-Census-Summaries-By-Zipcode/master/social.txt"
      ],
      "metadata": {
        "colab": {
          "base_uri": "https://localhost:8080/"
        },
        "id": "97iQRyaofvlD",
        "outputId": "036220e0-c294-4ab3-fc31-7c5b75a9761b"
      },
      "execution_count": null,
      "outputs": [
        {
          "output_type": "stream",
          "name": "stdout",
          "text": [
            "Downloading...\n",
            "From: https://raw.githubusercontent.com/Ro-Data/Ro-Census-Summaries-By-Zipcode/master/econ.txt\n",
            "To: /content/econ.txt\n",
            "49.7MB [00:00, 105MB/s]\n",
            "Downloading...\n",
            "From: https://raw.githubusercontent.com/Ro-Data/Ro-Census-Summaries-By-Zipcode/master/demo.txt\n",
            "To: /content/demo.txt\n",
            "26.7MB [00:00, 108MB/s]\n",
            "Downloading...\n",
            "From: https://raw.githubusercontent.com/Ro-Data/Ro-Census-Summaries-By-Zipcode/master/housing.txt\n",
            "To: /content/housing.txt\n",
            "49.0MB [00:00, 100MB/s]\n",
            "Downloading...\n",
            "From: https://raw.githubusercontent.com/Ro-Data/Ro-Census-Summaries-By-Zipcode/master/rural_urban.txt\n",
            "To: /content/rural_urban.txt\n",
            "923kB [00:00, 28.6MB/s]       \n",
            "Downloading...\n",
            "From: https://raw.githubusercontent.com/Ro-Data/Ro-Census-Summaries-By-Zipcode/master/social.txt\n",
            "To: /content/social.txt\n",
            "46.0MB [00:00, 104MB/s]\n"
          ]
        }
      ]
    },
    {
      "cell_type": "markdown",
      "source": [
        "# Install Spark"
      ],
      "metadata": {
        "id": "l0Riiafgg0Ot"
      }
    },
    {
      "cell_type": "code",
      "execution_count": null,
      "metadata": {
        "id": "H5Eqa_wqGE7c"
      },
      "outputs": [],
      "source": [
        "# install java\n",
        "!apt-get install openjdk-8-jdk-headless -qq > /dev/null\n",
        "\n",
        "# install spark (change the version number if needed)\n",
        "#!wget -q https://archive.apache.org/dist/spark/spark-3.0.0/spark-3.0.0-bin-hadoop3.2.tgz\n",
        "!wget -q https://downloads.apache.org/spark/spark-3.1.3/spark-3.1.3-bin-hadoop3.2.tgz # update this!\n",
        "\n",
        "# unzip the spark file to the current folder\n",
        "#!tar xf spark-3.0.0-bin-hadoop3.2.tgz\n",
        "!tar xf spark-3.1.3-bin-hadoop3.2.tgz # update this!\n",
        "\n",
        "# set your spark folder to your system path environment. \n",
        "import os\n",
        "os.environ[\"JAVA_HOME\"] = \"/usr/lib/jvm/java-8-openjdk-amd64\"\n",
        "os.environ[\"SPARK_HOME\"] = \"/content/spark-3.1.3-bin-hadoop3.2\" # update this!\n",
        "\n",
        "\n",
        "# install findspark using pip\n",
        "!pip install -q findspark\n",
        "\n",
        "# findspark\n",
        "import findspark\n",
        "findspark.init()"
      ]
    },
    {
      "cell_type": "markdown",
      "source": [
        "# Start session"
      ],
      "metadata": {
        "id": "CRxEW8DkGXCF"
      }
    },
    {
      "cell_type": "markdown",
      "source": [
        "We start the builder pattern `SparkSession.builder` and then chain a configuration parameter that defined the application name."
      ],
      "metadata": {
        "id": "JuJ0P_fPhMro"
      }
    },
    {
      "cell_type": "markdown",
      "source": [
        "Providing a useful `appName` helps you identify which programs are running on your Spark cluster."
      ],
      "metadata": {
        "id": "J2w5YYf2hsUx"
      }
    },
    {
      "cell_type": "code",
      "source": [
        "from pyspark.sql import SparkSession\n",
        "import pyspark.sql.functions as F\n",
        "\n",
        "spark = SparkSession.builder\\\n",
        "        .appName(\"Project1_EDA_with_PySpark\")\\\n",
        "        .getOrCreate()"
      ],
      "metadata": {
        "id": "O3AIwdPaGWTy"
      },
      "execution_count": null,
      "outputs": []
    },
    {
      "cell_type": "code",
      "source": [
        "# for concise script, we import all functions as F\n",
        "import pyspark.sql.functions as F"
      ],
      "metadata": {
        "id": "-UEZxn3yBxNQ"
      },
      "execution_count": null,
      "outputs": []
    },
    {
      "cell_type": "markdown",
      "source": [
        "# 🔴 Organize your folders (5 pts)"
      ],
      "metadata": {
        "id": "r5Hvs1R5EJqr"
      }
    },
    {
      "cell_type": "markdown",
      "source": [
        "## (1) Create a folder on the local runtime called 'census' and copy all of the .txt files over to this folder\n",
        "Like we did in class!"
      ],
      "metadata": {
        "id": "4QmlwI_Khtco"
      }
    },
    {
      "cell_type": "code",
      "source": [
        "# make a directory called census\n",
        "!pwd \"/content\"\n",
        "! mkdir \"census\""
      ],
      "metadata": {
        "id": "woUFusuGh_tH",
        "colab": {
          "base_uri": "https://localhost:8080/"
        },
        "outputId": "8f8fbfbc-2877-45ad-ca95-132497cf154c"
      },
      "execution_count": null,
      "outputs": [
        {
          "output_type": "stream",
          "name": "stdout",
          "text": [
            "/content\n"
          ]
        }
      ]
    },
    {
      "cell_type": "code",
      "source": [
        "# move all of the txt files we just downloaded\n",
        "! mv demo.txt social.txt econ.txt housing.txt rural_urban.txt \"census\" "
      ],
      "metadata": {
        "id": "NFm3e40Gj2Pb"
      },
      "execution_count": null,
      "outputs": []
    },
    {
      "cell_type": "markdown",
      "source": [
        "## (2) Create a folder on the local runtime called 'PPP' and copy all of the .csv files over to this folder\n",
        "Like we did in class! Use mv and not cp."
      ],
      "metadata": {
        "id": "tsO8jVgy8Vna"
      }
    },
    {
      "cell_type": "code",
      "source": [
        "# make a directory called PPP\n",
        "! mkdir \"PPP\""
      ],
      "metadata": {
        "id": "Qu0_pDlrnJKF"
      },
      "execution_count": null,
      "outputs": []
    },
    {
      "cell_type": "code",
      "source": [
        "# move all of the csv files we just downloaded\n",
        "! mv public_150k_plus_230101.csv public_up_to_150k_1_230101.csv public_up_to_150k_2_230101.csv \"PPP\""
      ],
      "metadata": {
        "id": "c4zTna5onGea"
      },
      "execution_count": null,
      "outputs": []
    },
    {
      "cell_type": "markdown",
      "source": [
        "# 🔴 Clean the PPP data (10 points)"
      ],
      "metadata": {
        "id": "rE34nkW2EcGf"
      }
    },
    {
      "cell_type": "markdown",
      "source": [
        "## (1) Append/concatenate all of the PPP csv files together\n",
        "You should end up with ~2.76M rows and 53 columns if you did it right. You only need one line of code if you use the wildcard. Make sure you print the rows and column count to check your work or points off!"
      ],
      "metadata": {
        "id": "NOSbkyu5pCpj"
      }
    },
    {
      "cell_type": "code",
      "source": [
        "pppDF = spark.read.option(\"header\",\"true\").option(\"inferSchema\",\"true\").csv(\"/content/PPP/*\")\n",
        "print((pppDF.count(), len(pppDF.columns)))"
      ],
      "metadata": {
        "colab": {
          "base_uri": "https://localhost:8080/"
        },
        "id": "zUh8hjEE4Z_e",
        "outputId": "ec064c3c-f15e-4784-b98a-b63c5d4c03e9"
      },
      "execution_count": null,
      "outputs": [
        {
          "output_type": "stream",
          "name": "stdout",
          "text": [
            "(2768531, 53)\n"
          ]
        }
      ]
    },
    {
      "cell_type": "code",
      "source": [
        "pppDF.show(10)"
      ],
      "metadata": {
        "colab": {
          "base_uri": "https://localhost:8080/"
        },
        "id": "Rty9YTF878UY",
        "outputId": "68c4573c-b3fa-4577-d54a-6349b442be30"
      },
      "execution_count": null,
      "outputs": [
        {
          "output_type": "stream",
          "name": "stdout",
          "text": [
            "+----------+------------+-------------+----------------+--------------------+--------------------+----------------+-------------+-----------+--------------+------------+----+---------------------+---------------------+---------------------+-----------------+-------------+-------------------------+--------------------+----------------------+-------------------+--------------------+------------------+-------------------+----------------+------------+----------------------+----------------+-----------------+------------+----------+-----+------------+---------+--------------------+--------------------+-----------------+---------------+-------------------------+------------+----------------------+-------------------+---------------------+--------------------+---------------------------+--------------------+---------------------+----------------------+----------+-----------+---------+-----------------+---------------+\n",
            "|LoanNumber|DateApproved|SBAOfficeCode|ProcessingMethod|        BorrowerName|     BorrowerAddress|    BorrowerCity|BorrowerState|BorrowerZip|LoanStatusDate|  LoanStatus|Term|SBAGuarantyPercentage|InitialApprovalAmount|CurrentApprovalAmount|UndisbursedAmount|FranchiseName|ServicingLenderLocationID| ServicingLenderName|ServicingLenderAddress|ServicingLenderCity|ServicingLenderState|ServicingLenderZip|RuralUrbanIndicator|HubzoneIndicator|LMIIndicator|BusinessAgeDescription|     ProjectCity|ProjectCountyName|ProjectState|ProjectZip|   CD|JobsReported|NAICSCode|                Race|           Ethnicity|UTILITIES_PROCEED|PAYROLL_PROCEED|MORTGAGE_INTEREST_PROCEED|RENT_PROCEED|REFINANCE_EIDL_PROCEED|HEALTH_CARE_PROCEED|DEBT_INTEREST_PROCEED|        BusinessType|OriginatingLenderLocationID|   OriginatingLender|OriginatingLenderCity|OriginatingLenderState|    Gender|    Veteran|NonProfit|ForgivenessAmount|ForgivenessDate|\n",
            "+----------+------------+-------------+----------------+--------------------+--------------------+----------------+-------------+-----------+--------------+------------+----+---------------------+---------------------+---------------------+-----------------+-------------+-------------------------+--------------------+----------------------+-------------------+--------------------+------------------+-------------------+----------------+------------+----------------------+----------------+-----------------+------------+----------+-----+------------+---------+--------------------+--------------------+-----------------+---------------+-------------------------+------------+----------------------+-------------------+---------------------+--------------------+---------------------------+--------------------+---------------------+----------------------+----------+-----------+---------+-----------------+---------------+\n",
            "|9547507704|  05/01/2020|          464|             PPP|SUMTER COATINGS, ...|2410 Highway 15 S...|          Sumter|         null| 29150-9662|    12/18/2020|Paid in Full|  24|                  100|            769358.78|            769358.78|              0.0|         null|                    19248|        Synovus Bank|         1148 Broadway|           COLUMBUS|                  GA|        31901-2429|                  U|               N|           N|  Existing or more ...|          Sumter|           SUMTER|          SC|29150-9662|SC-05|          62|   325510|          Unanswered|   Unknown/NotStated|             null|      769358.78|                     null|        null|                  null|               null|                 null|         Corporation|                      19248|        Synovus Bank|             COLUMBUS|                    GA|Unanswered| Unanswered|     null|        773553.37|     11/20/2020|\n",
            "|9777677704|  05/01/2020|          464|             PPP|PLEASANT PLACES, ...| 7684 Southrail Road|North Charleston|         null| 29420-9000|    09/28/2021|Paid in Full|  24|                  100|            736927.79|            736927.79|              0.0|         null|                    19248|        Synovus Bank|         1148 Broadway|           COLUMBUS|                  GA|        31901-2429|                  U|               Y|           Y|  Existing or more ...|North Charleston|       CHARLESTON|          SC|29420-9000|SC-06|          73|   561730|               White|   Unknown/NotStated|             null|      736927.79|                     null|        null|                  null|               null|                 null| Sole Proprietorship|                      19248|        Synovus Bank|             COLUMBUS|                    GA|Male Owned|Non-Veteran|     null|        746336.24|     08/12/2021|\n",
            "|5791407702|  05/01/2020|         1013|             PPP|BOYER CHILDREN'S ...|    1850 BOYER AVE E|         SEATTLE|         null| 98112-2922|    03/17/2021|Paid in Full|  24|                  100|             691355.0|             691355.0|              0.0|         null|                     9551|Bank of America, ...|  100 N Tryon St, S...|          CHARLOTTE|                  NC|        28202-4024|                  U|               N|           N|  New Business or 2...|         SEATTLE|             KING|          WA|98112-2922|WA-07|          75|     null|          Unanswered|   Unknown/NotStated|             null|         691355|                     null|        null|                  null|               null|                 null|Non-Profit Organi...|                       9551|Bank of America, ...|            CHARLOTTE|                    NC|Unanswered| Unanswered|        Y|        696677.49|     02/10/2021|\n",
            "|6223567700|  05/01/2020|          920|             PPP|KIRTLEY CONSTRUCT...|1661 MARTIN RANCH RD|  SAN BERNARDINO|         null| 92407-1740|    10/16/2021|Paid in Full|  24|                  100|             499871.0|             499871.0|              0.0|         null|                     9551|Bank of America, ...|  100 N Tryon St, S...|          CHARLOTTE|                  NC|        28202-4024|                  U|               N|           N|  New Business or 2...|  SAN BERNARDINO|   SAN BERNARDINO|          CA|92407-1740|CA-08|          21|   236115|American Indian o...|Not Hispanic or L...|             null|         499871|                     null|        null|                  null|               null|                 null|         Corporation|                       9551|Bank of America, ...|            CHARLOTTE|                    NC|Male Owned|Non-Veteran|     null|        395264.11|     09/10/2021|\n",
            "|9662437702|  05/01/2020|          101|             PPP|        AERO BOX LLC|                 N/A|             N/A|         null|       null|    08/17/2021|Paid in Full|  24|                  100|             367437.0|             367437.0|              0.0|         null|                    57328|The Huntington Na...|         17 S High St.|           COLUMBUS|                  OH|        43215-3413|                  U|               N|           N|            Unanswered|             N/A|             null|          NA|       N/A| null|          25|   484210|          Unanswered|   Unknown/NotStated|             null|         367437|                     null|        null|                  null|               null|                 null|                null|                      57328|The Huntington Na...|             COLUMBUS|                    OH|Unanswered| Unanswered|     null|        370819.35|     04/08/2021|\n",
            "|9774337701|  05/01/2020|          101|             PPP|HUDSON EXTRUSIONS...|                 N/A|             N/A|         null|       null|    11/17/2021|Paid in Full|  24|                  100|             328840.0|             328840.0|              0.0|         null|                    57328|The Huntington Na...|         17 S High St.|           COLUMBUS|                  OH|        43215-3413|                  U|               N|           N|            Unanswered|             N/A|             null|          NA|       N/A| null|          22|   326199|          Unanswered|   Unknown/NotStated|             null|         328840|                     null|        null|                  null|               null|                 null|                null|                      57328|The Huntington Na...|             COLUMBUS|                    OH|Unanswered| Unanswered|     null|        332137.41|     05/10/2021|\n",
            "|9794577700|  05/01/2020|          491|             PPP|FRUIT COVE BAPTIS...|   501 State Road 13|     Saint Johns|         null| 32259-2832|    02/19/2021|Paid in Full|  24|                  100|             289765.0|             289765.0|              0.0|         null|                    19248|        Synovus Bank|         1148 Broadway|           COLUMBUS|                  GA|        31901-2429|                  U|               N|           N|  Existing or more ...|     Saint Johns|      SAINT JOHNS|          FL|32259-2832|FL-04|          89|   813110|          Unanswered|   Unknown/NotStated|             null|         289765|                     null|        null|                  null|               null|                 null|Non-Profit Organi...|                      19248|        Synovus Bank|             COLUMBUS|                    GA|Unanswered| Unanswered|        Y|        291741.75|     01/07/2021|\n",
            "|9722187702|  05/01/2020|          101|             PPP|MIAMITOWN AUTO PA...|                 N/A|             N/A|         null|       null|    02/24/2021|Paid in Full|  24|                  100|             272380.0|             272380.0|              0.0|         null|                    57328|The Huntington Na...|         17 S High St.|           COLUMBUS|                  OH|        43215-3413|                  U|               N|           N|            Unanswered|             N/A|             null|          NA|       N/A| null|          19|   423140|          Unanswered|   Unknown/NotStated|             null|         272380|                     null|        null|                  null|               null|                 null|         Corporation|                      57328|The Huntington Na...|             COLUMBUS|                    OH|Unanswered| Unanswered|     null|        269416.44|     01/25/2021|\n",
            "|9725917702|  05/01/2020|          101|             PPP|      POPPYCOCKS INC|                 N/A|             N/A|         null|       null|    08/17/2021|Paid in Full|  24|                  100|             257088.0|             257088.0|              0.0|         null|                    57328|The Huntington Na...|         17 S High St.|           COLUMBUS|                  OH|        43215-3413|                  U|               N|           N|            Unanswered|             N/A|             null|          NA|       N/A| null|          18|   444220|          Unanswered|   Unknown/NotStated|             null|         257088|                     null|        null|                  null|               null|                 null|Subchapter S Corp...|                      57328|The Huntington Na...|             COLUMBUS|                    OH|Unanswered| Unanswered|     null|        259982.88|     06/24/2021|\n",
            "|9666867710|  05/01/2020|          101|             PPP|CHURCH SQUARE PHA...|                 N/A|             N/A|         null|       null|    04/21/2021|Paid in Full|  24|                  100|             250000.0|             250000.0|              0.0|         null|                    57328|The Huntington Na...|         17 S High St.|           COLUMBUS|                  OH|        43215-3413|                  U|               N|           N|            Unanswered|             N/A|             null|          NA|       N/A| null|          17|   424210|          Unanswered|   Unknown/NotStated|             null|         250000|                     null|        null|                  null|               null|                 null|         Corporation|                      57328|The Huntington Na...|             COLUMBUS|                    OH|Unanswered| Unanswered|     null|        252253.42|     03/31/2021|\n",
            "+----------+------------+-------------+----------------+--------------------+--------------------+----------------+-------------+-----------+--------------+------------+----+---------------------+---------------------+---------------------+-----------------+-------------+-------------------------+--------------------+----------------------+-------------------+--------------------+------------------+-------------------+----------------+------------+----------------------+----------------+-----------------+------------+----------+-----+------------+---------+--------------------+--------------------+-----------------+---------------+-------------------------+------------+----------------------+-------------------+---------------------+--------------------+---------------------------+--------------------+---------------------+----------------------+----------+-----------+---------+-----------------+---------------+\n",
            "only showing top 10 rows\n",
            "\n"
          ]
        }
      ]
    },
    {
      "cell_type": "markdown",
      "source": [
        "## (2) Clean the zipcode column for PPP files\n",
        "There are some that are missing and there are some that have a long format (12345-6789).\n",
        "\n",
        "We only want records where the `BorrowerZip`:\n",
        "*  zip code exists (is non-null)\n",
        "*  if it does exist, make return only the first 5 digits (https://www.datasciencemadesimple.com/extract-first-n-and-last-n-character-in-pyspark/)\n",
        "\n",
        "Now answer:\n",
        "* How many rows did you drop? \n",
        "* What percentage of the original data was returned? Do you think this is acceptable data quality?"
      ],
      "metadata": {
        "id": "MGdzCWWXqYbh"
      }
    },
    {
      "cell_type": "code",
      "source": [
        "pppDF = pppDF.withColumn(\"BorrowerZip\",pppDF.BorrowerZip.substr(1,5)).dropna(subset=[\"BorrowerZip\"])\n",
        "pppDF.show(10)\n",
        "print((pppDF.count(), len(pppDF.columns)))"
      ],
      "metadata": {
        "colab": {
          "base_uri": "https://localhost:8080/"
        },
        "id": "8HPbdTLc-wdP",
        "outputId": "de57bec2-8f23-4bb0-f1b1-5482139dff4c"
      },
      "execution_count": null,
      "outputs": [
        {
          "output_type": "stream",
          "name": "stdout",
          "text": [
            "+----------+------------+-------------+----------------+--------------------+--------------------+----------------+-------------+-----------+--------------+------------+----+---------------------+---------------------+---------------------+-----------------+-------------+-------------------------+--------------------+----------------------+-------------------+--------------------+------------------+-------------------+----------------+------------+----------------------+----------------+-----------------+------------+----------+-----+------------+---------+--------------------+--------------------+-----------------+---------------+-------------------------+------------+----------------------+-------------------+---------------------+--------------------+---------------------------+--------------------+---------------------+----------------------+----------+-----------+---------+-----------------+---------------+\n",
            "|LoanNumber|DateApproved|SBAOfficeCode|ProcessingMethod|        BorrowerName|     BorrowerAddress|    BorrowerCity|BorrowerState|BorrowerZip|LoanStatusDate|  LoanStatus|Term|SBAGuarantyPercentage|InitialApprovalAmount|CurrentApprovalAmount|UndisbursedAmount|FranchiseName|ServicingLenderLocationID| ServicingLenderName|ServicingLenderAddress|ServicingLenderCity|ServicingLenderState|ServicingLenderZip|RuralUrbanIndicator|HubzoneIndicator|LMIIndicator|BusinessAgeDescription|     ProjectCity|ProjectCountyName|ProjectState|ProjectZip|   CD|JobsReported|NAICSCode|                Race|           Ethnicity|UTILITIES_PROCEED|PAYROLL_PROCEED|MORTGAGE_INTEREST_PROCEED|RENT_PROCEED|REFINANCE_EIDL_PROCEED|HEALTH_CARE_PROCEED|DEBT_INTEREST_PROCEED|        BusinessType|OriginatingLenderLocationID|   OriginatingLender|OriginatingLenderCity|OriginatingLenderState|    Gender|    Veteran|NonProfit|ForgivenessAmount|ForgivenessDate|\n",
            "+----------+------------+-------------+----------------+--------------------+--------------------+----------------+-------------+-----------+--------------+------------+----+---------------------+---------------------+---------------------+-----------------+-------------+-------------------------+--------------------+----------------------+-------------------+--------------------+------------------+-------------------+----------------+------------+----------------------+----------------+-----------------+------------+----------+-----+------------+---------+--------------------+--------------------+-----------------+---------------+-------------------------+------------+----------------------+-------------------+---------------------+--------------------+---------------------------+--------------------+---------------------+----------------------+----------+-----------+---------+-----------------+---------------+\n",
            "|9547507704|  05/01/2020|          464|             PPP|SUMTER COATINGS, ...|2410 Highway 15 S...|          Sumter|         null|      29150|    12/18/2020|Paid in Full|  24|                  100|            769358.78|            769358.78|              0.0|         null|                    19248|        Synovus Bank|         1148 Broadway|           COLUMBUS|                  GA|        31901-2429|                  U|               N|           N|  Existing or more ...|          Sumter|           SUMTER|          SC|29150-9662|SC-05|          62|   325510|          Unanswered|   Unknown/NotStated|             null|      769358.78|                     null|        null|                  null|               null|                 null|         Corporation|                      19248|        Synovus Bank|             COLUMBUS|                    GA|Unanswered| Unanswered|     null|        773553.37|     11/20/2020|\n",
            "|9777677704|  05/01/2020|          464|             PPP|PLEASANT PLACES, ...| 7684 Southrail Road|North Charleston|         null|      29420|    09/28/2021|Paid in Full|  24|                  100|            736927.79|            736927.79|              0.0|         null|                    19248|        Synovus Bank|         1148 Broadway|           COLUMBUS|                  GA|        31901-2429|                  U|               Y|           Y|  Existing or more ...|North Charleston|       CHARLESTON|          SC|29420-9000|SC-06|          73|   561730|               White|   Unknown/NotStated|             null|      736927.79|                     null|        null|                  null|               null|                 null| Sole Proprietorship|                      19248|        Synovus Bank|             COLUMBUS|                    GA|Male Owned|Non-Veteran|     null|        746336.24|     08/12/2021|\n",
            "|5791407702|  05/01/2020|         1013|             PPP|BOYER CHILDREN'S ...|    1850 BOYER AVE E|         SEATTLE|         null|      98112|    03/17/2021|Paid in Full|  24|                  100|             691355.0|             691355.0|              0.0|         null|                     9551|Bank of America, ...|  100 N Tryon St, S...|          CHARLOTTE|                  NC|        28202-4024|                  U|               N|           N|  New Business or 2...|         SEATTLE|             KING|          WA|98112-2922|WA-07|          75|     null|          Unanswered|   Unknown/NotStated|             null|         691355|                     null|        null|                  null|               null|                 null|Non-Profit Organi...|                       9551|Bank of America, ...|            CHARLOTTE|                    NC|Unanswered| Unanswered|        Y|        696677.49|     02/10/2021|\n",
            "|6223567700|  05/01/2020|          920|             PPP|KIRTLEY CONSTRUCT...|1661 MARTIN RANCH RD|  SAN BERNARDINO|         null|      92407|    10/16/2021|Paid in Full|  24|                  100|             499871.0|             499871.0|              0.0|         null|                     9551|Bank of America, ...|  100 N Tryon St, S...|          CHARLOTTE|                  NC|        28202-4024|                  U|               N|           N|  New Business or 2...|  SAN BERNARDINO|   SAN BERNARDINO|          CA|92407-1740|CA-08|          21|   236115|American Indian o...|Not Hispanic or L...|             null|         499871|                     null|        null|                  null|               null|                 null|         Corporation|                       9551|Bank of America, ...|            CHARLOTTE|                    NC|Male Owned|Non-Veteran|     null|        395264.11|     09/10/2021|\n",
            "|9794577700|  05/01/2020|          491|             PPP|FRUIT COVE BAPTIS...|   501 State Road 13|     Saint Johns|         null|      32259|    02/19/2021|Paid in Full|  24|                  100|             289765.0|             289765.0|              0.0|         null|                    19248|        Synovus Bank|         1148 Broadway|           COLUMBUS|                  GA|        31901-2429|                  U|               N|           N|  Existing or more ...|     Saint Johns|      SAINT JOHNS|          FL|32259-2832|FL-04|          89|   813110|          Unanswered|   Unknown/NotStated|             null|         289765|                     null|        null|                  null|               null|                 null|Non-Profit Organi...|                      19248|        Synovus Bank|             COLUMBUS|                    GA|Unanswered| Unanswered|        Y|        291741.75|     01/07/2021|\n",
            "|5502308207|  08/08/2020|         1084|             PPP|KAKIVIK ASSET MAN...|5015 BUSINESS PAR...|       ANCHORAGE|           AK|      99503|    07/22/2021|Paid in Full|  60|                  100|            9571397.0|            9538531.0|              0.0|         null|                   116975|       Northrim Bank|           3111 'C' St|          ANCHORAGE|                  AK|             99503|                  U|               Y|           Y|  Existing or more ...|       ANCHORAGE|        ANCHORAGE|          AK|99503-7146|  AK-|         385|   541990|          Unanswered|   Unknown/NotStated|             null|        9538531|                     null|        null|                  null|               null|                 null|Limited  Liabilit...|                     116975|       Northrim Bank|            ANCHORAGE|                    AK|Unanswered| Unanswered|     null|       9615884.57|     06/11/2021|\n",
            "|6110847106|  04/14/2020|         1084|             PPP|ARCTIC SLOPE NATI...|        7000 Uula St|          BARROW|           AK|      99723|    08/21/2021|Paid in Full|  24|                  100|            7666768.0|            7666768.0|              0.0|         null|                    89628|National Cooperat...|         139 S High St|          HILLSBORO|                  OH|        45133-1442|                  R|               N|           N|  Existing or more ...|          BARROW|      NORTH SLOPE|          AK|99723-0001|  AK-|         295|   813920|          Unanswered|   Unknown/NotStated|             null|        7666768|                     null|        null|                  null|               null|                 null|Non-Profit Organi...|                      89628|National Cooperat...|            HILLSBORO|                    OH|Unanswered| Unanswered|        Y|       7761324.81|     07/13/2021|\n",
            "|4539098204|  08/06/2020|         1084|             PPP| CORVUS AIRLINES INC|4700 Old Internat...|       Anchorage|           AK|      99502|          null| Exemption 4|  60|                  100|           7398947.89|           7398947.89|              0.0|         null|                   436276|    Idaho First Bank|     475 E Deinhard Ln|             MCCALL|                  ID|        83638-4800|                  U|               N|           N|  Existing or more ...|       Anchorage|        ANCHORAGE|          AK|99502-1130|  AK-|         500|   481111|          Unanswered|   Unknown/NotStated|             null|     7398947.89|                     null|        null|                  null|               null|                 null|         Corporation|                     436276|    Idaho First Bank|               MCCALL|                    ID|Unanswered| Unanswered|     null|       4891430.37|     06/22/2022|\n",
            "|5120868804|  04/17/2021|         1084|             PPP|HOPE COMMUNITY RE...|540 W Intl Airpor...|       Anchorage|           AK|      99518|    10/06/2022|Paid in Full|  60|                  100|            7223025.0|            7223025.0|              0.0|         null|                     3386|First National Ba...|        101 W 36th Ave|          ANCHORAGE|                  AK|        99503-5904|                  U|               N|           N|  Existing or more ...|       Anchorage|        ANCHORAGE|          AK|99518-1105|  AK-|         500|   624120|          Unanswered|   Unknown/NotStated|             null|        7223025|                     null|        null|                  null|               null|                 null|501(c)3 – Non Profit|                       3386|First National Ba...|            ANCHORAGE|                    AK|Unanswered| Unanswered|        Y|       7321970.55|     09/13/2022|\n",
            "|6650277102|  04/14/2020|         1084|             PPP|SOUTH PENINSULA H...|4300 BARTLETT STREET|           HOMER|           AK|      99603|    06/09/2021|Paid in Full|  24|                  100|            6528631.4|            6528631.4|              0.0|         null|                     3386|First National Ba...|        101 W 36th Ave|          ANCHORAGE|                  AK|        99503-5904|                  R|               Y|           N|  Existing or more ...|           HOMER|  KENAI PENINSULA|          AK|99603-0001|  AK-|         439|   622110|          Unanswered|   Unknown/NotStated|             null|     5037890.65|                     null|        null|                  null|         1490740.75|                 null|         Corporation|                       3386|First National Ba...|            ANCHORAGE|                    AK|Unanswered| Unanswered|     null|       6598389.38|     05/18/2021|\n",
            "+----------+------------+-------------+----------------+--------------------+--------------------+----------------+-------------+-----------+--------------+------------+----+---------------------+---------------------+---------------------+-----------------+-------------+-------------------------+--------------------+----------------------+-------------------+--------------------+------------------+-------------------+----------------+------------+----------------------+----------------+-----------------+------------+----------+-----+------------+---------+--------------------+--------------------+-----------------+---------------+-------------------------+------------+----------------------+-------------------+---------------------+--------------------+---------------------------+--------------------+---------------------+----------------------+----------+-----------+---------+-----------------+---------------+\n",
            "only showing top 10 rows\n",
            "\n",
            "(2768370, 53)\n"
          ]
        }
      ]
    },
    {
      "cell_type": "markdown",
      "source": [
        "We dropped 160 rows and that is 0.057%.\n",
        "The data quality acceptable."
      ],
      "metadata": {
        "id": "hVtuuPP6Hq43"
      }
    },
    {
      "cell_type": "markdown",
      "source": [
        "# 🔴 Clean up ALL census files (10 points)\n",
        "Try to use as little code as possible. You should end up with exactly 33120 rows and ~900 columns (depending on if you dropped the dirty zip code column.)"
      ],
      "metadata": {
        "id": "-dtzAgMW8rjj"
      }
    },
    {
      "cell_type": "markdown",
      "source": [
        "## (1) Read the files"
      ],
      "metadata": {
        "id": "lGJsqYfMqkTd"
      }
    },
    {
      "cell_type": "code",
      "source": [
        "customSchema = StructType([\n",
        "    StructField(\"ZCTA5\", StringType(), True)])"
      ],
      "metadata": {
        "id": "JzJGyyN0fmka"
      },
      "execution_count": null,
      "outputs": []
    },
    {
      "cell_type": "code",
      "source": [
        "zipcodesDF = spark.read.options(delimiter=\"\\t\").schema(customSchema).option(\"header\", \"true\").csv(\"/content/census/demo.txt\")\n",
        "demoDF = spark.read.options(delimiter=\"\\t\").option(\"inferSchema\", \"true\").option(\"header\", \"true\").csv(\"/content/census/demo.txt\")\n",
        "econDF = spark.read.options(delimiter=\"\\t\").option(\"inferSchema\", \"true\").option(\"header\", \"true\").csv(\"/content/census/econ.txt\")\n",
        "housingDF = spark.read.options(delimiter=\"\\t\").option(\"inferSchema\", \"true\").option(\"header\", \"true\").csv(\"/content/census/housing.txt\")\n",
        "ruralUrbanDF = spark.read.options(delimiter=\"\\t\").option(\"inferSchema\", \"true\").option(\"header\", \"true\").csv(\"/content/census/rural_urban.txt\")\n",
        "socialDF = spark.read.options(delimiter=\"\\t\").option(\"inferSchema\", \"true\").option(\"header\", \"true\").csv(\"/content/census/social.txt\")"
      ],
      "metadata": {
        "id": "pCIrUsTYoNaQ"
      },
      "execution_count": null,
      "outputs": []
    },
    {
      "cell_type": "code",
      "source": [
        "zipcodesDF.printSchema()"
      ],
      "metadata": {
        "colab": {
          "base_uri": "https://localhost:8080/"
        },
        "id": "Jyxv_BJhWcE1",
        "outputId": "2c439cc0-bc64-48b9-e302-187a56b3e5c7"
      },
      "execution_count": null,
      "outputs": [
        {
          "output_type": "stream",
          "name": "stdout",
          "text": [
            "root\n",
            " |-- ZCTA5: string (nullable = true)\n",
            "\n"
          ]
        }
      ]
    },
    {
      "cell_type": "markdown",
      "source": [
        "## (2) Join files together"
      ],
      "metadata": {
        "id": "AoHYlnTxqy9Z"
      }
    },
    {
      "cell_type": "markdown",
      "source": [
        "Hint: everything except the zipcode column should be converted to float... check the schema to be sure...\n",
        "* https://sparkbyexamples.com/pyspark/pyspark-join-two-or-multiple-dataframes/"
      ],
      "metadata": {
        "id": "ukF0-_U8oQ03"
      }
    },
    {
      "cell_type": "code",
      "source": [
        "censusDF = demoDF.join(econDF,[\"ZCTA5\"])\\\n",
        "  .join(housingDF,[\"ZCTA5\"])\\\n",
        "  .join(ruralUrbanDF,[\"ZCTA5\"])\\\n",
        "  .join(socialDF,[\"ZCTA5\"])\n"
      ],
      "metadata": {
        "id": "G-X7ZhBloPMd"
      },
      "execution_count": null,
      "outputs": []
    },
    {
      "cell_type": "code",
      "source": [
        "cesusDF.printSchema()"
      ],
      "metadata": {
        "colab": {
          "base_uri": "https://localhost:8080/"
        },
        "id": "BHzjWiiXcGdV",
        "outputId": "d46cd1fe-694e-4853-e1db-c77b0a49d47a"
      },
      "execution_count": null,
      "outputs": [
        {
          "output_type": "stream",
          "name": "stdout",
          "text": [
            "root\n",
            " |-- ZCTA5: integer (nullable = true)\n",
            " |-- sex_and_age-population-total_population: integer (nullable = true)\n",
            " |-- sex_and_age-population-male_total_population: integer (nullable = true)\n",
            " |-- sex_and_age-percent-male-of-total_population: double (nullable = true)\n",
            " |-- sex_and_age-population-female_total_population: integer (nullable = true)\n",
            " |-- sex_and_age-percent-female-of-total_population: double (nullable = true)\n",
            " |-- sex_and_age-population-under_5_years_total_population: integer (nullable = true)\n",
            " |-- sex_and_age-percent-under_5_years-of-total_population: double (nullable = true)\n",
            " |-- sex_and_age-population-5_to_9_years_total_population: integer (nullable = true)\n",
            " |-- sex_and_age-percent-5_to_9_years-of-total_population: double (nullable = true)\n",
            " |-- sex_and_age-population-10_to_14_years_total_population: integer (nullable = true)\n",
            " |-- sex_and_age-percent-10_to_14_years-of-total_population: double (nullable = true)\n",
            " |-- sex_and_age-population-15_to_19_years_total_population: integer (nullable = true)\n",
            " |-- sex_and_age-percent-15_to_19_years-of-total_population: double (nullable = true)\n",
            " |-- sex_and_age-population-20_to_24_years_total_population: integer (nullable = true)\n",
            " |-- sex_and_age-percent-20_to_24_years-of-total_population: double (nullable = true)\n",
            " |-- sex_and_age-population-25_to_34_years_total_population: integer (nullable = true)\n",
            " |-- sex_and_age-percent-25_to_34_years-of-total_population: double (nullable = true)\n",
            " |-- sex_and_age-population-35_to_44_years_total_population: integer (nullable = true)\n",
            " |-- sex_and_age-percent-35_to_44_years-of-total_population: double (nullable = true)\n",
            " |-- sex_and_age-population-45_to_54_years_total_population: integer (nullable = true)\n",
            " |-- sex_and_age-percent-45_to_54_years-of-total_population: double (nullable = true)\n",
            " |-- sex_and_age-population-55_to_59_years_total_population: integer (nullable = true)\n",
            " |-- sex_and_age-percent-55_to_59_years-of-total_population: double (nullable = true)\n",
            " |-- sex_and_age-population-60_to_64_years_total_population: integer (nullable = true)\n",
            " |-- sex_and_age-percent-60_to_64_years-of-total_population: double (nullable = true)\n",
            " |-- sex_and_age-population-65_to_74_years_total_population: integer (nullable = true)\n",
            " |-- sex_and_age-percent-65_to_74_years-of-total_population: double (nullable = true)\n",
            " |-- sex_and_age-population-75_to_84_years_total_population: integer (nullable = true)\n",
            " |-- sex_and_age-percent-75_to_84_years-of-total_population: double (nullable = true)\n",
            " |-- sex_and_age-population-85_years_and_over_total_population: integer (nullable = true)\n",
            " |-- sex_and_age-percent-85_years_and_over-of-total_population: double (nullable = true)\n",
            " |-- sex_and_age-age-median_age_years_total_population: double (nullable = true)\n",
            " |-- sex_and_age-population-18_years_and_over_total_population: integer (nullable = true)\n",
            " |-- sex_and_age-percent-18_years_and_over-of-total_population: double (nullable = true)\n",
            " |-- sex_and_age-population-21_years_and_over_total_population: integer (nullable = true)\n",
            " |-- sex_and_age-percent-21_years_and_over-of-total_population: double (nullable = true)\n",
            " |-- sex_and_age-population-62_years_and_over_total_population: integer (nullable = true)\n",
            " |-- sex_and_age-percent-62_years_and_over-of-total_population: double (nullable = true)\n",
            " |-- sex_and_age-population-65_years_and_over_total_population: integer (nullable = true)\n",
            " |-- sex_and_age-percent-65_years_and_over-of-total_population: double (nullable = true)\n",
            " |-- sex_and_age-population-male_18_years_and_over_population: integer (nullable = true)\n",
            " |-- sex_and_age-percent-male-of-18_years_and_over_population: double (nullable = true)\n",
            " |-- sex_and_age-population-female_18_years_and_over_population: integer (nullable = true)\n",
            " |-- sex_and_age-percent-female-of-18_years_and_over_population: double (nullable = true)\n",
            " |-- sex_and_age-population-male_65_years_and_over_population: integer (nullable = true)\n",
            " |-- sex_and_age-percent-male-of-65_years_and_over_population: double (nullable = true)\n",
            " |-- sex_and_age-population-female_65_years_and_over_population: integer (nullable = true)\n",
            " |-- sex_and_age-percent-female-of-65_years_and_over_population: double (nullable = true)\n",
            " |-- race-population-total_population: integer (nullable = true)\n",
            " |-- race-population-one_race_total_population: integer (nullable = true)\n",
            " |-- race-percent-one_race-of-total_population: double (nullable = true)\n",
            " |-- race-population-two_or_more_races_total_population: integer (nullable = true)\n",
            " |-- race-percent-two_or_more_races-of-total_population: double (nullable = true)\n",
            " |-- race-population-one_race_white_total_population: integer (nullable = true)\n",
            " |-- race-percent-one_race_white-of-total_population: double (nullable = true)\n",
            " |-- race-population-one_race_black_total_population: integer (nullable = true)\n",
            " |-- race-percent-one_race_black-of-total_population: double (nullable = true)\n",
            " |-- race-population-one_race_american_indian_and_alaska_native_total_population: integer (nullable = true)\n",
            " |-- race-percent-one_race_american_indian_and_alaska_native-of-total_population: double (nullable = true)\n",
            " |-- race_detailed-population-one_race_american_indian_and_alaska_native_cherokee_tribal_grouping_total_population: integer (nullable = true)\n",
            " |-- race_detailed-percent-one_race_american_indian_and_alaska_native_cherokee_tribal_grouping-of-total_population: double (nullable = true)\n",
            " |-- race_detailed-population-one_race_american_indian_and_alaska_native_chippewa_tribal_grouping_total_population: integer (nullable = true)\n",
            " |-- race_detailed-percent-one_race_american_indian_and_alaska_native_chippewa_tribal_grouping-of-total_population: double (nullable = true)\n",
            " |-- race_detailed-population-one_race_american_indian_and_alaska_native_navajo_tribal_grouping_total_population: integer (nullable = true)\n",
            " |-- race_detailed-percent-one_race_american_indian_and_alaska_native_navajo_tribal_grouping-of-total_population: double (nullable = true)\n",
            " |-- race_detailed-population-one_race_american_indian_and_alaska_native_sioux_tribal_grouping_total_population: integer (nullable = true)\n",
            " |-- race_detailed-percent-one_race_american_indian_and_alaska_native_sioux_tribal_grouping-of-total_population: double (nullable = true)\n",
            " |-- race-population-one_race_asian_total_population: integer (nullable = true)\n",
            " |-- race-percent-one_race_asian-of-total_population: double (nullable = true)\n",
            " |-- race_detailed-population-one_race_asian_indian_total_population: integer (nullable = true)\n",
            " |-- race_detailed-percent-one_race_asian_indian-of-total_population: double (nullable = true)\n",
            " |-- race_detailed-population-one_race_asian_chinese_total_population: integer (nullable = true)\n",
            " |-- race_detailed-percent-one_race_asian_chinese-of-total_population: double (nullable = true)\n",
            " |-- race_detailed-population-one_race_asian_filipino_total_population: integer (nullable = true)\n",
            " |-- race_detailed-percent-one_race_asian_filipino-of-total_population: double (nullable = true)\n",
            " |-- race_detailed-population-one_race_asian_japanese_total_population: integer (nullable = true)\n",
            " |-- race_detailed-percent-one_race_asian_japanese-of-total_population: double (nullable = true)\n",
            " |-- race_detailed-population-one_race_asian_korean_total_population: integer (nullable = true)\n",
            " |-- race_detailed-percent-one_race_asian_korean-of-total_population: double (nullable = true)\n",
            " |-- race_detailed-population-one_race_asian_vietnamese_total_population: integer (nullable = true)\n",
            " |-- race_detailed-percent-one_race_asian_vietnamese-of-total_population: double (nullable = true)\n",
            " |-- race_detailed-population-one_race_asian_other_total_population: integer (nullable = true)\n",
            " |-- race_detailed-percent-one_race_asian_other-of-total_population: double (nullable = true)\n",
            " |-- race-population-one_race_native_hawaiian_and_other_pacific_islander_total_population: integer (nullable = true)\n",
            " |-- race-percent-one_race_native_hawaiian_and_other_pacific_islander-of-total_population: double (nullable = true)\n",
            " |-- race_detailed-population-one_race_native_hawaiian_and_other_pacific_islander_native_hawaiian_total_population: integer (nullable = true)\n",
            " |-- race_detailed-percent-one_race_native_hawaiian_and_other_pacific_islander_native_hawaiian-of-total_population: double (nullable = true)\n",
            " |-- race_detailed-population-one_race_native_hawaiian_and_other_pacific_islander_guamanian_or_chamorro_total_population: integer (nullable = true)\n",
            " |-- race_detailed-percent-one_race_native_hawaiian_and_other_pacific_islander_guamanian_or_chamorro-of-total_population: double (nullable = true)\n",
            " |-- race_detailed-population-one_race_native_hawaiian_and_other_pacific_islander_samoan_total_population: integer (nullable = true)\n",
            " |-- race_detailed-percent-one_race_native_hawaiian_and_other_pacific_islander_samoan-of-total_population: double (nullable = true)\n",
            " |-- race_detailed-population-one_race_native_hawaiian_and_other_pacific_islander_other_pacific_islander_total_population: integer (nullable = true)\n",
            " |-- race_detailed-percent-one_race_native_hawaiian_and_other_pacific_islander_other_pacific_islander-of-total_population: double (nullable = true)\n",
            " |-- race-population-one_race_other_total_population: integer (nullable = true)\n",
            " |-- race-percent-one_race_other-of-total_population: double (nullable = true)\n",
            " |-- race_detailed-population-two_or_more_races-white_and_black_total_population: integer (nullable = true)\n",
            " |-- race_detailed-percent-two_or_more_races-white_and_black-of-total_population: double (nullable = true)\n",
            " |-- race_detailed-population-two_or_more_races-white_and_american_indian_and_alaska_native_total_population: integer (nullable = true)\n",
            " |-- race_detailed-percent-two_or_more_races-white_and_american_indian_and_alaska_native-of-total_population: double (nullable = true)\n",
            " |-- race_detailed-population-two_or_more_races-white_and_asian_total_population: integer (nullable = true)\n",
            " |-- race_detailed-percent-two_or_more_races-white_and_asian-of-total_population: double (nullable = true)\n",
            " |-- race_detailed-population-two_or_more_races-black_and_american_indian_and_alaska_native_total_population: integer (nullable = true)\n",
            " |-- race_detailed-percent-two_or_more_races-black_and_american_indian_and_alaska_native-of-total_population: double (nullable = true)\n",
            " |-- race_detailed-population-race_alone_or_in_combination_with_one_or_more_other_races_white_total_population: integer (nullable = true)\n",
            " |-- race_detailed-percent-race_alone_or_in_combination_with_one_or_more_other_races_white-of-total_population: double (nullable = true)\n",
            " |-- race_detailed-population-race_alone_or_in_combination_with_one_or_more_other_races_black_total_population: integer (nullable = true)\n",
            " |-- race_detailed-percent-race_alone_or_in_combination_with_one_or_more_other_races_black-of-total_population: double (nullable = true)\n",
            " |-- race_detailed-population-race_alone_or_in_combination_with_one_or_more_other_races_american_indian_and_alaska_native_total_population: integer (nullable = true)\n",
            " |-- race_detailed-percent-race_alone_or_in_combination_with_one_or_more_other_races_american_indian_and_alaska_native-of-total_population: double (nullable = true)\n",
            " |-- race_detailed-population-race_alone_or_in_combination_with_one_or_more_other_races_asian_total_population: integer (nullable = true)\n",
            " |-- race_detailed-percent-race_alone_or_in_combination_with_one_or_more_other_races_asian-of-total_population: double (nullable = true)\n",
            " |-- race_detailed-population-race_alone_or_in_combination_with_one_or_more_other_races_native_hawaiian_and_other_pacific_islander_total_population: integer (nullable = true)\n",
            " |-- race_detailed-percent-race_alone_or_in_combination_with_one_or_more_other_races_native_hawaiian_and_other_pacific_islander-of-total_population: double (nullable = true)\n",
            " |-- race_detailed-population-race_alone_or_in_combination_with_one_or_more_other_races_other_total_population: integer (nullable = true)\n",
            " |-- race_detailed-percent-race_alone_or_in_combination_with_one_or_more_other_races_other-of-total_population: double (nullable = true)\n",
            " |-- hispanic_or_latino_and_race-population-total_population: integer (nullable = true)\n",
            " |-- hispanic_or_latino_and_race-population-hispanic_or_latino_of_any_race_total_population: integer (nullable = true)\n",
            " |-- hispanic_or_latino_and_race-percent-hispanic_or_latino_of_any_race-of-total_population: double (nullable = true)\n",
            " |-- hispanic_or_latino_and_race_detailed-population-hispanic_or_latino_of_any_race_mexican_total_population: integer (nullable = true)\n",
            " |-- hispanic_or_latino_and_race_detailed-percent-hispanic_or_latino_of_any_race_mexican-of-total_population: double (nullable = true)\n",
            " |-- hispanic_or_latino_and_race_detailed-population-hispanic_or_latino_of_any_race_puerto_rican_total_population: integer (nullable = true)\n",
            " |-- hispanic_or_latino_and_race_detailed-percent-hispanic_or_latino_of_any_race_puerto_rican-of-total_population: double (nullable = true)\n",
            " |-- hispanic_or_latino_and_race_detailed-population-hispanic_or_latino_of_any_race_cuban_total_population: integer (nullable = true)\n",
            " |-- hispanic_or_latino_and_race_detailed-percent-hispanic_or_latino_of_any_race_cuban-of-total_population: double (nullable = true)\n",
            " |-- hispanic_or_latino_and_race_detailed-population-hispanic_or_latino_of_any_race_other_total_population: integer (nullable = true)\n",
            " |-- hispanic_or_latino_and_race_detailed-percent-hispanic_or_latino_of_any_race_other-of-total_population: double (nullable = true)\n",
            " |-- hispanic_or_latino_and_race-population-not_hispanic_or_latino_total_population: integer (nullable = true)\n",
            " |-- hispanic_or_latino_and_race-percent-not_hispanic_or_latino-of-total_population: double (nullable = true)\n",
            " |-- hispanic_or_latino_and_race_detailed-population-not_hispanic_or_latino_white_total_population: integer (nullable = true)\n",
            " |-- hispanic_or_latino_and_race_detailed-percent-not_hispanic_or_latino_white-of-total_population: double (nullable = true)\n",
            " |-- hispanic_or_latino_and_race_detailed-population-not_hispanic_or_latino_black_total_population: integer (nullable = true)\n",
            " |-- hispanic_or_latino_and_race_detailed-percent-not_hispanic_or_latino_black-of-total_population: double (nullable = true)\n",
            " |-- hispanic_or_latino_and_race_detailed-population-not_hispanic_or_latino_american_indian_and_alaska_native_total_population: integer (nullable = true)\n",
            " |-- hispanic_or_latino_and_race_detailed-percent-not_hispanic_or_latino_american_indian_and_alaska_native-of-total_population: double (nullable = true)\n",
            " |-- hispanic_or_latino_and_race_detailed-population-not_hispanic_or_latino_asian_total_population: integer (nullable = true)\n",
            " |-- hispanic_or_latino_and_race_detailed-percent-not_hispanic_or_latino_asian-of-total_population: double (nullable = true)\n",
            " |-- hispanic_or_latino_and_race_detailed-population-not_hispanic_or_latino_native_hawaiian_and_other_pacific_islander_total_population: integer (nullable = true)\n",
            " |-- hispanic_or_latino_and_race_detailed-percent-not_hispanic_or_latino_native_hawaiian_and_other_pacific_islander-of-total_population: double (nullable = true)\n",
            " |-- hispanic_or_latino_and_race_detailed-population-not_hispanic_or_latino_other_total_population: integer (nullable = true)\n",
            " |-- hispanic_or_latino_and_race_detailed-percent-not_hispanic_or_latino_other-of-total_population: double (nullable = true)\n",
            " |-- hispanic_or_latino_and_race_detailed-population-not_hispanic_or_latino_two_or_more_races_total_population: integer (nullable = true)\n",
            " |-- hispanic_or_latino_and_race_detailed-percent-not_hispanic_or_latino_two_or_more_races-of-total_population: double (nullable = true)\n",
            " |-- hispanic_or_latino_and_race_detailed-population-not_hispanic_or_latino_two_or_more_races_including_some_other_race_total_population: integer (nullable = true)\n",
            " |-- hispanic_or_latino_and_race_detailed-percent-not_hispanic_or_latino_two_or_more_races_including_some_other_race-of-total_population: double (nullable = true)\n",
            " |-- hispanic_or_latino_and_race_detailed-population-not_hispanic_or_latino_two_or_more_races_excluding_some_other_race_and_three_or_more_races_total_population: integer (nullable = true)\n",
            " |-- hispanic_or_latino_and_race_detailed-percent-not_hispanic_or_latino_two_or_more_races_excluding_some_other_race_and_three_or_more_races-of-total_population: double (nullable = true)\n",
            " |-- hispanic_or_latino_and_race-housing_units-total_housing_units: integer (nullable = true)\n",
            " |-- citizen_voting_age_population-population-citizen_18_and_over_population: integer (nullable = true)\n",
            " |-- citizen_voting_age_population-population-male_citizen_18_and_over_population: integer (nullable = true)\n",
            " |-- citizen_voting_age_population-percent-male-of-citizen_18_and_over_population: double (nullable = true)\n",
            " |-- citizen_voting_age_population-population-female_citizen_18_and_over_population: integer (nullable = true)\n",
            " |-- citizen_voting_age_population-percent-female-of-citizen_18_and_over_population: double (nullable = true)\n",
            " |-- employment_status-population-population_16_years_and_over: integer (nullable = true)\n",
            " |-- employment_status-population-in_labor_force_population_16_years_and_over: integer (nullable = true)\n",
            " |-- employment_status-percent-in_labor_force-of-population_16_years_and_over: double (nullable = true)\n",
            " |-- employment_status-population-in_civilian_labor_force_population_16_years_and_over: integer (nullable = true)\n",
            " |-- employment_status-percent-in_civilian_labor_force-of-population_16_years_and_over: double (nullable = true)\n",
            " |-- employment_status-population-employed_population_16_years_and_over: integer (nullable = true)\n",
            " |-- employment_status-percent-employed-of-population_16_years_and_over: double (nullable = true)\n",
            " |-- employment_status-population-unemployed_population_16_years_and_over: integer (nullable = true)\n",
            " |-- employment_status-percent-unemployed-of-population_16_years_and_over: double (nullable = true)\n",
            " |-- employment_status-population-armed_forces_population_16_years_and_over: integer (nullable = true)\n",
            " |-- employment_status-percent-armed_forces-of-population_16_years_and_over: double (nullable = true)\n",
            " |-- employment_status-population-not_in_labor_force_population_16_years_and_over: integer (nullable = true)\n",
            " |-- employment_status-percent-not_in_labor_force-of-population_16_years_and_over: double (nullable = true)\n",
            " |-- employment_status-percent-unemployed-of-civilian_labor_force_population_16_years_and_over: double (nullable = true)\n",
            " |-- employment_status-population_females_16_years_and_over: integer (nullable = true)\n",
            " |-- employment_status-population-in_labor_force_females_16_years_and_over: integer (nullable = true)\n",
            " |-- employment_status-percent-in_labor_force-of-females_16_years_and_over: double (nullable = true)\n",
            " |-- employment_status-population-in_civilian_labor_force_females_16_years_and_over: integer (nullable = true)\n",
            " |-- employment_status-percent-in_civilian_labor_force-of-females_16_years_and_over: double (nullable = true)\n",
            " |-- employment_status-population-employed_females_16_years_and_over: integer (nullable = true)\n",
            " |-- employment_status-percent-employed-of-females_16_years_and_over: double (nullable = true)\n",
            " |-- employment_status-population_own_children_of_the_householder_under_6_years: integer (nullable = true)\n",
            " |-- employment_status-population-all_parents_in_family_in_labor_force_own_children_of_the_householder_under_6_years: integer (nullable = true)\n",
            " |-- employment_status-percent-all_parents_in_family_in_labor_force-of-own_children_of_the_householder_under_6_years: double (nullable = true)\n",
            " |-- employment_status-population_own_children_of_the_householder_6_to_17_years: integer (nullable = true)\n",
            " |-- employment_status-population-all_parents_in_family_in_labor_force_own_children_of_the_householder_6_to_17_years: integer (nullable = true)\n",
            " |-- employment_status-percent-all_parents_in_family_in_labor_force-of-own_children_of_the_householder_6_to_17_years: double (nullable = true)\n",
            " |-- commuting_to_work-population_workers_16_years_and_over: integer (nullable = true)\n",
            " |-- commuting_to_work-population-car_truck_or_van_alone_workers_16_years_and_over: integer (nullable = true)\n",
            " |-- commuting_to_work-percent-car_truck_or_van_alone-of-workers_16_years_and_over: double (nullable = true)\n",
            " |-- commuting_to_work-population-car_truck_or_van_carpooled_workers_16_years_and_over: integer (nullable = true)\n",
            " |-- commuting_to_work-percent-car_truck_or_van_carpooled-of-workers_16_years_and_over: double (nullable = true)\n",
            " |-- commuting_to_work-population-public_transportation_excluding_taxicab_workers_16_years_and_over: integer (nullable = true)\n",
            " |-- commuting_to_work-percent-public_transportation_excluding_taxicab-of-workers_16_years_and_over: double (nullable = true)\n",
            " |-- commuting_to_work-population-walked_workers_16_years_and_over: integer (nullable = true)\n",
            " |-- commuting_to_work-percent-walked-of-workers_16_years_and_over: double (nullable = true)\n",
            " |-- commuting_to_work-population-other_means_workers_16_years_and_over: integer (nullable = true)\n",
            " |-- commuting_to_work-percent-other_means-of-workers_16_years_and_over: double (nullable = true)\n",
            " |-- commuting_to_work-population-worked_at_home_workers_16_years_and_over: integer (nullable = true)\n",
            " |-- commuting_to_work-percent-worked_at_home-of-workers_16_years_and_over: double (nullable = true)\n",
            " |-- commuting_to_work-minutes-mean_travel_time_to_work_minutes: double (nullable = true)\n",
            " |-- occupation-population-civilian_employed_population_16_years_and_over: integer (nullable = true)\n",
            " |-- occupation-population-management_business_science_and_arts_occupations_civilian_employed_population_16_years_and_over: integer (nullable = true)\n",
            " |-- occupation-percent-management_business_science_and_arts_occupations-of-civilian_employed_population_16_years_and_over: double (nullable = true)\n",
            " |-- occupation-population-service_occupations_civilian_employed_population_16_years_and_over: integer (nullable = true)\n",
            " |-- occupation-percent-service_occupations-of-civilian_employed_population_16_years_and_over: double (nullable = true)\n",
            " |-- occupation-population-sales_and_office_occupations_civilian_employed_population_16_years_and_over: integer (nullable = true)\n",
            " |-- occupation-percent-sales_and_office_occupations-of-civilian_employed_population_16_years_and_over: double (nullable = true)\n",
            " |-- occupation-population-natural_resources_construction_and_maintenance_occupations_civilian_employed_population_16_years_and_over: integer (nullable = true)\n",
            " |-- occupation-percent-natural_resources_construction_and_maintenance_occupations-of-civilian_employed_population_16_years_and_over: double (nullable = true)\n",
            " |-- occupation-population-production_transportation_and_material_moving_occupations_civilian_employed_population_16_years_and_over: integer (nullable = true)\n",
            " |-- occupation-percent-production_transportation_and_material_moving_occupations-of-civilian_employed_population_16_years_and_over: double (nullable = true)\n",
            " |-- industry-population-civilian_employed_population_16_years_and_over: integer (nullable = true)\n",
            " |-- industry-population-agriculture_forestry_fishing_and_hunting_and_mining_civilian_employed_population_16_years_and_over: integer (nullable = true)\n",
            " |-- industry-percent-agriculture_forestry_fishing_and_hunting_and_mining-of-civilian_employed_population_16_years_and_over: double (nullable = true)\n",
            " |-- industry-population-construction_civilian_employed_population_16_years_and_over: integer (nullable = true)\n",
            " |-- industry-percent-construction-of-civilian_employed_population_16_years_and_over: double (nullable = true)\n",
            " |-- industry-population-manufacturing_civilian_employed_population_16_years_and_over: integer (nullable = true)\n",
            " |-- industry-percent-manufacturing-of-civilian_employed_population_16_years_and_over: double (nullable = true)\n",
            " |-- industry-population-wholesale_trade_civilian_employed_population_16_years_and_over: integer (nullable = true)\n",
            " |-- industry-percent-wholesale_trade-of-civilian_employed_population_16_years_and_over: double (nullable = true)\n",
            " |-- industry-population-retail_trade_civilian_employed_population_16_years_and_over: integer (nullable = true)\n",
            " |-- industry-percent-retail_trade-of-civilian_employed_population_16_years_and_over: double (nullable = true)\n",
            " |-- industry-population-transportation_and_warehousing_and_utilities_civilian_employed_population_16_years_and_over: integer (nullable = true)\n",
            " |-- industry-percent-transportation_and_warehousing_and_utilities-of-civilian_employed_population_16_years_and_over: double (nullable = true)\n",
            " |-- industry-population-information_civilian_employed_population_16_years_and_over: integer (nullable = true)\n",
            " |-- industry-percent-information-of-civilian_employed_population_16_years_and_over: double (nullable = true)\n",
            " |-- industry-population-finance_and_insurance_and_real_estate_and_rental_and_leasing_civilian_employed_population_16_years_and_over: integer (nullable = true)\n",
            " |-- industry-percent-finance_and_insurance_and_real_estate_and_rental_and_leasing-of-civilian_employed_population_16_years_and_over: double (nullable = true)\n",
            " |-- industry-population-professional_scientific_and_management_and_administrative_and_waste_management_services_civilian_employed_population_16_years_and_over: integer (nullable = true)\n",
            " |-- industry-percent-professional_scientific_and_management_and_administrative_and_waste_management_services-of-civilian_employed_population_16_years_and_over: double (nullable = true)\n",
            " |-- industry-population-educational_services_and_health_care_and_social_assistance_civilian_employed_population_16_years_and_over: integer (nullable = true)\n",
            " |-- industry-percent-educational_services_and_health_care_and_social_assistance-of-civilian_employed_population_16_years_and_over: double (nullable = true)\n",
            " |-- industry-population-arts_entertainment_and_recreation_and_accommodation_and_food_services_civilian_employed_population_16_years_and_over: integer (nullable = true)\n",
            " |-- industry-percent-arts_entertainment_and_recreation_and_accommodation_and_food_services-of-civilian_employed_population_16_years_and_over: double (nullable = true)\n",
            " |-- industry-population-other_services_except_public_administration_civilian_employed_population_16_years_and_over: integer (nullable = true)\n",
            " |-- industry-percent-other_services_except_public_administration-of-civilian_employed_population_16_years_and_over: double (nullable = true)\n",
            " |-- industry-population-public_administration_civilian_employed_population_16_years_and_over: integer (nullable = true)\n",
            " |-- industry-percent-public_administration-of-civilian_employed_population_16_years_and_over: double (nullable = true)\n",
            " |-- class_of_worker-population-civilian_employed_population_16_years_and_over: integer (nullable = true)\n",
            " |-- class_of_worker-population-private_wage_and_salary_workers_civilian_employed_population_16_years_and_over: integer (nullable = true)\n",
            " |-- class_of_worker-percent-private_wage_and_salary_workers-of-civilian_employed_population_16_years_and_over: double (nullable = true)\n",
            " |-- class_of_worker-population-government_workers_civilian_employed_population_16_years_and_over: integer (nullable = true)\n",
            " |-- class_of_worker-percent-government_workers-of-civilian_employed_population_16_years_and_over: double (nullable = true)\n",
            " |-- class_of_worker-population-self_employed_in_own_not_incorporated_business_workers_civilian_employed_population_16_years_and_over: integer (nullable = true)\n",
            " |-- class_of_worker-percent-self_employed_in_own_not_incorporated_business_workers-of-civilian_employed_population_16_years_and_over: double (nullable = true)\n",
            " |-- class_of_worker-population-unpaid_family_workers_civilian_employed_population_16_years_and_over: integer (nullable = true)\n",
            " |-- class_of_worker-percent-unpaid_family_workers-of-civilian_employed_population_16_years_and_over: double (nullable = true)\n",
            " |-- income_and_benefits_in_2016_inflation_adjusted_dollars-households-total_households: integer (nullable = true)\n",
            " |-- income_and_benefits_in_2016_inflation_adjusted_dollars-households-less_than_10000_total_households: integer (nullable = true)\n",
            " |-- income_and_benefits_in_2016_inflation_adjusted_dollars-percent-less_than_10000-of-total_households: double (nullable = true)\n",
            " |-- income_and_benefits_in_2016_inflation_adjusted_dollars-households-10000_to_14999_total_households: integer (nullable = true)\n",
            " |-- income_and_benefits_in_2016_inflation_adjusted_dollars-percent-10000_to_14999-of-total_households: double (nullable = true)\n",
            " |-- income_and_benefits_in_2016_inflation_adjusted_dollars-households-15000_to_24999_total_households: integer (nullable = true)\n",
            " |-- income_and_benefits_in_2016_inflation_adjusted_dollars-percent-15000_to_24999-of-total_households: double (nullable = true)\n",
            " |-- income_and_benefits_in_2016_inflation_adjusted_dollars-households-25000_to_34999_total_households: integer (nullable = true)\n",
            " |-- income_and_benefits_in_2016_inflation_adjusted_dollars-percent-25000_to_34999-of-total_households: double (nullable = true)\n",
            " |-- income_and_benefits_in_2016_inflation_adjusted_dollars-households-35000_to_49999_total_households: integer (nullable = true)\n",
            " |-- income_and_benefits_in_2016_inflation_adjusted_dollars-percent-35000_to_49999-of-total_households: double (nullable = true)\n",
            " |-- income_and_benefits_in_2016_inflation_adjusted_dollars-households-50000_to_74999_total_households: integer (nullable = true)\n",
            " |-- income_and_benefits_in_2016_inflation_adjusted_dollars-percent-50000_to_74999-of-total_households: double (nullable = true)\n",
            " |-- income_and_benefits_in_2016_inflation_adjusted_dollars-households-75000_to_99999_total_households: integer (nullable = true)\n",
            " |-- income_and_benefits_in_2016_inflation_adjusted_dollars-percent-75000_to_99999-of-total_households: double (nullable = true)\n",
            " |-- income_and_benefits_in_2016_inflation_adjusted_dollars-households-100000_to_149999_total_households: integer (nullable = true)\n",
            " |-- income_and_benefits_in_2016_inflation_adjusted_dollars-percent-100000_to_149999-of-total_households: double (nullable = true)\n",
            " |-- income_and_benefits_in_2016_inflation_adjusted_dollars-households-150000_to_199999_total_households: integer (nullable = true)\n",
            " |-- income_and_benefits_in_2016_inflation_adjusted_dollars-percent-150000_to_199999-of-total_households: double (nullable = true)\n",
            " |-- income_and_benefits_in_2016_inflation_adjusted_dollars-households-200000_or_more_total_households: integer (nullable = true)\n",
            " |-- income_and_benefits_in_2016_inflation_adjusted_dollars-percent-200000_or_more-of-total_households: double (nullable = true)\n",
            " |-- income_and_benefits_in_2016_inflation_adjusted_dollars-dollars-median_household_income_dollars: double (nullable = true)\n",
            " |-- income_and_benefits_in_2016_inflation_adjusted_dollars-dollars-mean_household_income_dollars: double (nullable = true)\n",
            " |-- income_and_benefits_in_2016_inflation_adjusted_dollars-households-households_with_earnings: integer (nullable = true)\n",
            " |-- income_and_benefits_in_2016_inflation_adjusted_dollars-percent-households_with_earnings-of-total_households: double (nullable = true)\n",
            " |-- income_and_benefits_in_2016_inflation_adjusted_dollars-dollars-mean_earnings_dollars_households_with_earnings: double (nullable = true)\n",
            " |-- income_and_benefits_in_2016_inflation_adjusted_dollars-households-households_with_social_security: integer (nullable = true)\n",
            " |-- income_and_benefits_in_2016_inflation_adjusted_dollars-percent-households_with_social_security-of-total_households: double (nullable = true)\n",
            " |-- income_and_benefits_in_2016_inflation_adjusted_dollars-dollars-mean_social_security_income_dollars_households_with_social_security: double (nullable = true)\n",
            " |-- income_and_benefits_in_2016_inflation_adjusted_dollars-households-households_with_retirement_income: integer (nullable = true)\n",
            " |-- income_and_benefits_in_2016_inflation_adjusted_dollars-percent-households_with_retirement_income-of-total_households: double (nullable = true)\n",
            " |-- income_and_benefits_in_2016_inflation_adjusted_dollars-households-mean_retirement_income_dollars_households_with_retirement_income: double (nullable = true)\n",
            " |-- income_and_benefits_in_2016_inflation_adjusted_dollars-households-households_with_supplemental_security_income: integer (nullable = true)\n",
            " |-- income_and_benefits_in_2016_inflation_adjusted_dollars-percent-households_with_supplemental_security_income-of-total_households: double (nullable = true)\n",
            " |-- income_and_benefits_in_2016_inflation_adjusted_dollars-dollars-mean_supplemental_security_income_dollars_households_with_supplemental_security_income: double (nullable = true)\n",
            " |-- income_and_benefits_in_2016_inflation_adjusted_dollars-households-households_with_cash_public_assistance_income: integer (nullable = true)\n",
            " |-- income_and_benefits_in_2016_inflation_adjusted_dollars-percent-with_cash_public_assistance_income-of-total_households: double (nullable = true)\n",
            " |-- income_and_benefits_in_2016_inflation_adjusted_dollars-dollars-mean_cash_public_assistance_income_dollars_households_with_cash_public_assistance_income: double (nullable = true)\n",
            " |-- income_and_benefits_in_2016_inflation_adjusted_dollars-households-households_with_food_stampsnap_benefits_in_the_past_12_months: integer (nullable = true)\n",
            " |-- income_and_benefits_in_2016_inflation_adjusted_dollars-percent-households_with_food_stampsnap_benefits_in_the_past_12_months-of-total_households: double (nullable = true)\n",
            " |-- income_and_benefits_in_2016_inflation_adjusted_dollars-families-total_families: integer (nullable = true)\n",
            " |-- income_and_benefits_in_2016_inflation_adjusted_dollars-families-less_than_10000_total_families: integer (nullable = true)\n",
            " |-- income_and_benefits_in_2016_inflation_adjusted_dollars-percent-less_than_10000-of-total_families: double (nullable = true)\n",
            " |-- income_and_benefits_in_2016_inflation_adjusted_dollars-families-10000_to_14999_total_families: integer (nullable = true)\n",
            " |-- income_and_benefits_in_2016_inflation_adjusted_dollars-percent-10000_to_14999-of-total_families: double (nullable = true)\n",
            " |-- income_and_benefits_in_2016_inflation_adjusted_dollars-families-15000_to_24999_total_families: integer (nullable = true)\n",
            " |-- income_and_benefits_in_2016_inflation_adjusted_dollars-percent-15000_to_24999-of-total_families: double (nullable = true)\n",
            " |-- income_and_benefits_in_2016_inflation_adjusted_dollars-families-25000_to_34999_total_families: integer (nullable = true)\n",
            " |-- income_and_benefits_in_2016_inflation_adjusted_dollars-percent-25000_to_34999-of-total_families: double (nullable = true)\n",
            " |-- income_and_benefits_in_2016_inflation_adjusted_dollars-families-35000_to_49999_total_families: integer (nullable = true)\n",
            " |-- income_and_benefits_in_2016_inflation_adjusted_dollars-percent-35000_to_49999-of-total_families: double (nullable = true)\n",
            " |-- income_and_benefits_in_2016_inflation_adjusted_dollars-families-50000_to_74999_total_families: integer (nullable = true)\n",
            " |-- income_and_benefits_in_2016_inflation_adjusted_dollars-percent-50000_to_74999-of-total_families: double (nullable = true)\n",
            " |-- income_and_benefits_in_2016_inflation_adjusted_dollars-families-75000_to_99999_total_families: integer (nullable = true)\n",
            " |-- income_and_benefits_in_2016_inflation_adjusted_dollars-percent-75000_to_99999-of-total_families: double (nullable = true)\n",
            " |-- income_and_benefits_in_2016_inflation_adjusted_dollars-families-100000_to_149999_total_families: integer (nullable = true)\n",
            " |-- income_and_benefits_in_2016_inflation_adjusted_dollars-percent-100000_to_149999-of-total_families: double (nullable = true)\n",
            " |-- income_and_benefits_in_2016_inflation_adjusted_dollars-families-150000_to_199999_total_families: integer (nullable = true)\n",
            " |-- income_and_benefits_in_2016_inflation_adjusted_dollars-percent-150000_to_199999-of-total_families: double (nullable = true)\n",
            " |-- income_and_benefits_in_2016_inflation_adjusted_dollars-families-200000_or_more_total_families: integer (nullable = true)\n",
            " |-- income_and_benefits_in_2016_inflation_adjusted_dollars-percent-200000_or_more-of-total_families: double (nullable = true)\n",
            " |-- income_and_benefits_in_2016_inflation_adjusted_dollars-dollars-median_family_income_dollars: double (nullable = true)\n",
            " |-- income_and_benefits_in_2016_inflation_adjusted_dollars-dollars-mean_family_income_dollars: double (nullable = true)\n",
            " |-- income_and_benefits_in_2016_inflation_adjusted_dollars-dollars-per_capita_family_income_dollars: double (nullable = true)\n",
            " |-- income_and_benefits_in_2016_inflation_adjusted_dollars-households-nonfamily_households: integer (nullable = true)\n",
            " |-- income_and_benefits_in_2016_inflation_adjusted_dollars-dollars-median_nonfamily_income_dollars: double (nullable = true)\n",
            " |-- income_and_benefits_in_2016_inflation_adjusted_dollars-dollars-mean_nonfamily_income_dollars: double (nullable = true)\n",
            " |-- income_and_benefits_in_2016_inflation_adjusted_dollars-dollars-median_workers_earnings_dollars: double (nullable = true)\n",
            " |-- income_and_benefits_in_2016_inflation_adjusted_dollars-dollars-median_male_full-time_year_round_workers_earnings_dollars: double (nullable = true)\n",
            " |-- income_and_benefits_in_2016_inflation_adjusted_dollars-dollars-median_female_full-time_year_round_workers_earnings_dollars: double (nullable = true)\n",
            " |-- health_insurance_coverage-population-civilian_noninstitutionalized_population: integer (nullable = true)\n",
            " |-- health_insurance_coverage-population-with_health_insurance_civilian_noninstitutionalized_population: integer (nullable = true)\n",
            " |-- health_insurance_coverage-percent-with_health_insurance-of-civilian_noninstitutionalized_population: double (nullable = true)\n",
            " |-- health_insurance_coverage-population-with_private_health_insurance_civilian_noninstitutionalized_population: integer (nullable = true)\n",
            " |-- health_insurance_coverage-percent-with_private_health_insurance-of-civilian_noninstitutionalized_population: double (nullable = true)\n",
            " |-- health_insurance_coverage-population-with_public_health_insurance_civilian_noninstitutionalized_population: integer (nullable = true)\n",
            " |-- health_insurance_coverage-percent-with_public_health_insurance-of-civilian_noninstitutionalized_population: double (nullable = true)\n",
            " |-- health_insurance_coverage-population-no_health_insurance_civilian_noninstitutionalized_population: integer (nullable = true)\n",
            " |-- health_insurance_coverage-percent-no_health_insurance-of-civilian_noninstitutionalized_population: double (nullable = true)\n",
            " |-- health_insurance_coverage-population-under_18_years_civilian_noninstitutionalized_population: integer (nullable = true)\n",
            " |-- health_insurance_coverage-percent-under_18_years-of-civilian_noninstitutionalized_population: double (nullable = true)\n",
            " |-- health_insurance_coverage-population-no_health_insurance_under_18_years_civilian_noninstitutionalized_population: integer (nullable = true)\n",
            " |-- health_insurance_coverage-percent-no_health_insurance-of-under_18_years_civilian_noninstitutionalized_population: double (nullable = true)\n",
            " |-- health_insurance_coverage-population-18_to_64_years_civilian_noninstitutionalized_population: integer (nullable = true)\n",
            " |-- health_insurance_coverage-percent-18_to_64_years-of-civilian_noninstitutionalized_population: double (nullable = true)\n",
            " |-- health_insurance_coverage-population-18_to_64_years_in_labor_force_civilian_noninstitutionalized_population: integer (nullable = true)\n",
            " |-- health_insurance_coverage-percent-18_to_64_years_in_labor_force-of-civilian_noninstitutionalized_population: double (nullable = true)\n",
            " |-- health_insurance_coverage-population-18_to_64_years_employed_civilian_noninstitutionalized_population: integer (nullable = true)\n",
            " |-- health_insurance_coverage-percent-18_to_64_years_employed-of-civilian_noninstitutionalized_population: double (nullable = true)\n",
            " |-- health_insurance_coverage-population-with_health_insurance_18_to_64_years_employed_civilian_noninstitutionalized_population: integer (nullable = true)\n",
            " |-- health_insurance_coverage-percent-with_health_insurance-of-18_to_64_years_employed_civilian_noninstitutionalized_population: double (nullable = true)\n",
            " |-- health_insurance_coverage-population-with_private_health_insurance_18_to_64_years_employed_civilian_noninstitutionalized_population: integer (nullable = true)\n",
            " |-- health_insurance_coverage-percent-with_private_health_insurance-of-18_to_64_years_employed_civilian_noninstitutionalized_population: double (nullable = true)\n",
            " |-- health_insurance_coverage-population-with_public_health_insurance_18_to_64_years_employed_civilian_noninstitutionalized_population: integer (nullable = true)\n",
            " |-- health_insurance_coverage-percent-with_public_health_insurance-of-18_to_64_years_employed_civilian_noninstitutionalized_population: double (nullable = true)\n",
            " |-- health_insurance_coverage-population-no_health_insurance_18_to_64_years_employed_civilian_noninstitutionalized_population: integer (nullable = true)\n",
            " |-- health_insurance_coverage-percent-no_health_insurance-of-18_to_64_years_employed_civilian_noninstitutionalized_population: double (nullable = true)\n",
            " |-- health_insurance_coverage-population-18_to_64_years_unemployed_civilian_noninstitutionalized_population: integer (nullable = true)\n",
            " |-- health_insurance_coverage-percent-18_to_64_years_unemployed-of-civilian_noninstitutionalized_population: double (nullable = true)\n",
            " |-- health_insurance_coverage-population-with_health_insurance_18_to_64_years_unemployed_civilian_noninstitutionalized_population: integer (nullable = true)\n",
            " |-- health_insurance_coverage-percent-with_health_insurance-of-18_to_64_years_unemployed_civilian_noninstitutionalized_population: double (nullable = true)\n",
            " |-- health_insurance_coverage-population-with_private_health_insurance_18_to_64_years_unemployed_civilian_noninstitutionalized_population: integer (nullable = true)\n",
            " |-- health_insurance_coverage-percent-with_private_health_insurance-of-18_to_64_years_unemployed_civilian_noninstitutionalized_population: double (nullable = true)\n",
            " |-- health_insurance_coverage-population-with_public_health_insurance_18_to_64_years_unemployed_civilian_noninstitutionalized_population: integer (nullable = true)\n",
            " |-- health_insurance_coverage-percent-with_public_health_insurance-of-18_to_64_years_unemployed_civilian_noninstitutionalized_population: double (nullable = true)\n",
            " |-- health_insurance_coverage-population-no_health_insurance-18_to_64_years_unemployed_civilian_noninstitutionalized_population: integer (nullable = true)\n",
            " |-- health_insurance_coverage-percent-no_health_insurance-of-18_to_64_years_unemployed_civilian_noninstitutionalized_population: double (nullable = true)\n",
            " |-- health_insurance_coverage-population-18_to_64_years_not_in_labor_force_civilian_noninstitutionalized_population: integer (nullable = true)\n",
            " |-- health_insurance_coverage-percent-18_to_64_years_not_in_labor_force-of-civilian_noninstitutionalized_population: double (nullable = true)\n",
            " |-- health_insurance_coverage-population-with_health_insurance_18_to_64_years_not_in_labor_force_civilian_noninstitutionalized_population: integer (nullable = true)\n",
            " |-- health_insurance_coverage-percent-with_health_insurance-of-18_to_64_years_not_in_labor_force_civilian_noninstitutionalized_population: double (nullable = true)\n",
            " |-- health_insurance_coverage-population-with_private_health_insurance_18_to_64_years_not_in_labor_force_civilian_noninstitutionalized_population: integer (nullable = true)\n",
            " |-- health_insurance_coverage-percent-with_private_health_insurance-of-18_to_64_years_not_in_labor_force_civilian_noninstitutionalized_population: double (nullable = true)\n",
            " |-- health_insurance_coverage-population-with_public_health_insurance_18_to_64_years_not_in_labor_force_civilian_noninstitutionalized_population: integer (nullable = true)\n",
            " |-- health_insurance_coverage-percent-with_public_health_insurance-of-18_to_64_years_not_in_labor_force_civilian_noninstitutionalized_population: double (nullable = true)\n",
            " |-- health_insurance_coverage-population-no_health_insurance_18_to_64_years_not_in_labor_force_civilian_noninstitutionalized_population: integer (nullable = true)\n",
            " |-- health_insurance_coverage-percent-no_health_insurance-of-18_to_64_years_not_in_labor_force_civilian_noninstitutionalized_population: double (nullable = true)\n",
            " |-- people_whose_income_in_past_12m_is_below_poverty_level-percent-families-of-all_families: double (nullable = true)\n",
            " |-- people_whose_income_in_past_12m_is_below_poverty_level-percent-families_with_under_18_years_related_children-of-all_families: double (nullable = true)\n",
            " |-- people_whose_income_in_past_12m_is_below_poverty_level-percent-families_with_under_5_years_only_related_children-of-all_families: double (nullable = true)\n",
            " |-- people_whose_income_in_past_12m_is_below_poverty_level-percent-married_couple_families-of-all_families: double (nullable = true)\n",
            " |-- people_whose_income_in_past_12m_is_below_poverty_level-percent-married_couple_families_with_under_18_years_related_children-of-all_families: double (nullable = true)\n",
            " |-- people_whose_income_in_past_12m_is_below_poverty_level-percent-married_couple_families_with_5_years_only_related_children_under-of-all_families: double (nullable = true)\n",
            " |-- people_whose_income_in_past_12m_is_below_poverty_level-percent-families_with_female_householder_no_husband-of-all_families: double (nullable = true)\n",
            " |-- people_whose_income_in_past_12m_is_below_poverty_level-percent-families_with_female_householder_no_husband_with_under_18_years_related_children-of-all_families: double (nullable = true)\n",
            " |-- people_whose_income_in_past_12m_is_below_poverty_level-percent-families_with_female_householder_no_husband_with_under_5_years_only_related_children-of-all_families: double (nullable = true)\n",
            " |-- people_whose_income_in_past_12m_is_below_poverty_level-percent-people-of-all_people: double (nullable = true)\n",
            " |-- people_whose_income_in_past_12m_is_below_poverty_level-percent-under_18_years-of-all_people: double (nullable = true)\n",
            " |-- people_whose_income_in_past_12m_is_below_poverty_level-percent-related_children_under_18_years-of-all_people: double (nullable = true)\n",
            " |-- people_whose_income_in_past_12m_is_below_poverty_level-percent-related_children_under_5_years-of-all_people: double (nullable = true)\n",
            " |-- people_whose_income_in_past_12m_is_below_poverty_level-percent-related_children_5_to_17_years-of-all_people: double (nullable = true)\n",
            " |-- people_whose_income_in_past_12m_is_below_poverty_level-percent-18_years_and_over-of-all_people: double (nullable = true)\n",
            " |-- people_whose_income_in_past_12m_is_below_poverty_level-percent-18_to_64_years-of-all_people: double (nullable = true)\n",
            " |-- people_whose_income_in_past_12m_is_below_poverty_level-percent-65_years_and_over-of-all_people: double (nullable = true)\n",
            " |-- people_whose_income_in_past_12m_is_below_poverty_level-percent-people_in_families-of-all_families: double (nullable = true)\n",
            " |-- people_whose_income_in_past_12m_is_below_poverty_level-percent-unrelated_individuals_15_years_and_over-of-all_families: double (nullable = true)\n",
            "\n"
          ]
        }
      ]
    },
    {
      "cell_type": "code",
      "source": [
        "print(censusDF.count(),len(censusDF.columns))"
      ],
      "metadata": {
        "colab": {
          "base_uri": "https://localhost:8080/"
        },
        "id": "cqhT8zFmT0fE",
        "outputId": "ae8154e2-fc50-4d46-e18a-d2b1b610b118"
      },
      "execution_count": null,
      "outputs": [
        {
          "output_type": "stream",
          "name": "stdout",
          "text": [
            "33120 887\n"
          ]
        }
      ]
    },
    {
      "cell_type": "code",
      "source": [
        "censusDF = censusDF.withColumnRenamed(\"ZCTA5\",\"IntZips\")\n",
        "censusDF = zipcodesDF.join(censusDF).where(censusDF[\"IntZips\"] == zipcodesDF[\"ZCTA5\"].cast(\"int\")).drop(F.col(\"IntZips\"))\n",
        "censusDF.printSchema()"
      ],
      "metadata": {
        "colab": {
          "base_uri": "https://localhost:8080/"
        },
        "id": "02aJBEYXcKKm",
        "outputId": "541e48d1-c49b-488d-9963-1fe49ab54c79"
      },
      "execution_count": null,
      "outputs": [
        {
          "output_type": "stream",
          "name": "stdout",
          "text": [
            "root\n",
            " |-- ZCTA5: string (nullable = true)\n",
            " |-- sex_and_age-population-total_population: integer (nullable = true)\n",
            " |-- sex_and_age-population-male_total_population: integer (nullable = true)\n",
            " |-- sex_and_age-percent-male-of-total_population: double (nullable = true)\n",
            " |-- sex_and_age-population-female_total_population: integer (nullable = true)\n",
            " |-- sex_and_age-percent-female-of-total_population: double (nullable = true)\n",
            " |-- sex_and_age-population-under_5_years_total_population: integer (nullable = true)\n",
            " |-- sex_and_age-percent-under_5_years-of-total_population: double (nullable = true)\n",
            " |-- sex_and_age-population-5_to_9_years_total_population: integer (nullable = true)\n",
            " |-- sex_and_age-percent-5_to_9_years-of-total_population: double (nullable = true)\n",
            " |-- sex_and_age-population-10_to_14_years_total_population: integer (nullable = true)\n",
            " |-- sex_and_age-percent-10_to_14_years-of-total_population: double (nullable = true)\n",
            " |-- sex_and_age-population-15_to_19_years_total_population: integer (nullable = true)\n",
            " |-- sex_and_age-percent-15_to_19_years-of-total_population: double (nullable = true)\n",
            " |-- sex_and_age-population-20_to_24_years_total_population: integer (nullable = true)\n",
            " |-- sex_and_age-percent-20_to_24_years-of-total_population: double (nullable = true)\n",
            " |-- sex_and_age-population-25_to_34_years_total_population: integer (nullable = true)\n",
            " |-- sex_and_age-percent-25_to_34_years-of-total_population: double (nullable = true)\n",
            " |-- sex_and_age-population-35_to_44_years_total_population: integer (nullable = true)\n",
            " |-- sex_and_age-percent-35_to_44_years-of-total_population: double (nullable = true)\n",
            " |-- sex_and_age-population-45_to_54_years_total_population: integer (nullable = true)\n",
            " |-- sex_and_age-percent-45_to_54_years-of-total_population: double (nullable = true)\n",
            " |-- sex_and_age-population-55_to_59_years_total_population: integer (nullable = true)\n",
            " |-- sex_and_age-percent-55_to_59_years-of-total_population: double (nullable = true)\n",
            " |-- sex_and_age-population-60_to_64_years_total_population: integer (nullable = true)\n",
            " |-- sex_and_age-percent-60_to_64_years-of-total_population: double (nullable = true)\n",
            " |-- sex_and_age-population-65_to_74_years_total_population: integer (nullable = true)\n",
            " |-- sex_and_age-percent-65_to_74_years-of-total_population: double (nullable = true)\n",
            " |-- sex_and_age-population-75_to_84_years_total_population: integer (nullable = true)\n",
            " |-- sex_and_age-percent-75_to_84_years-of-total_population: double (nullable = true)\n",
            " |-- sex_and_age-population-85_years_and_over_total_population: integer (nullable = true)\n",
            " |-- sex_and_age-percent-85_years_and_over-of-total_population: double (nullable = true)\n",
            " |-- sex_and_age-age-median_age_years_total_population: double (nullable = true)\n",
            " |-- sex_and_age-population-18_years_and_over_total_population: integer (nullable = true)\n",
            " |-- sex_and_age-percent-18_years_and_over-of-total_population: double (nullable = true)\n",
            " |-- sex_and_age-population-21_years_and_over_total_population: integer (nullable = true)\n",
            " |-- sex_and_age-percent-21_years_and_over-of-total_population: double (nullable = true)\n",
            " |-- sex_and_age-population-62_years_and_over_total_population: integer (nullable = true)\n",
            " |-- sex_and_age-percent-62_years_and_over-of-total_population: double (nullable = true)\n",
            " |-- sex_and_age-population-65_years_and_over_total_population: integer (nullable = true)\n",
            " |-- sex_and_age-percent-65_years_and_over-of-total_population: double (nullable = true)\n",
            " |-- sex_and_age-population-male_18_years_and_over_population: integer (nullable = true)\n",
            " |-- sex_and_age-percent-male-of-18_years_and_over_population: double (nullable = true)\n",
            " |-- sex_and_age-population-female_18_years_and_over_population: integer (nullable = true)\n",
            " |-- sex_and_age-percent-female-of-18_years_and_over_population: double (nullable = true)\n",
            " |-- sex_and_age-population-male_65_years_and_over_population: integer (nullable = true)\n",
            " |-- sex_and_age-percent-male-of-65_years_and_over_population: double (nullable = true)\n",
            " |-- sex_and_age-population-female_65_years_and_over_population: integer (nullable = true)\n",
            " |-- sex_and_age-percent-female-of-65_years_and_over_population: double (nullable = true)\n",
            " |-- race-population-total_population: integer (nullable = true)\n",
            " |-- race-population-one_race_total_population: integer (nullable = true)\n",
            " |-- race-percent-one_race-of-total_population: double (nullable = true)\n",
            " |-- race-population-two_or_more_races_total_population: integer (nullable = true)\n",
            " |-- race-percent-two_or_more_races-of-total_population: double (nullable = true)\n",
            " |-- race-population-one_race_white_total_population: integer (nullable = true)\n",
            " |-- race-percent-one_race_white-of-total_population: double (nullable = true)\n",
            " |-- race-population-one_race_black_total_population: integer (nullable = true)\n",
            " |-- race-percent-one_race_black-of-total_population: double (nullable = true)\n",
            " |-- race-population-one_race_american_indian_and_alaska_native_total_population: integer (nullable = true)\n",
            " |-- race-percent-one_race_american_indian_and_alaska_native-of-total_population: double (nullable = true)\n",
            " |-- race_detailed-population-one_race_american_indian_and_alaska_native_cherokee_tribal_grouping_total_population: integer (nullable = true)\n",
            " |-- race_detailed-percent-one_race_american_indian_and_alaska_native_cherokee_tribal_grouping-of-total_population: double (nullable = true)\n",
            " |-- race_detailed-population-one_race_american_indian_and_alaska_native_chippewa_tribal_grouping_total_population: integer (nullable = true)\n",
            " |-- race_detailed-percent-one_race_american_indian_and_alaska_native_chippewa_tribal_grouping-of-total_population: double (nullable = true)\n",
            " |-- race_detailed-population-one_race_american_indian_and_alaska_native_navajo_tribal_grouping_total_population: integer (nullable = true)\n",
            " |-- race_detailed-percent-one_race_american_indian_and_alaska_native_navajo_tribal_grouping-of-total_population: double (nullable = true)\n",
            " |-- race_detailed-population-one_race_american_indian_and_alaska_native_sioux_tribal_grouping_total_population: integer (nullable = true)\n",
            " |-- race_detailed-percent-one_race_american_indian_and_alaska_native_sioux_tribal_grouping-of-total_population: double (nullable = true)\n",
            " |-- race-population-one_race_asian_total_population: integer (nullable = true)\n",
            " |-- race-percent-one_race_asian-of-total_population: double (nullable = true)\n",
            " |-- race_detailed-population-one_race_asian_indian_total_population: integer (nullable = true)\n",
            " |-- race_detailed-percent-one_race_asian_indian-of-total_population: double (nullable = true)\n",
            " |-- race_detailed-population-one_race_asian_chinese_total_population: integer (nullable = true)\n",
            " |-- race_detailed-percent-one_race_asian_chinese-of-total_population: double (nullable = true)\n",
            " |-- race_detailed-population-one_race_asian_filipino_total_population: integer (nullable = true)\n",
            " |-- race_detailed-percent-one_race_asian_filipino-of-total_population: double (nullable = true)\n",
            " |-- race_detailed-population-one_race_asian_japanese_total_population: integer (nullable = true)\n",
            " |-- race_detailed-percent-one_race_asian_japanese-of-total_population: double (nullable = true)\n",
            " |-- race_detailed-population-one_race_asian_korean_total_population: integer (nullable = true)\n",
            " |-- race_detailed-percent-one_race_asian_korean-of-total_population: double (nullable = true)\n",
            " |-- race_detailed-population-one_race_asian_vietnamese_total_population: integer (nullable = true)\n",
            " |-- race_detailed-percent-one_race_asian_vietnamese-of-total_population: double (nullable = true)\n",
            " |-- race_detailed-population-one_race_asian_other_total_population: integer (nullable = true)\n",
            " |-- race_detailed-percent-one_race_asian_other-of-total_population: double (nullable = true)\n",
            " |-- race-population-one_race_native_hawaiian_and_other_pacific_islander_total_population: integer (nullable = true)\n",
            " |-- race-percent-one_race_native_hawaiian_and_other_pacific_islander-of-total_population: double (nullable = true)\n",
            " |-- race_detailed-population-one_race_native_hawaiian_and_other_pacific_islander_native_hawaiian_total_population: integer (nullable = true)\n",
            " |-- race_detailed-percent-one_race_native_hawaiian_and_other_pacific_islander_native_hawaiian-of-total_population: double (nullable = true)\n",
            " |-- race_detailed-population-one_race_native_hawaiian_and_other_pacific_islander_guamanian_or_chamorro_total_population: integer (nullable = true)\n",
            " |-- race_detailed-percent-one_race_native_hawaiian_and_other_pacific_islander_guamanian_or_chamorro-of-total_population: double (nullable = true)\n",
            " |-- race_detailed-population-one_race_native_hawaiian_and_other_pacific_islander_samoan_total_population: integer (nullable = true)\n",
            " |-- race_detailed-percent-one_race_native_hawaiian_and_other_pacific_islander_samoan-of-total_population: double (nullable = true)\n",
            " |-- race_detailed-population-one_race_native_hawaiian_and_other_pacific_islander_other_pacific_islander_total_population: integer (nullable = true)\n",
            " |-- race_detailed-percent-one_race_native_hawaiian_and_other_pacific_islander_other_pacific_islander-of-total_population: double (nullable = true)\n",
            " |-- race-population-one_race_other_total_population: integer (nullable = true)\n",
            " |-- race-percent-one_race_other-of-total_population: double (nullable = true)\n",
            " |-- race_detailed-population-two_or_more_races-white_and_black_total_population: integer (nullable = true)\n",
            " |-- race_detailed-percent-two_or_more_races-white_and_black-of-total_population: double (nullable = true)\n",
            " |-- race_detailed-population-two_or_more_races-white_and_american_indian_and_alaska_native_total_population: integer (nullable = true)\n",
            " |-- race_detailed-percent-two_or_more_races-white_and_american_indian_and_alaska_native-of-total_population: double (nullable = true)\n",
            " |-- race_detailed-population-two_or_more_races-white_and_asian_total_population: integer (nullable = true)\n",
            " |-- race_detailed-percent-two_or_more_races-white_and_asian-of-total_population: double (nullable = true)\n",
            " |-- race_detailed-population-two_or_more_races-black_and_american_indian_and_alaska_native_total_population: integer (nullable = true)\n",
            " |-- race_detailed-percent-two_or_more_races-black_and_american_indian_and_alaska_native-of-total_population: double (nullable = true)\n",
            " |-- race_detailed-population-race_alone_or_in_combination_with_one_or_more_other_races_white_total_population: integer (nullable = true)\n",
            " |-- race_detailed-percent-race_alone_or_in_combination_with_one_or_more_other_races_white-of-total_population: double (nullable = true)\n",
            " |-- race_detailed-population-race_alone_or_in_combination_with_one_or_more_other_races_black_total_population: integer (nullable = true)\n",
            " |-- race_detailed-percent-race_alone_or_in_combination_with_one_or_more_other_races_black-of-total_population: double (nullable = true)\n",
            " |-- race_detailed-population-race_alone_or_in_combination_with_one_or_more_other_races_american_indian_and_alaska_native_total_population: integer (nullable = true)\n",
            " |-- race_detailed-percent-race_alone_or_in_combination_with_one_or_more_other_races_american_indian_and_alaska_native-of-total_population: double (nullable = true)\n",
            " |-- race_detailed-population-race_alone_or_in_combination_with_one_or_more_other_races_asian_total_population: integer (nullable = true)\n",
            " |-- race_detailed-percent-race_alone_or_in_combination_with_one_or_more_other_races_asian-of-total_population: double (nullable = true)\n",
            " |-- race_detailed-population-race_alone_or_in_combination_with_one_or_more_other_races_native_hawaiian_and_other_pacific_islander_total_population: integer (nullable = true)\n",
            " |-- race_detailed-percent-race_alone_or_in_combination_with_one_or_more_other_races_native_hawaiian_and_other_pacific_islander-of-total_population: double (nullable = true)\n",
            " |-- race_detailed-population-race_alone_or_in_combination_with_one_or_more_other_races_other_total_population: integer (nullable = true)\n",
            " |-- race_detailed-percent-race_alone_or_in_combination_with_one_or_more_other_races_other-of-total_population: double (nullable = true)\n",
            " |-- hispanic_or_latino_and_race-population-total_population: integer (nullable = true)\n",
            " |-- hispanic_or_latino_and_race-population-hispanic_or_latino_of_any_race_total_population: integer (nullable = true)\n",
            " |-- hispanic_or_latino_and_race-percent-hispanic_or_latino_of_any_race-of-total_population: double (nullable = true)\n",
            " |-- hispanic_or_latino_and_race_detailed-population-hispanic_or_latino_of_any_race_mexican_total_population: integer (nullable = true)\n",
            " |-- hispanic_or_latino_and_race_detailed-percent-hispanic_or_latino_of_any_race_mexican-of-total_population: double (nullable = true)\n",
            " |-- hispanic_or_latino_and_race_detailed-population-hispanic_or_latino_of_any_race_puerto_rican_total_population: integer (nullable = true)\n",
            " |-- hispanic_or_latino_and_race_detailed-percent-hispanic_or_latino_of_any_race_puerto_rican-of-total_population: double (nullable = true)\n",
            " |-- hispanic_or_latino_and_race_detailed-population-hispanic_or_latino_of_any_race_cuban_total_population: integer (nullable = true)\n",
            " |-- hispanic_or_latino_and_race_detailed-percent-hispanic_or_latino_of_any_race_cuban-of-total_population: double (nullable = true)\n",
            " |-- hispanic_or_latino_and_race_detailed-population-hispanic_or_latino_of_any_race_other_total_population: integer (nullable = true)\n",
            " |-- hispanic_or_latino_and_race_detailed-percent-hispanic_or_latino_of_any_race_other-of-total_population: double (nullable = true)\n",
            " |-- hispanic_or_latino_and_race-population-not_hispanic_or_latino_total_population: integer (nullable = true)\n",
            " |-- hispanic_or_latino_and_race-percent-not_hispanic_or_latino-of-total_population: double (nullable = true)\n",
            " |-- hispanic_or_latino_and_race_detailed-population-not_hispanic_or_latino_white_total_population: integer (nullable = true)\n",
            " |-- hispanic_or_latino_and_race_detailed-percent-not_hispanic_or_latino_white-of-total_population: double (nullable = true)\n",
            " |-- hispanic_or_latino_and_race_detailed-population-not_hispanic_or_latino_black_total_population: integer (nullable = true)\n",
            " |-- hispanic_or_latino_and_race_detailed-percent-not_hispanic_or_latino_black-of-total_population: double (nullable = true)\n",
            " |-- hispanic_or_latino_and_race_detailed-population-not_hispanic_or_latino_american_indian_and_alaska_native_total_population: integer (nullable = true)\n",
            " |-- hispanic_or_latino_and_race_detailed-percent-not_hispanic_or_latino_american_indian_and_alaska_native-of-total_population: double (nullable = true)\n",
            " |-- hispanic_or_latino_and_race_detailed-population-not_hispanic_or_latino_asian_total_population: integer (nullable = true)\n",
            " |-- hispanic_or_latino_and_race_detailed-percent-not_hispanic_or_latino_asian-of-total_population: double (nullable = true)\n",
            " |-- hispanic_or_latino_and_race_detailed-population-not_hispanic_or_latino_native_hawaiian_and_other_pacific_islander_total_population: integer (nullable = true)\n",
            " |-- hispanic_or_latino_and_race_detailed-percent-not_hispanic_or_latino_native_hawaiian_and_other_pacific_islander-of-total_population: double (nullable = true)\n",
            " |-- hispanic_or_latino_and_race_detailed-population-not_hispanic_or_latino_other_total_population: integer (nullable = true)\n",
            " |-- hispanic_or_latino_and_race_detailed-percent-not_hispanic_or_latino_other-of-total_population: double (nullable = true)\n",
            " |-- hispanic_or_latino_and_race_detailed-population-not_hispanic_or_latino_two_or_more_races_total_population: integer (nullable = true)\n",
            " |-- hispanic_or_latino_and_race_detailed-percent-not_hispanic_or_latino_two_or_more_races-of-total_population: double (nullable = true)\n",
            " |-- hispanic_or_latino_and_race_detailed-population-not_hispanic_or_latino_two_or_more_races_including_some_other_race_total_population: integer (nullable = true)\n",
            " |-- hispanic_or_latino_and_race_detailed-percent-not_hispanic_or_latino_two_or_more_races_including_some_other_race-of-total_population: double (nullable = true)\n",
            " |-- hispanic_or_latino_and_race_detailed-population-not_hispanic_or_latino_two_or_more_races_excluding_some_other_race_and_three_or_more_races_total_population: integer (nullable = true)\n",
            " |-- hispanic_or_latino_and_race_detailed-percent-not_hispanic_or_latino_two_or_more_races_excluding_some_other_race_and_three_or_more_races-of-total_population: double (nullable = true)\n",
            " |-- hispanic_or_latino_and_race-housing_units-total_housing_units: integer (nullable = true)\n",
            " |-- citizen_voting_age_population-population-citizen_18_and_over_population: integer (nullable = true)\n",
            " |-- citizen_voting_age_population-population-male_citizen_18_and_over_population: integer (nullable = true)\n",
            " |-- citizen_voting_age_population-percent-male-of-citizen_18_and_over_population: double (nullable = true)\n",
            " |-- citizen_voting_age_population-population-female_citizen_18_and_over_population: integer (nullable = true)\n",
            " |-- citizen_voting_age_population-percent-female-of-citizen_18_and_over_population: double (nullable = true)\n",
            " |-- employment_status-population-population_16_years_and_over: integer (nullable = true)\n",
            " |-- employment_status-population-in_labor_force_population_16_years_and_over: integer (nullable = true)\n",
            " |-- employment_status-percent-in_labor_force-of-population_16_years_and_over: double (nullable = true)\n",
            " |-- employment_status-population-in_civilian_labor_force_population_16_years_and_over: integer (nullable = true)\n",
            " |-- employment_status-percent-in_civilian_labor_force-of-population_16_years_and_over: double (nullable = true)\n",
            " |-- employment_status-population-employed_population_16_years_and_over: integer (nullable = true)\n",
            " |-- employment_status-percent-employed-of-population_16_years_and_over: double (nullable = true)\n",
            " |-- employment_status-population-unemployed_population_16_years_and_over: integer (nullable = true)\n",
            " |-- employment_status-percent-unemployed-of-population_16_years_and_over: double (nullable = true)\n",
            " |-- employment_status-population-armed_forces_population_16_years_and_over: integer (nullable = true)\n",
            " |-- employment_status-percent-armed_forces-of-population_16_years_and_over: double (nullable = true)\n",
            " |-- employment_status-population-not_in_labor_force_population_16_years_and_over: integer (nullable = true)\n",
            " |-- employment_status-percent-not_in_labor_force-of-population_16_years_and_over: double (nullable = true)\n",
            " |-- employment_status-percent-unemployed-of-civilian_labor_force_population_16_years_and_over: double (nullable = true)\n",
            " |-- employment_status-population_females_16_years_and_over: integer (nullable = true)\n",
            " |-- employment_status-population-in_labor_force_females_16_years_and_over: integer (nullable = true)\n",
            " |-- employment_status-percent-in_labor_force-of-females_16_years_and_over: double (nullable = true)\n",
            " |-- employment_status-population-in_civilian_labor_force_females_16_years_and_over: integer (nullable = true)\n",
            " |-- employment_status-percent-in_civilian_labor_force-of-females_16_years_and_over: double (nullable = true)\n",
            " |-- employment_status-population-employed_females_16_years_and_over: integer (nullable = true)\n",
            " |-- employment_status-percent-employed-of-females_16_years_and_over: double (nullable = true)\n",
            " |-- employment_status-population_own_children_of_the_householder_under_6_years: integer (nullable = true)\n",
            " |-- employment_status-population-all_parents_in_family_in_labor_force_own_children_of_the_householder_under_6_years: integer (nullable = true)\n",
            " |-- employment_status-percent-all_parents_in_family_in_labor_force-of-own_children_of_the_householder_under_6_years: double (nullable = true)\n",
            " |-- employment_status-population_own_children_of_the_householder_6_to_17_years: integer (nullable = true)\n",
            " |-- employment_status-population-all_parents_in_family_in_labor_force_own_children_of_the_householder_6_to_17_years: integer (nullable = true)\n",
            " |-- employment_status-percent-all_parents_in_family_in_labor_force-of-own_children_of_the_householder_6_to_17_years: double (nullable = true)\n",
            " |-- commuting_to_work-population_workers_16_years_and_over: integer (nullable = true)\n",
            " |-- commuting_to_work-population-car_truck_or_van_alone_workers_16_years_and_over: integer (nullable = true)\n",
            " |-- commuting_to_work-percent-car_truck_or_van_alone-of-workers_16_years_and_over: double (nullable = true)\n",
            " |-- commuting_to_work-population-car_truck_or_van_carpooled_workers_16_years_and_over: integer (nullable = true)\n",
            " |-- commuting_to_work-percent-car_truck_or_van_carpooled-of-workers_16_years_and_over: double (nullable = true)\n",
            " |-- commuting_to_work-population-public_transportation_excluding_taxicab_workers_16_years_and_over: integer (nullable = true)\n",
            " |-- commuting_to_work-percent-public_transportation_excluding_taxicab-of-workers_16_years_and_over: double (nullable = true)\n",
            " |-- commuting_to_work-population-walked_workers_16_years_and_over: integer (nullable = true)\n",
            " |-- commuting_to_work-percent-walked-of-workers_16_years_and_over: double (nullable = true)\n",
            " |-- commuting_to_work-population-other_means_workers_16_years_and_over: integer (nullable = true)\n",
            " |-- commuting_to_work-percent-other_means-of-workers_16_years_and_over: double (nullable = true)\n",
            " |-- commuting_to_work-population-worked_at_home_workers_16_years_and_over: integer (nullable = true)\n",
            " |-- commuting_to_work-percent-worked_at_home-of-workers_16_years_and_over: double (nullable = true)\n",
            " |-- commuting_to_work-minutes-mean_travel_time_to_work_minutes: double (nullable = true)\n",
            " |-- occupation-population-civilian_employed_population_16_years_and_over: integer (nullable = true)\n",
            " |-- occupation-population-management_business_science_and_arts_occupations_civilian_employed_population_16_years_and_over: integer (nullable = true)\n",
            " |-- occupation-percent-management_business_science_and_arts_occupations-of-civilian_employed_population_16_years_and_over: double (nullable = true)\n",
            " |-- occupation-population-service_occupations_civilian_employed_population_16_years_and_over: integer (nullable = true)\n",
            " |-- occupation-percent-service_occupations-of-civilian_employed_population_16_years_and_over: double (nullable = true)\n",
            " |-- occupation-population-sales_and_office_occupations_civilian_employed_population_16_years_and_over: integer (nullable = true)\n",
            " |-- occupation-percent-sales_and_office_occupations-of-civilian_employed_population_16_years_and_over: double (nullable = true)\n",
            " |-- occupation-population-natural_resources_construction_and_maintenance_occupations_civilian_employed_population_16_years_and_over: integer (nullable = true)\n",
            " |-- occupation-percent-natural_resources_construction_and_maintenance_occupations-of-civilian_employed_population_16_years_and_over: double (nullable = true)\n",
            " |-- occupation-population-production_transportation_and_material_moving_occupations_civilian_employed_population_16_years_and_over: integer (nullable = true)\n",
            " |-- occupation-percent-production_transportation_and_material_moving_occupations-of-civilian_employed_population_16_years_and_over: double (nullable = true)\n",
            " |-- industry-population-civilian_employed_population_16_years_and_over: integer (nullable = true)\n",
            " |-- industry-population-agriculture_forestry_fishing_and_hunting_and_mining_civilian_employed_population_16_years_and_over: integer (nullable = true)\n",
            " |-- industry-percent-agriculture_forestry_fishing_and_hunting_and_mining-of-civilian_employed_population_16_years_and_over: double (nullable = true)\n",
            " |-- industry-population-construction_civilian_employed_population_16_years_and_over: integer (nullable = true)\n",
            " |-- industry-percent-construction-of-civilian_employed_population_16_years_and_over: double (nullable = true)\n",
            " |-- industry-population-manufacturing_civilian_employed_population_16_years_and_over: integer (nullable = true)\n",
            " |-- industry-percent-manufacturing-of-civilian_employed_population_16_years_and_over: double (nullable = true)\n",
            " |-- industry-population-wholesale_trade_civilian_employed_population_16_years_and_over: integer (nullable = true)\n",
            " |-- industry-percent-wholesale_trade-of-civilian_employed_population_16_years_and_over: double (nullable = true)\n",
            " |-- industry-population-retail_trade_civilian_employed_population_16_years_and_over: integer (nullable = true)\n",
            " |-- industry-percent-retail_trade-of-civilian_employed_population_16_years_and_over: double (nullable = true)\n",
            " |-- industry-population-transportation_and_warehousing_and_utilities_civilian_employed_population_16_years_and_over: integer (nullable = true)\n",
            " |-- industry-percent-transportation_and_warehousing_and_utilities-of-civilian_employed_population_16_years_and_over: double (nullable = true)\n",
            " |-- industry-population-information_civilian_employed_population_16_years_and_over: integer (nullable = true)\n",
            " |-- industry-percent-information-of-civilian_employed_population_16_years_and_over: double (nullable = true)\n",
            " |-- industry-population-finance_and_insurance_and_real_estate_and_rental_and_leasing_civilian_employed_population_16_years_and_over: integer (nullable = true)\n",
            " |-- industry-percent-finance_and_insurance_and_real_estate_and_rental_and_leasing-of-civilian_employed_population_16_years_and_over: double (nullable = true)\n",
            " |-- industry-population-professional_scientific_and_management_and_administrative_and_waste_management_services_civilian_employed_population_16_years_and_over: integer (nullable = true)\n",
            " |-- industry-percent-professional_scientific_and_management_and_administrative_and_waste_management_services-of-civilian_employed_population_16_years_and_over: double (nullable = true)\n",
            " |-- industry-population-educational_services_and_health_care_and_social_assistance_civilian_employed_population_16_years_and_over: integer (nullable = true)\n",
            " |-- industry-percent-educational_services_and_health_care_and_social_assistance-of-civilian_employed_population_16_years_and_over: double (nullable = true)\n",
            " |-- industry-population-arts_entertainment_and_recreation_and_accommodation_and_food_services_civilian_employed_population_16_years_and_over: integer (nullable = true)\n",
            " |-- industry-percent-arts_entertainment_and_recreation_and_accommodation_and_food_services-of-civilian_employed_population_16_years_and_over: double (nullable = true)\n",
            " |-- industry-population-other_services_except_public_administration_civilian_employed_population_16_years_and_over: integer (nullable = true)\n",
            " |-- industry-percent-other_services_except_public_administration-of-civilian_employed_population_16_years_and_over: double (nullable = true)\n",
            " |-- industry-population-public_administration_civilian_employed_population_16_years_and_over: integer (nullable = true)\n",
            " |-- industry-percent-public_administration-of-civilian_employed_population_16_years_and_over: double (nullable = true)\n",
            " |-- class_of_worker-population-civilian_employed_population_16_years_and_over: integer (nullable = true)\n",
            " |-- class_of_worker-population-private_wage_and_salary_workers_civilian_employed_population_16_years_and_over: integer (nullable = true)\n",
            " |-- class_of_worker-percent-private_wage_and_salary_workers-of-civilian_employed_population_16_years_and_over: double (nullable = true)\n",
            " |-- class_of_worker-population-government_workers_civilian_employed_population_16_years_and_over: integer (nullable = true)\n",
            " |-- class_of_worker-percent-government_workers-of-civilian_employed_population_16_years_and_over: double (nullable = true)\n",
            " |-- class_of_worker-population-self_employed_in_own_not_incorporated_business_workers_civilian_employed_population_16_years_and_over: integer (nullable = true)\n",
            " |-- class_of_worker-percent-self_employed_in_own_not_incorporated_business_workers-of-civilian_employed_population_16_years_and_over: double (nullable = true)\n",
            " |-- class_of_worker-population-unpaid_family_workers_civilian_employed_population_16_years_and_over: integer (nullable = true)\n",
            " |-- class_of_worker-percent-unpaid_family_workers-of-civilian_employed_population_16_years_and_over: double (nullable = true)\n",
            " |-- income_and_benefits_in_2016_inflation_adjusted_dollars-households-total_households: integer (nullable = true)\n",
            " |-- income_and_benefits_in_2016_inflation_adjusted_dollars-households-less_than_10000_total_households: integer (nullable = true)\n",
            " |-- income_and_benefits_in_2016_inflation_adjusted_dollars-percent-less_than_10000-of-total_households: double (nullable = true)\n",
            " |-- income_and_benefits_in_2016_inflation_adjusted_dollars-households-10000_to_14999_total_households: integer (nullable = true)\n",
            " |-- income_and_benefits_in_2016_inflation_adjusted_dollars-percent-10000_to_14999-of-total_households: double (nullable = true)\n",
            " |-- income_and_benefits_in_2016_inflation_adjusted_dollars-households-15000_to_24999_total_households: integer (nullable = true)\n",
            " |-- income_and_benefits_in_2016_inflation_adjusted_dollars-percent-15000_to_24999-of-total_households: double (nullable = true)\n",
            " |-- income_and_benefits_in_2016_inflation_adjusted_dollars-households-25000_to_34999_total_households: integer (nullable = true)\n",
            " |-- income_and_benefits_in_2016_inflation_adjusted_dollars-percent-25000_to_34999-of-total_households: double (nullable = true)\n",
            " |-- income_and_benefits_in_2016_inflation_adjusted_dollars-households-35000_to_49999_total_households: integer (nullable = true)\n",
            " |-- income_and_benefits_in_2016_inflation_adjusted_dollars-percent-35000_to_49999-of-total_households: double (nullable = true)\n",
            " |-- income_and_benefits_in_2016_inflation_adjusted_dollars-households-50000_to_74999_total_households: integer (nullable = true)\n",
            " |-- income_and_benefits_in_2016_inflation_adjusted_dollars-percent-50000_to_74999-of-total_households: double (nullable = true)\n",
            " |-- income_and_benefits_in_2016_inflation_adjusted_dollars-households-75000_to_99999_total_households: integer (nullable = true)\n",
            " |-- income_and_benefits_in_2016_inflation_adjusted_dollars-percent-75000_to_99999-of-total_households: double (nullable = true)\n",
            " |-- income_and_benefits_in_2016_inflation_adjusted_dollars-households-100000_to_149999_total_households: integer (nullable = true)\n",
            " |-- income_and_benefits_in_2016_inflation_adjusted_dollars-percent-100000_to_149999-of-total_households: double (nullable = true)\n",
            " |-- income_and_benefits_in_2016_inflation_adjusted_dollars-households-150000_to_199999_total_households: integer (nullable = true)\n",
            " |-- income_and_benefits_in_2016_inflation_adjusted_dollars-percent-150000_to_199999-of-total_households: double (nullable = true)\n",
            " |-- income_and_benefits_in_2016_inflation_adjusted_dollars-households-200000_or_more_total_households: integer (nullable = true)\n",
            " |-- income_and_benefits_in_2016_inflation_adjusted_dollars-percent-200000_or_more-of-total_households: double (nullable = true)\n",
            " |-- income_and_benefits_in_2016_inflation_adjusted_dollars-dollars-median_household_income_dollars: double (nullable = true)\n",
            " |-- income_and_benefits_in_2016_inflation_adjusted_dollars-dollars-mean_household_income_dollars: double (nullable = true)\n",
            " |-- income_and_benefits_in_2016_inflation_adjusted_dollars-households-households_with_earnings: integer (nullable = true)\n",
            " |-- income_and_benefits_in_2016_inflation_adjusted_dollars-percent-households_with_earnings-of-total_households: double (nullable = true)\n",
            " |-- income_and_benefits_in_2016_inflation_adjusted_dollars-dollars-mean_earnings_dollars_households_with_earnings: double (nullable = true)\n",
            " |-- income_and_benefits_in_2016_inflation_adjusted_dollars-households-households_with_social_security: integer (nullable = true)\n",
            " |-- income_and_benefits_in_2016_inflation_adjusted_dollars-percent-households_with_social_security-of-total_households: double (nullable = true)\n",
            " |-- income_and_benefits_in_2016_inflation_adjusted_dollars-dollars-mean_social_security_income_dollars_households_with_social_security: double (nullable = true)\n",
            " |-- income_and_benefits_in_2016_inflation_adjusted_dollars-households-households_with_retirement_income: integer (nullable = true)\n",
            " |-- income_and_benefits_in_2016_inflation_adjusted_dollars-percent-households_with_retirement_income-of-total_households: double (nullable = true)\n",
            " |-- income_and_benefits_in_2016_inflation_adjusted_dollars-households-mean_retirement_income_dollars_households_with_retirement_income: double (nullable = true)\n",
            " |-- income_and_benefits_in_2016_inflation_adjusted_dollars-households-households_with_supplemental_security_income: integer (nullable = true)\n",
            " |-- income_and_benefits_in_2016_inflation_adjusted_dollars-percent-households_with_supplemental_security_income-of-total_households: double (nullable = true)\n",
            " |-- income_and_benefits_in_2016_inflation_adjusted_dollars-dollars-mean_supplemental_security_income_dollars_households_with_supplemental_security_income: double (nullable = true)\n",
            " |-- income_and_benefits_in_2016_inflation_adjusted_dollars-households-households_with_cash_public_assistance_income: integer (nullable = true)\n",
            " |-- income_and_benefits_in_2016_inflation_adjusted_dollars-percent-with_cash_public_assistance_income-of-total_households: double (nullable = true)\n",
            " |-- income_and_benefits_in_2016_inflation_adjusted_dollars-dollars-mean_cash_public_assistance_income_dollars_households_with_cash_public_assistance_income: double (nullable = true)\n",
            " |-- income_and_benefits_in_2016_inflation_adjusted_dollars-households-households_with_food_stampsnap_benefits_in_the_past_12_months: integer (nullable = true)\n",
            " |-- income_and_benefits_in_2016_inflation_adjusted_dollars-percent-households_with_food_stampsnap_benefits_in_the_past_12_months-of-total_households: double (nullable = true)\n",
            " |-- income_and_benefits_in_2016_inflation_adjusted_dollars-families-total_families: integer (nullable = true)\n",
            " |-- income_and_benefits_in_2016_inflation_adjusted_dollars-families-less_than_10000_total_families: integer (nullable = true)\n",
            " |-- income_and_benefits_in_2016_inflation_adjusted_dollars-percent-less_than_10000-of-total_families: double (nullable = true)\n",
            " |-- income_and_benefits_in_2016_inflation_adjusted_dollars-families-10000_to_14999_total_families: integer (nullable = true)\n",
            " |-- income_and_benefits_in_2016_inflation_adjusted_dollars-percent-10000_to_14999-of-total_families: double (nullable = true)\n",
            " |-- income_and_benefits_in_2016_inflation_adjusted_dollars-families-15000_to_24999_total_families: integer (nullable = true)\n",
            " |-- income_and_benefits_in_2016_inflation_adjusted_dollars-percent-15000_to_24999-of-total_families: double (nullable = true)\n",
            " |-- income_and_benefits_in_2016_inflation_adjusted_dollars-families-25000_to_34999_total_families: integer (nullable = true)\n",
            " |-- income_and_benefits_in_2016_inflation_adjusted_dollars-percent-25000_to_34999-of-total_families: double (nullable = true)\n",
            " |-- income_and_benefits_in_2016_inflation_adjusted_dollars-families-35000_to_49999_total_families: integer (nullable = true)\n",
            " |-- income_and_benefits_in_2016_inflation_adjusted_dollars-percent-35000_to_49999-of-total_families: double (nullable = true)\n",
            " |-- income_and_benefits_in_2016_inflation_adjusted_dollars-families-50000_to_74999_total_families: integer (nullable = true)\n",
            " |-- income_and_benefits_in_2016_inflation_adjusted_dollars-percent-50000_to_74999-of-total_families: double (nullable = true)\n",
            " |-- income_and_benefits_in_2016_inflation_adjusted_dollars-families-75000_to_99999_total_families: integer (nullable = true)\n",
            " |-- income_and_benefits_in_2016_inflation_adjusted_dollars-percent-75000_to_99999-of-total_families: double (nullable = true)\n",
            " |-- income_and_benefits_in_2016_inflation_adjusted_dollars-families-100000_to_149999_total_families: integer (nullable = true)\n",
            " |-- income_and_benefits_in_2016_inflation_adjusted_dollars-percent-100000_to_149999-of-total_families: double (nullable = true)\n",
            " |-- income_and_benefits_in_2016_inflation_adjusted_dollars-families-150000_to_199999_total_families: integer (nullable = true)\n",
            " |-- income_and_benefits_in_2016_inflation_adjusted_dollars-percent-150000_to_199999-of-total_families: double (nullable = true)\n",
            " |-- income_and_benefits_in_2016_inflation_adjusted_dollars-families-200000_or_more_total_families: integer (nullable = true)\n",
            " |-- income_and_benefits_in_2016_inflation_adjusted_dollars-percent-200000_or_more-of-total_families: double (nullable = true)\n",
            " |-- income_and_benefits_in_2016_inflation_adjusted_dollars-dollars-median_family_income_dollars: double (nullable = true)\n",
            " |-- income_and_benefits_in_2016_inflation_adjusted_dollars-dollars-mean_family_income_dollars: double (nullable = true)\n",
            " |-- income_and_benefits_in_2016_inflation_adjusted_dollars-dollars-per_capita_family_income_dollars: double (nullable = true)\n",
            " |-- income_and_benefits_in_2016_inflation_adjusted_dollars-households-nonfamily_households: integer (nullable = true)\n",
            " |-- income_and_benefits_in_2016_inflation_adjusted_dollars-dollars-median_nonfamily_income_dollars: double (nullable = true)\n",
            " |-- income_and_benefits_in_2016_inflation_adjusted_dollars-dollars-mean_nonfamily_income_dollars: double (nullable = true)\n",
            " |-- income_and_benefits_in_2016_inflation_adjusted_dollars-dollars-median_workers_earnings_dollars: double (nullable = true)\n",
            " |-- income_and_benefits_in_2016_inflation_adjusted_dollars-dollars-median_male_full-time_year_round_workers_earnings_dollars: double (nullable = true)\n",
            " |-- income_and_benefits_in_2016_inflation_adjusted_dollars-dollars-median_female_full-time_year_round_workers_earnings_dollars: double (nullable = true)\n",
            " |-- health_insurance_coverage-population-civilian_noninstitutionalized_population: integer (nullable = true)\n",
            " |-- health_insurance_coverage-population-with_health_insurance_civilian_noninstitutionalized_population: integer (nullable = true)\n",
            " |-- health_insurance_coverage-percent-with_health_insurance-of-civilian_noninstitutionalized_population: double (nullable = true)\n",
            " |-- health_insurance_coverage-population-with_private_health_insurance_civilian_noninstitutionalized_population: integer (nullable = true)\n",
            " |-- health_insurance_coverage-percent-with_private_health_insurance-of-civilian_noninstitutionalized_population: double (nullable = true)\n",
            " |-- health_insurance_coverage-population-with_public_health_insurance_civilian_noninstitutionalized_population: integer (nullable = true)\n",
            " |-- health_insurance_coverage-percent-with_public_health_insurance-of-civilian_noninstitutionalized_population: double (nullable = true)\n",
            " |-- health_insurance_coverage-population-no_health_insurance_civilian_noninstitutionalized_population: integer (nullable = true)\n",
            " |-- health_insurance_coverage-percent-no_health_insurance-of-civilian_noninstitutionalized_population: double (nullable = true)\n",
            " |-- health_insurance_coverage-population-under_18_years_civilian_noninstitutionalized_population: integer (nullable = true)\n",
            " |-- health_insurance_coverage-percent-under_18_years-of-civilian_noninstitutionalized_population: double (nullable = true)\n",
            " |-- health_insurance_coverage-population-no_health_insurance_under_18_years_civilian_noninstitutionalized_population: integer (nullable = true)\n",
            " |-- health_insurance_coverage-percent-no_health_insurance-of-under_18_years_civilian_noninstitutionalized_population: double (nullable = true)\n",
            " |-- health_insurance_coverage-population-18_to_64_years_civilian_noninstitutionalized_population: integer (nullable = true)\n",
            " |-- health_insurance_coverage-percent-18_to_64_years-of-civilian_noninstitutionalized_population: double (nullable = true)\n",
            " |-- health_insurance_coverage-population-18_to_64_years_in_labor_force_civilian_noninstitutionalized_population: integer (nullable = true)\n",
            " |-- health_insurance_coverage-percent-18_to_64_years_in_labor_force-of-civilian_noninstitutionalized_population: double (nullable = true)\n",
            " |-- health_insurance_coverage-population-18_to_64_years_employed_civilian_noninstitutionalized_population: integer (nullable = true)\n",
            " |-- health_insurance_coverage-percent-18_to_64_years_employed-of-civilian_noninstitutionalized_population: double (nullable = true)\n",
            " |-- health_insurance_coverage-population-with_health_insurance_18_to_64_years_employed_civilian_noninstitutionalized_population: integer (nullable = true)\n",
            " |-- health_insurance_coverage-percent-with_health_insurance-of-18_to_64_years_employed_civilian_noninstitutionalized_population: double (nullable = true)\n",
            " |-- health_insurance_coverage-population-with_private_health_insurance_18_to_64_years_employed_civilian_noninstitutionalized_population: integer (nullable = true)\n",
            " |-- health_insurance_coverage-percent-with_private_health_insurance-of-18_to_64_years_employed_civilian_noninstitutionalized_population: double (nullable = true)\n",
            " |-- health_insurance_coverage-population-with_public_health_insurance_18_to_64_years_employed_civilian_noninstitutionalized_population: integer (nullable = true)\n",
            " |-- health_insurance_coverage-percent-with_public_health_insurance-of-18_to_64_years_employed_civilian_noninstitutionalized_population: double (nullable = true)\n",
            " |-- health_insurance_coverage-population-no_health_insurance_18_to_64_years_employed_civilian_noninstitutionalized_population: integer (nullable = true)\n",
            " |-- health_insurance_coverage-percent-no_health_insurance-of-18_to_64_years_employed_civilian_noninstitutionalized_population: double (nullable = true)\n",
            " |-- health_insurance_coverage-population-18_to_64_years_unemployed_civilian_noninstitutionalized_population: integer (nullable = true)\n",
            " |-- health_insurance_coverage-percent-18_to_64_years_unemployed-of-civilian_noninstitutionalized_population: double (nullable = true)\n",
            " |-- health_insurance_coverage-population-with_health_insurance_18_to_64_years_unemployed_civilian_noninstitutionalized_population: integer (nullable = true)\n",
            " |-- health_insurance_coverage-percent-with_health_insurance-of-18_to_64_years_unemployed_civilian_noninstitutionalized_population: double (nullable = true)\n",
            " |-- health_insurance_coverage-population-with_private_health_insurance_18_to_64_years_unemployed_civilian_noninstitutionalized_population: integer (nullable = true)\n",
            " |-- health_insurance_coverage-percent-with_private_health_insurance-of-18_to_64_years_unemployed_civilian_noninstitutionalized_population: double (nullable = true)\n",
            " |-- health_insurance_coverage-population-with_public_health_insurance_18_to_64_years_unemployed_civilian_noninstitutionalized_population: integer (nullable = true)\n",
            " |-- health_insurance_coverage-percent-with_public_health_insurance-of-18_to_64_years_unemployed_civilian_noninstitutionalized_population: double (nullable = true)\n",
            " |-- health_insurance_coverage-population-no_health_insurance-18_to_64_years_unemployed_civilian_noninstitutionalized_population: integer (nullable = true)\n",
            " |-- health_insurance_coverage-percent-no_health_insurance-of-18_to_64_years_unemployed_civilian_noninstitutionalized_population: double (nullable = true)\n",
            " |-- health_insurance_coverage-population-18_to_64_years_not_in_labor_force_civilian_noninstitutionalized_population: integer (nullable = true)\n",
            " |-- health_insurance_coverage-percent-18_to_64_years_not_in_labor_force-of-civilian_noninstitutionalized_population: double (nullable = true)\n",
            " |-- health_insurance_coverage-population-with_health_insurance_18_to_64_years_not_in_labor_force_civilian_noninstitutionalized_population: integer (nullable = true)\n",
            " |-- health_insurance_coverage-percent-with_health_insurance-of-18_to_64_years_not_in_labor_force_civilian_noninstitutionalized_population: double (nullable = true)\n",
            " |-- health_insurance_coverage-population-with_private_health_insurance_18_to_64_years_not_in_labor_force_civilian_noninstitutionalized_population: integer (nullable = true)\n",
            " |-- health_insurance_coverage-percent-with_private_health_insurance-of-18_to_64_years_not_in_labor_force_civilian_noninstitutionalized_population: double (nullable = true)\n",
            " |-- health_insurance_coverage-population-with_public_health_insurance_18_to_64_years_not_in_labor_force_civilian_noninstitutionalized_population: integer (nullable = true)\n",
            " |-- health_insurance_coverage-percent-with_public_health_insurance-of-18_to_64_years_not_in_labor_force_civilian_noninstitutionalized_population: double (nullable = true)\n",
            " |-- health_insurance_coverage-population-no_health_insurance_18_to_64_years_not_in_labor_force_civilian_noninstitutionalized_population: integer (nullable = true)\n",
            " |-- health_insurance_coverage-percent-no_health_insurance-of-18_to_64_years_not_in_labor_force_civilian_noninstitutionalized_population: double (nullable = true)\n",
            " |-- people_whose_income_in_past_12m_is_below_poverty_level-percent-families-of-all_families: double (nullable = true)\n",
            " |-- people_whose_income_in_past_12m_is_below_poverty_level-percent-families_with_under_18_years_related_children-of-all_families: double (nullable = true)\n",
            " |-- people_whose_income_in_past_12m_is_below_poverty_level-percent-families_with_under_5_years_only_related_children-of-all_families: double (nullable = true)\n",
            " |-- people_whose_income_in_past_12m_is_below_poverty_level-percent-married_couple_families-of-all_families: double (nullable = true)\n",
            " |-- people_whose_income_in_past_12m_is_below_poverty_level-percent-married_couple_families_with_under_18_years_related_children-of-all_families: double (nullable = true)\n",
            " |-- people_whose_income_in_past_12m_is_below_poverty_level-percent-married_couple_families_with_5_years_only_related_children_under-of-all_families: double (nullable = true)\n",
            " |-- people_whose_income_in_past_12m_is_below_poverty_level-percent-families_with_female_householder_no_husband-of-all_families: double (nullable = true)\n",
            " |-- people_whose_income_in_past_12m_is_below_poverty_level-percent-families_with_female_householder_no_husband_with_under_18_years_related_children-of-all_families: double (nullable = true)\n",
            " |-- people_whose_income_in_past_12m_is_below_poverty_level-percent-families_with_female_householder_no_husband_with_under_5_years_only_related_children-of-all_families: double (nullable = true)\n",
            " |-- people_whose_income_in_past_12m_is_below_poverty_level-percent-people-of-all_people: double (nullable = true)\n",
            " |-- people_whose_income_in_past_12m_is_below_poverty_level-percent-under_18_years-of-all_people: double (nullable = true)\n",
            " |-- people_whose_income_in_past_12m_is_below_poverty_level-percent-related_children_under_18_years-of-all_people: double (nullable = true)\n",
            " |-- people_whose_income_in_past_12m_is_below_poverty_level-percent-related_children_under_5_years-of-all_people: double (nullable = true)\n",
            " |-- people_whose_income_in_past_12m_is_below_poverty_level-percent-related_children_5_to_17_years-of-all_people: double (nullable = true)\n",
            " |-- people_whose_income_in_past_12m_is_below_poverty_level-percent-18_years_and_over-of-all_people: double (nullable = true)\n",
            " |-- people_whose_income_in_past_12m_is_below_poverty_level-percent-18_to_64_years-of-all_people: double (nullable = true)\n",
            " |-- people_whose_income_in_past_12m_is_below_poverty_level-percent-65_years_and_over-of-all_people: double (nullable = true)\n",
            " |-- people_whose_income_in_past_12m_is_below_poverty_level-percent-people_in_families-of-all_families: double (nullable = true)\n",
            " |-- people_whose_income_in_past_12m_is_below_poverty_level-percent-unrelated_individuals_15_years_and_over-of-all_families: double (nullable = true)\n",
            " |-- housing_occupancy-housing_units-total_housing_units: integer (nullable = true)\n",
            " |-- housing_occupancy-housing_units-occupied_housing_units_total_housing_units: integer (nullable = true)\n",
            " |-- housing_occupancy-percent-occupied_housing_units-of-total_housing_units: double (nullable = true)\n",
            " |-- housing_occupancy-housing_units-vacant_housing_units_total_housing_units: integer (nullable = true)\n",
            " |-- housing_occupancy-percent-vacant_housing_units-of-total_housing_units: double (nullable = true)\n",
            " |-- housing_occupancy-percent-homeowner_vacancy_rate-of-total_housing_units_for_sale: double (nullable = true)\n",
            " |-- housing_occupancy-percent-rental_vacancy_rate-of-total_housing_units_for_sale: double (nullable = true)\n",
            " |-- units_in_structure-housing_units-total_housing_units: integer (nullable = true)\n",
            " |-- units_in_structure-housing_units-1_unit_detached_total_housing_units: integer (nullable = true)\n",
            " |-- units_in_structure-percent-1_unit_detached-of-total_housing_units: double (nullable = true)\n",
            " |-- units_in_structure-housing_units-1_unit_attached_total_housing_units: integer (nullable = true)\n",
            " |-- units_in_structure-percent-1_unit_attached-of-total_housing_units: double (nullable = true)\n",
            " |-- units_in_structure-housing_units-2_units_total_housing_units: integer (nullable = true)\n",
            " |-- units_in_structure-percent-2_units-of-total_housing_units: double (nullable = true)\n",
            " |-- units_in_structure-housing_units-3_or_4_units_total_housing_units: integer (nullable = true)\n",
            " |-- units_in_structure-percent-3_or_4_units-of-total_housing_units: double (nullable = true)\n",
            " |-- units_in_structure-housing_units-5_to_9_units_total_housing_units: integer (nullable = true)\n",
            " |-- units_in_structure-percent-5_to_9_units-of-total_housing_units: double (nullable = true)\n",
            " |-- units_in_structure-housing_units-10_to_19_units_total_housing_units: integer (nullable = true)\n",
            " |-- units_in_structure-percent-10_to_19_units-of-total_housing_units: double (nullable = true)\n",
            " |-- units_in_structure-housing_units-20_or_more_units_total_housing_units: integer (nullable = true)\n",
            " |-- units_in_structure-percent-20_or_more_units-of-total_housing_units: double (nullable = true)\n",
            " |-- units_in_structure-housing_units-mobile_home_total_housing_units: integer (nullable = true)\n",
            " |-- units_in_structure-percent-mobile_home-of-total_housing_units: double (nullable = true)\n",
            " |-- units_in_structure-housing_units-boat_rv_van_total_housing_units: integer (nullable = true)\n",
            " |-- units_in_structure-percent-boat_rv_van-of-total_housing_units: double (nullable = true)\n",
            " |-- year_structure_built-housing_units-total_housing_units: integer (nullable = true)\n",
            " |-- year_structure_built-housing_units-built_2014_or_later_total_housing_units: integer (nullable = true)\n",
            " |-- year_structure_built-percent-built_2014_or_later-of-total_housing_units: double (nullable = true)\n",
            " |-- year_structure_built-housing_units-built_2010_to_2013_total_housing_units: integer (nullable = true)\n",
            " |-- year_structure_built-percent-built_2010_to_2013-of-total_housing_units: double (nullable = true)\n",
            " |-- year_structure_built-housing_units-built_2000_to_2009_total_housing_units: integer (nullable = true)\n",
            " |-- year_structure_built-percent-built_2000_to_2009-of-total_housing_units: double (nullable = true)\n",
            " |-- year_structure_built-housing_units-built_1990_to_1999_total_housing_units: integer (nullable = true)\n",
            " |-- year_structure_built-percent-built_1990_to_1999-of-total_housing_units: double (nullable = true)\n",
            " |-- year_structure_built-housing_units-built_1980_to_1989_total_housing_units: integer (nullable = true)\n",
            " |-- year_structure_built-percent-built_1980_to_1989-of-total_housing_units: double (nullable = true)\n",
            " |-- year_structure_built-housing_units-built_1970_to_1979_total_housing_units: integer (nullable = true)\n",
            " |-- year_structure_built-percent-built_1970_to_1979-of-total_housing_units: double (nullable = true)\n",
            " |-- year_structure_built-housing_units-built_1960_to_1969_total_housing_units: integer (nullable = true)\n",
            " |-- year_structure_built-percent-built_1960_to_1969-of-total_housing_units: double (nullable = true)\n",
            " |-- year_structure_built-housing_units-built_1950_to_1959_total_housing_units: integer (nullable = true)\n",
            " |-- year_structure_built-percent-built_1950_to_1959-of-total_housing_units: double (nullable = true)\n",
            " |-- year_structure_built-housing_units-built_1940_to_1949_total_housing_units: integer (nullable = true)\n",
            " |-- year_structure_built-percent-built_1940_to_1949-of-total_housing_units: double (nullable = true)\n",
            " |-- year_structure_built-housing_units-built_1939_or_earlier_total_housing_units: integer (nullable = true)\n",
            " |-- year_structure_built-percent-built_1939_or_earlier-of-total_housing_units: double (nullable = true)\n",
            " |-- rooms-housing_units-total_housing_units: integer (nullable = true)\n",
            " |-- rooms-housing_units-1_room_total_housing_units: integer (nullable = true)\n",
            " |-- rooms-percent-1_room-of-total_housing_units: double (nullable = true)\n",
            " |-- rooms-housing_units-2_rooms_total_housing_units: integer (nullable = true)\n",
            " |-- rooms-percent-2_rooms-of-total_housing_units: double (nullable = true)\n",
            " |-- rooms-housing_units-3_rooms_total_housing_units: integer (nullable = true)\n",
            " |-- rooms-percent-3_rooms-of-total_housing_units: double (nullable = true)\n",
            " |-- rooms-housing_units-4_rooms_total_housing_units: integer (nullable = true)\n",
            " |-- rooms-percent-4_rooms-of-total_housing_units: double (nullable = true)\n",
            " |-- rooms-housing_units-5_rooms_total_housing_units: integer (nullable = true)\n",
            " |-- rooms-percent-5_rooms-of-total_housing_units: double (nullable = true)\n",
            " |-- rooms-housing_units-6_rooms_total_housing_units: integer (nullable = true)\n",
            " |-- rooms-percent-6_rooms-of-total_housing_units: double (nullable = true)\n",
            " |-- rooms-housing_units-7_rooms_total_housing_units: integer (nullable = true)\n",
            " |-- rooms-percent-7_rooms-of-total_housing_units: double (nullable = true)\n",
            " |-- rooms-housing_units-8_rooms_total_housing_units: integer (nullable = true)\n",
            " |-- rooms-percent-8_rooms-of-total_housing_units: double (nullable = true)\n",
            " |-- rooms-housing_units-9_rooms_or_more_total_housing_units: integer (nullable = true)\n",
            " |-- rooms-percent-9_rooms_or_more-of-total_housing_units: double (nullable = true)\n",
            " |-- rooms-rooms-median_rooms_total_housing_units: double (nullable = true)\n",
            " |-- bedrooms-housing_units-total_housing_units: integer (nullable = true)\n",
            " |-- bedrooms-housing_units-no_bedroom_total_housing_units: integer (nullable = true)\n",
            " |-- bedrooms-percent-no_bedroom-of-total_housing_units: double (nullable = true)\n",
            " |-- bedrooms-housing_units-1_bedroom_total_housing_units: integer (nullable = true)\n",
            " |-- bedrooms-percent-1_bedroom-of-total_housing_units: double (nullable = true)\n",
            " |-- bedrooms-housing_units-2_bedrooms_total_housing_units: integer (nullable = true)\n",
            " |-- bedrooms-percent-2_bedrooms-of-total_housing_units: double (nullable = true)\n",
            " |-- bedrooms-housing_units-3_bedrooms_total_housing_units: integer (nullable = true)\n",
            " |-- bedrooms-percent-3_bedrooms-of-total_housing_units: double (nullable = true)\n",
            " |-- bedrooms-housing_units-4_bedrooms_total_housing_units: integer (nullable = true)\n",
            " |-- bedrooms-percent-4_bedrooms-of-total_housing_units: double (nullable = true)\n",
            " |-- bedrooms-housing_units-5_or_more_bedrooms_total_housing_units: integer (nullable = true)\n",
            " |-- bedrooms-percent-5_or_more_bedrooms-of-total_housing_units: double (nullable = true)\n",
            " |-- housing_tenure-housing_units-occupied_housing_units: integer (nullable = true)\n",
            " |-- housing_tenure-housing_units-owner_occupied_housing_units: integer (nullable = true)\n",
            " |-- housing_tenure-percent-owner-of-occupied_housing_units: double (nullable = true)\n",
            " |-- housing_tenure-housing_units-renter_occupied_housing_units: integer (nullable = true)\n",
            " |-- housing_tenure-percent-renter-of-occupied_housing_units: double (nullable = true)\n",
            " |-- housing_tenure-housing_units-average_household_size_owner_occupied_unit: double (nullable = true)\n",
            " |-- housing_tenure-housing_units-average_household_size_renter_occupied_unit: double (nullable = true)\n",
            " |-- year_householder_moved_into_unit-housing_units-occupied_housing_units: integer (nullable = true)\n",
            " |-- year_householder_moved_into_unit-housing_units-moved_in_2015_or_later_occupied_housing_units: integer (nullable = true)\n",
            " |-- year_householder_moved_into_unit-percent-moved_in_2015_or_later-of-occupied_housing_units: double (nullable = true)\n",
            " |-- year_householder_moved_into_unit-housing_units-moved_in_2010_to_2014_occupied_housing_units: integer (nullable = true)\n",
            " |-- year_householder_moved_into_unit-percent-moved_in_2010_to_2014-of-occupied_housing_units: double (nullable = true)\n",
            " |-- year_householder_moved_into_unit-housing_units-moved_in_2000_to_2009_occupied_housing_units: integer (nullable = true)\n",
            " |-- year_householder_moved_into_unit-percent-moved_in_2000_to_2009-of-occupied_housing_units: double (nullable = true)\n",
            " |-- year_householder_moved_into_unit-housing_units-moved_in_1990_to_1999_occupied_housing_units: integer (nullable = true)\n",
            " |-- year_householder_moved_into_unit-percent-moved_in_1990_to_1999-of-occupied_housing_units: double (nullable = true)\n",
            " |-- year_householder_moved_into_unit-housing_units-moved_in_1980_to_1989_occupied_housing_units: integer (nullable = true)\n",
            " |-- year_householder_moved_into_unit-percent-moved_in_1980_to_1989-of-occupied_housing_units: double (nullable = true)\n",
            " |-- year_householder_moved_into_unit-housing_units-moved_in_1979_and_earlier_occupied_housing_units: integer (nullable = true)\n",
            " |-- year_householder_moved_into_unit-percent-moved_in_1979_and_earlier-of-occupied_housing_units: double (nullable = true)\n",
            " |-- vehicles_available-housing_units-occupied_housing_units: integer (nullable = true)\n",
            " |-- vehicles_available-housing_units-no_vehicles_available_occupied_housing_units: integer (nullable = true)\n",
            " |-- vehicles_available-percent-no_vehicles_available-of-occupied_housing_units: double (nullable = true)\n",
            " |-- vehicles_available-housing_units-1_vehicle_available_occupied_housing_units: integer (nullable = true)\n",
            " |-- vehicles_available-percent-1_vehicle_available-of-occupied_housing_units: double (nullable = true)\n",
            " |-- vehicles_available-housing_units-2_vehicles_available_occupied_housing_units: integer (nullable = true)\n",
            " |-- vehicles_available-percent-2_vehicles_available-of-occupied_housing_units: double (nullable = true)\n",
            " |-- vehicles_available-housing_units-3_or_more_vehicles_available_occupied_housing_units: integer (nullable = true)\n",
            " |-- vehicles_available-percent-3_or_more_vehicles_available-of-occupied_housing_units: double (nullable = true)\n",
            " |-- house_heating_fuel-housing_units-occupied_housing_units: integer (nullable = true)\n",
            " |-- house_heating_fuel-housing_units-utility_gas_occupied_housing_units: integer (nullable = true)\n",
            " |-- house_heating_fuel-percent-utility_gas-of-occupied_housing_units: double (nullable = true)\n",
            " |-- house_heating_fuel-housing_units-bottled_tank_or_lp_gas_occupied_housing_units: integer (nullable = true)\n",
            " |-- house_heating_fuel-percent-bottled_tank_or_lp_gas-of-occupied_housing_units: double (nullable = true)\n",
            " |-- house_heating_fuel-housing_units-electricity_occupied_housing_units: integer (nullable = true)\n",
            " |-- house_heating_fuel-percent-electricity-of-occupied_housing_units: double (nullable = true)\n",
            " |-- house_heating_fuel-housing_units-fuel_oil_kerosene_etc._occupied_housing_units: integer (nullable = true)\n",
            " |-- house_heating_fuel-percent-fuel_oil_kerosene_etc.-of-occupied_housing_units: double (nullable = true)\n",
            " |-- house_heating_fuel-housing_units-coal_or_coke_occupied_housing_units: integer (nullable = true)\n",
            " |-- house_heating_fuel-percent-coal_or_coke-of-occupied_housing_units: double (nullable = true)\n",
            " |-- house_heating_fuel-housing_units-wood_occupied_housing_units: integer (nullable = true)\n",
            " |-- house_heating_fuel-percent-wood-of-occupied_housing_units: double (nullable = true)\n",
            " |-- house_heating_fuel-housing_units-solar_energy_occupied_housing_units: integer (nullable = true)\n",
            " |-- house_heating_fuel-percent-solar_energy-of-occupied_housing_units: double (nullable = true)\n",
            " |-- house_heating_fuel-housing_units-other_fuel_occupied_housing_units: integer (nullable = true)\n",
            " |-- house_heating_fuel-percent-other_fuel-of-occupied_housing_units: double (nullable = true)\n",
            " |-- house_heating_fuel-housing_units-no_fuel_used_occupied_housing_units: integer (nullable = true)\n",
            " |-- house_heating_fuel-percent-no_fuel_used-of-occupied_housing_units: double (nullable = true)\n",
            " |-- selected_characteristics-housing_units-occupied_housing_units: integer (nullable = true)\n",
            " |-- selected_characteristics-housing_units-lacking_complete_plumbing_facilities_occupied_housing_units: double (nullable = true)\n",
            " |-- selected_characteristics-percent-lacking_complete_plumbing_facilities-of-occupied_housing_units: double (nullable = true)\n",
            " |-- selected_characteristics-housing_units-lacking_complete_kitchen_facilities_occupied_housing_units: integer (nullable = true)\n",
            " |-- selected_characteristics-percent-lacking_complete_kitchen_facilities-of-occupied_housing_units: double (nullable = true)\n",
            " |-- selected_characteristics-housing_units-no_telephone_service_available_occupied_housing_units: double (nullable = true)\n",
            " |-- selected_characteristics-percent-no_telephone_service_available-of-occupied_housing_units: double (nullable = true)\n",
            " |-- occupants_per_room-housing_units-occupied_housing_units: integer (nullable = true)\n",
            " |-- occupants_per_room-housing_units-1_or_less_occupied_housing_units: integer (nullable = true)\n",
            " |-- occupants_per_room-percent-1_or_less-of-occupied_housing_units: double (nullable = true)\n",
            " |-- occupants_per_room-housing_units-1_to_1_and_a_half_occupied_housing_units: integer (nullable = true)\n",
            " |-- occupants_per_room-percent-1_to_1_and_a_half-of-occupied_housing_units: double (nullable = true)\n",
            " |-- occupants_per_room-housing_units-1_and_a_half_or_more_occupied_housing_units: integer (nullable = true)\n",
            " |-- occupants_per_room-percent-1_and_a_half_or_more-of-occupied_housing_units: double (nullable = true)\n",
            " |-- value-housing_units-owner_occupied_units: integer (nullable = true)\n",
            " |-- value-housing_units-less_than_50000_owner_occupied_units: integer (nullable = true)\n",
            " |-- value-percent-less_than_50000-of-owner_occupied_units: double (nullable = true)\n",
            " |-- value-housing_units-50000_to_99999_owner_occupied_units: integer (nullable = true)\n",
            " |-- value-percent-50000_to_99999-of-owner_occupied_units: double (nullable = true)\n",
            " |-- value-housing_units-100000_to_149999_owner_occupied_units: integer (nullable = true)\n",
            " |-- value-percent-100000_to_149999-of-owner_occupied_units: double (nullable = true)\n",
            " |-- value-housing_units-150000_to_199999_owner_occupied_units: integer (nullable = true)\n",
            " |-- value-percent-150000_to_199999-of-owner_occupied_units: double (nullable = true)\n",
            " |-- value-housing_units-200000_to_299999_owner_occupied_units: integer (nullable = true)\n",
            " |-- value-percent-200000_to_299999-of-owner_occupied_units: double (nullable = true)\n",
            " |-- value-housing_units-300000_to_499999_owner_occupied_units: integer (nullable = true)\n",
            " |-- value-percent-300000_to_499999-of-owner_occupied_units: double (nullable = true)\n",
            " |-- value-housing_units-500000_to_999999_owner_occupied_units: integer (nullable = true)\n",
            " |-- value-percent-500000_to_999999-of-owner_occupied_units: double (nullable = true)\n",
            " |-- value-housing_units-1000000_or_more_owner_occupied_units: integer (nullable = true)\n",
            " |-- value-percent-1000000_or_more-of-owner_occupied_units: double (nullable = true)\n",
            " |-- value-dollars-median_dollars_owner_occupied_units: double (nullable = true)\n",
            " |-- mortgage_status-housing_units-owner_occupied_units: integer (nullable = true)\n",
            " |-- mortgage_status-housing_units-with_mortgage_owner_occupied_units: integer (nullable = true)\n",
            " |-- mortgage_status-percent-with_mortgage-of-owner_occupied_units: double (nullable = true)\n",
            " |-- mortgage_status-housing_units-no_mortgage_owner_occupied_units: integer (nullable = true)\n",
            " |-- mortgage_status-percent-no_mortgage-of-owner_occupied_units: double (nullable = true)\n",
            " |-- selected_monthly_owner_costs_smoc-housing_units-housing_units_with_a_mortgage: integer (nullable = true)\n",
            " |-- selected_monthly_owner_costs_smoc-housing_units-less_than_500_housing_units_with_a_mortgage: integer (nullable = true)\n",
            " |-- selected_monthly_owner_costs_smoc-percent-less_than_500-of-housing_units_with_a_mortgage: double (nullable = true)\n",
            " |-- selected_monthly_owner_costs_smoc-housing_units-500_to_999_housing_units_with_a_mortgage: integer (nullable = true)\n",
            " |-- selected_monthly_owner_costs_smoc-percent-500_to_999-of-housing_units_with_a_mortgage: double (nullable = true)\n",
            " |-- selected_monthly_owner_costs_smoc-housing_units-1000_to_1499_housing_units_with_a_mortgage: integer (nullable = true)\n",
            " |-- selected_monthly_owner_costs_smoc-percent-1000_to_1499-of-housing_units_with_a_mortgage: double (nullable = true)\n",
            " |-- selected_monthly_owner_costs_smoc-housing_units-1500_to_1999_housing_units_with_a_mortgage: integer (nullable = true)\n",
            " |-- selected_monthly_owner_costs_smoc-percent-1500_to_1999-of-housing_units_with_a_mortgage: double (nullable = true)\n",
            " |-- selected_monthly_owner_costs_smoc-housing_units-2000_to_2499_housing_units_with_a_mortgage: integer (nullable = true)\n",
            " |-- selected_monthly_owner_costs_smoc-percent-2000_to_2499-of-housing_units_with_a_mortgage: double (nullable = true)\n",
            " |-- selected_monthly_owner_costs_smoc-housing_units-2500_to_2999_housing_units_with_a_mortgage: integer (nullable = true)\n",
            " |-- selected_monthly_owner_costs_smoc-percent-2500_to_2999-of-housing_units_with_a_mortgage: double (nullable = true)\n",
            " |-- selected_monthly_owner_costs_smoc-housing_units-3000_or_more_housing_units_with_a_mortgage: integer (nullable = true)\n",
            " |-- selected_monthly_owner_costs_smoc-percent-3000_or_more-of-housing_units_with_a_mortgage: double (nullable = true)\n",
            " |-- selected_monthly_owner_costs_smoc-housing_units-median_dollars_housing_units_with_a_mortgage: double (nullable = true)\n",
            " |-- selected_monthly_owner_costs_smoc-housing_units-housing_units_without_a_mortgage: integer (nullable = true)\n",
            " |-- selected_monthly_owner_costs_smoc-housing_units-less_than_250_housing_units_without_a_mortgage: integer (nullable = true)\n",
            " |-- selected_monthly_owner_costs_smoc-percent-less_than_250-of-housing_units_without_a_mortgage: double (nullable = true)\n",
            " |-- selected_monthly_owner_costs_smoc-housing_units-250_to_399_housing_units_without_a_mortgage: integer (nullable = true)\n",
            " |-- selected_monthly_owner_costs_smoc-percent-250_to_399-of-housing_units_without_a_mortgage: double (nullable = true)\n",
            " |-- selected_monthly_owner_costs_smoc-housing_units-400_to_599_housing_units_without_a_mortgage: integer (nullable = true)\n",
            " |-- selected_monthly_owner_costs_smoc-percent-400_to_599-of-housing_units_without_a_mortgage: double (nullable = true)\n",
            " |-- selected_monthly_owner_costs_smoc-housing_units-600_to_799_housing_units_without_a_mortgage: integer (nullable = true)\n",
            " |-- selected_monthly_owner_costs_smoc-percent-600_to_799-of-housing_units_without_a_mortgage: double (nullable = true)\n",
            " |-- selected_monthly_owner_costs_smoc-housing_units-800_to_999_housing_units_without_a_mortgage: integer (nullable = true)\n",
            " |-- selected_monthly_owner_costs_smoc-percent-800_to_999-of-housing_units_without_a_mortgage: double (nullable = true)\n",
            " |-- selected_monthly_owner_costs_smoc-housing_units-1000_or_more_housing_units_without_a_mortgage: integer (nullable = true)\n",
            " |-- selected_monthly_owner_costs_smoc-percent-1000_or_more-of-housing_units_without_a_mortgage: double (nullable = true)\n",
            " |-- selected_monthly_owner_costs_smoc-housing_units-median_dollars_housing_units_without_a_mortgage: double (nullable = true)\n",
            " |-- selected_monthly_owner_costs_as_a_percentage_of_household_income_smocapi-housing_units-housing_units_with_a_mortgage_excluding_units_where_smocapi_cannot_be_computed: double (nullable = true)\n",
            " |-- selected_monthly_owner_costs_as_a_percentage_of_household_income_smocapi-housing_units-less_than_20_percent_housing_units_with_a_mortgage_excluding_units_where_smocapi_cannot_be_computed: double (nullable = true)\n",
            " |-- selected_monthly_owner_costs_as_a_percentage_of_household_income_smocapi-percent-less_than_20_percent-of-housing_units_with_a_mortgage_excluding_units_where_smocapi_cannot_be_computed: double (nullable = true)\n",
            " |-- selected_monthly_owner_costs_as_a_percentage_of_household_income_smocapi-housing_units-20_to_less_than_25_percent_housing_units_with_a_mortgage_excluding_units_where_smocapi_cannot_be_computed: double (nullable = true)\n",
            " |-- selected_monthly_owner_costs_as_a_percentage_of_household_income_smocapi-percent-20_to_less_than_25_percent-of-housing_units_with_a_mortgage_excluding_units_where_smocapi_cannot_be_computed: double (nullable = true)\n",
            " |-- selected_monthly_owner_costs_as_a_percentage_of_household_income_smocapi-housing_units-25_to_less_than_30_percent_housing_units_with_a_mortgage_excluding_units_where_smocapi_cannot_be_computed: double (nullable = true)\n",
            " |-- selected_monthly_owner_costs_as_a_percentage_of_household_income_smocapi-percent-25_to_less_than_30_percent-of-housing_units_with_a_mortgage_excluding_units_where_smocapi_cannot_be_computed: double (nullable = true)\n",
            " |-- selected_monthly_owner_costs_as_a_percentage_of_household_income_smocapi-housing_units-30_to_less_than_35_percent_housing_units_with_a_mortgage_excluding_units_where_smocapi_cannot_be_computed: double (nullable = true)\n",
            " |-- selected_monthly_owner_costs_as_a_percentage_of_household_income_smocapi-percent-30_to_less_than_35_percent-of-housing_units_with_a_mortgage_excluding_units_where_smocapi_cannot_be_computed: double (nullable = true)\n",
            " |-- selected_monthly_owner_costs_as_a_percentage_of_household_income_smocapi-housing_units-35_percent_or_more_housing_units_with_a_mortgage_excluding_units_where_smocapi_cannot_be_computed: double (nullable = true)\n",
            " |-- selected_monthly_owner_costs_as_a_percentage_of_household_income_smocapi-percent-35_percent_or_more-of-housing_units_with_a_mortgage_excluding_units_where_smocapi_cannot_be_computed: double (nullable = true)\n",
            " |-- selected_monthly_owner_costs_as_a_percentage_of_household_income_smocapi-housing_units-housing_units_with_a_mortgage_where_smocapi_not_computed: double (nullable = true)\n",
            " |-- selected_monthly_owner_costs_as_a_percentage_of_household_income_smocapi-housing_units-housing_unit_without_a_mortgage_excluding_units_where_smocapi_cannot_be_computed: double (nullable = true)\n",
            " |-- selected_monthly_owner_costs_as_a_percentage_of_household_income_smocapi-housing_units-less_than_10_percent_housing_unit_without_a_mortgage_excluding_units_where_smocapi_cannot_be_computed: double (nullable = true)\n",
            " |-- selected_monthly_owner_costs_as_a_percentage_of_household_income_smocapi-percent-less_than_10_percent-of-housing_unit_without_a_mortgage_excluding_units_where_smocapi_cannot_be_computed: double (nullable = true)\n",
            " |-- selected_monthly_owner_costs_as_a_percentage_of_household_income_smocapi-housing_units-10_to_less_than_15_percent_housing_unit_without_a_mortgage_excluding_units_where_smocapi_cannot_be_computed: double (nullable = true)\n",
            " |-- selected_monthly_owner_costs_as_a_percentage_of_household_income_smocapi-percent-10_to_less_than_15_percent-of-housing_unit_without_a_mortgage_excluding_units_where_smocapi_cannot_be_computed: double (nullable = true)\n",
            " |-- selected_monthly_owner_costs_as_a_percentage_of_household_income_smocapi-housing_units-15_to_less_than_20_percent_housing_unit_without_a_mortgage_excluding_units_where_smocapi_cannot_be_computed: double (nullable = true)\n",
            " |-- selected_monthly_owner_costs_as_a_percentage_of_household_income_smocapi-percent-15_to_less_than_20_percent-of-housing_unit_without_a_mortgage_excluding_units_where_smocapi_cannot_be_computed: double (nullable = true)\n",
            " |-- selected_monthly_owner_costs_as_a_percentage_of_household_income_smocapi-housing_units-20_to_less_than_25_percent_housing_unit_without_a_mortgage_excluding_units_where_smocapi_cannot_be_computed: double (nullable = true)\n",
            " |-- selected_monthly_owner_costs_as_a_percentage_of_household_income_smocapi-percent-20_to_less_than_25_percent-of-housing_unit_without_a_mortgage_excluding_units_where_smocapi_cannot_be_computed: double (nullable = true)\n",
            " |-- selected_monthly_owner_costs_as_a_percentage_of_household_income_smocapi-housing_units-25_to_less_than_30_percent_housing_unit_without_a_mortgage_excluding_units_where_smocapi_cannot_be_computed: double (nullable = true)\n",
            " |-- selected_monthly_owner_costs_as_a_percentage_of_household_income_smocapi-percent-25_to_less_than_30_percent-of-housing_unit_without_a_mortgage_excluding_units_where_smocapi_cannot_be_computed: double (nullable = true)\n",
            " |-- selected_monthly_owner_costs_as_a_percentage_of_household_income_smocapi-housing_units-30_to_less_than_35_percent_housing_unit_without_a_mortgage_excluding_units_where_smocapi_cannot_be_computed: double (nullable = true)\n",
            " |-- selected_monthly_owner_costs_as_a_percentage_of_household_income_smocapi-percent-30_to_less_than_35_percent-of-housing_unit_without_a_mortgage_excluding_units_where_smocapi_cannot_be_computed: double (nullable = true)\n",
            " |-- selected_monthly_owner_costs_as_a_percentage_of_household_income_smocapi-housing_units-35_percent_or_more_housing_unit_without_a_mortgage_excluding_units_where_smocapi_cannot_be_computed: double (nullable = true)\n",
            " |-- selected_monthly_owner_costs_as_a_percentage_of_household_income_smocapi-percent-35_percent_or_more-of-housing_unit_without_a_mortgage_excluding_units_where_smocapi_cannot_be_computed: double (nullable = true)\n",
            " |-- selected_monthly_owner_costs_as_a_percentage_of_household_income_smocapi-housing_units-housing_units_without_a_mortgage_where_smocapi_not_computed: double (nullable = true)\n",
            " |-- gross_rent-housing_units-occupied_units_paying_rent: integer (nullable = true)\n",
            " |-- gross_rent-housing_units-less_than_500_occupied_units_paying_rent: integer (nullable = true)\n",
            " |-- gross_rent-percent-less_than_500-of-occupied_units_paying_rent: double (nullable = true)\n",
            " |-- gross_rent-housing_units-500_to_999_occupied_units_paying_rent: integer (nullable = true)\n",
            " |-- gross_rent-percent-500_to_999-of-occupied_units_paying_rent: double (nullable = true)\n",
            " |-- gross_rent-housing_units-1000_to_1499_occupied_units_paying_rent: integer (nullable = true)\n",
            " |-- gross_rent-percent-1000_to_1499-of-occupied_units_paying_rent: double (nullable = true)\n",
            " |-- gross_rent-housing_units-1500_to_1999_occupied_units_paying_rent: integer (nullable = true)\n",
            " |-- gross_rent-percent-1500_to_1999-of-occupied_units_paying_rent: double (nullable = true)\n",
            " |-- gross_rent-housing_units-2000_to_2499_occupied_units_paying_rent: integer (nullable = true)\n",
            " |-- gross_rent-percent-2000_to_2499-of-occupied_units_paying_rent: double (nullable = true)\n",
            " |-- gross_rent-housing_units-2500_to_2999_occupied_units_paying_rent: integer (nullable = true)\n",
            " |-- gross_rent-percent-2500_to_2999-of-occupied_units_paying_rent: double (nullable = true)\n",
            " |-- gross_rent-housing_units-3000_or_more_occupied_units_paying_rent: integer (nullable = true)\n",
            " |-- gross_rent-percent-3000_or_more-of-occupied_units_paying_rent: double (nullable = true)\n",
            " |-- gross_rent-dollars-median_dollars_occupied_units_paying_rent: double (nullable = true)\n",
            " |-- gross_rent-housing_units-occupied_units_no_rent_paid: integer (nullable = true)\n",
            " |-- gross_rent_as_a_percentage_of_household_income_grapi-housing_units-occupied_units_paying_rent_excluding_units_where_grapi_cannot_be_computed: double (nullable = true)\n",
            " |-- gross_rent_as_a_percentage_of_household_income_grapi-housing_units-less_than_15_percent_occupied_units_paying_rent_excluding_units_where_grapi_cannot_be_computed: double (nullable = true)\n",
            " |-- gross_rent_as_a_percentage_of_household_income_grapi-percent-less_than_15_percent-of-occupied_units_paying_rent_excluding_units_where_grapi_cannot_be_computed: double (nullable = true)\n",
            " |-- gross_rent_as_a_percentage_of_household_income_grapi-housing_units-15_to_less_than_20_percent_occupied_units_paying_rent_excluding_units_where_grapi_cannot_be_computed: double (nullable = true)\n",
            " |-- gross_rent_as_a_percentage_of_household_income_grapi-percent-15_to_less_than_20_percent-of-occupied_units_paying_rent_excluding_units_where_grapi_cannot_be_computed: double (nullable = true)\n",
            " |-- gross_rent_as_a_percentage_of_household_income_grapi-housing_units-20_to_less_than_25_percent_occupied_units_paying_rent_excluding_units_where_grapi_cannot_be_computed: double (nullable = true)\n",
            " |-- gross_rent_as_a_percentage_of_household_income_grapi-percent-20_to_less_than_25_percent-of-occupied_units_paying_rent_excluding_units_where_grapi_cannot_be_computed: double (nullable = true)\n",
            " |-- gross_rent_as_a_percentage_of_household_income_grapi-housing_units-25_to_less_than_30_percent_occupied_units_paying_rent_excluding_units_where_grapi_cannot_be_computed: double (nullable = true)\n",
            " |-- gross_rent_as_a_percentage_of_household_income_grapi-percent-25_to_less_than_30_percent-of-occupied_units_paying_rent_excluding_units_where_grapi_cannot_be_computed: double (nullable = true)\n",
            " |-- gross_rent_as_a_percentage_of_household_income_grapi-housing_units-30_to_less_than_35_percent_occupied_units_paying_rent_excluding_units_where_grapi_cannot_be_computed: double (nullable = true)\n",
            " |-- gross_rent_as_a_percentage_of_household_income_grapi-percent-30_to_less_than_35_percent-of-occupied_units_paying_rent_excluding_units_where_grapi_cannot_be_computed: double (nullable = true)\n",
            " |-- gross_rent_as_a_percentage_of_household_income_grapi-housing_units-35_percent_or_more_occupied_units_paying_rent_excluding_units_where_grapi_cannot_be_computed: double (nullable = true)\n",
            " |-- gross_rent_as_a_percentage_of_household_income_grapi-percent-35_percent_or_more-of-occupied_units_paying_rent_excluding_units_where_grapi_cannot_be_computed: double (nullable = true)\n",
            " |-- gross_rent_as_a_percentage_of_household_income_grapi-housing_units-occupied_units_where_grapi_not_computed: double (nullable = true)\n",
            " |-- urban_rural-population-total_population: integer (nullable = true)\n",
            " |-- urban_rural-population-urban_total_population: integer (nullable = true)\n",
            " |-- urban_rural-population-rural_total_population: integer (nullable = true)\n",
            " |-- urban_rural-percent-urban_population-of-total_population: double (nullable = true)\n",
            " |-- urban_rural-percent-rural_population-of-total_population: double (nullable = true)\n",
            " |-- households_by_type-total_households: integer (nullable = true)\n",
            " |-- households_by_type-households-family_households: integer (nullable = true)\n",
            " |-- households_by_type-percent-family_households-of-total_households: double (nullable = true)\n",
            " |-- households_by_type-households-family_households_with_own_children_of_the_householder_under_18_years: integer (nullable = true)\n",
            " |-- households_by_type-percent-family_households_with_own_children_of_the_householder_under_18_years-of-total_households: double (nullable = true)\n",
            " |-- households_by_type-households-married_couple_family_households: integer (nullable = true)\n",
            " |-- households_by_type-percent-married_couple_familiy_households-of-total_households: double (nullable = true)\n",
            " |-- households_by_type-households-married_couple_family_households_with_own_children_of_the_householder_under_18_years: integer (nullable = true)\n",
            " |-- households_by_type-percent-married_couple_family_households_with_own_children_of_the_householder_under_18_years-of-total_households: double (nullable = true)\n",
            " |-- households_by_type-households-male_householder_no_wife_present_family_households: integer (nullable = true)\n",
            " |-- households_by_type-percent-male_householder_no_wife_present_family_households-of-total_households: double (nullable = true)\n",
            " |-- households_by_type-households-male_householder_no_wife_present_family_households_with_own_children_of_the_householder_under_18_years: integer (nullable = true)\n",
            " |-- households_by_type-percent-male_householder_no_wife_present_family_households_with_own_children_of_the_householder_under_18_years-of-total_households: double (nullable = true)\n",
            " |-- households_by_type-households-female_householder_no_husband_present_family_households: integer (nullable = true)\n",
            " |-- households_by_type-percent-female_householder_no_husband_present_family_households-of-total_households: double (nullable = true)\n",
            " |-- households_by_type-households-female_householder_no_husband_present_family_households_with_own_children_of_the_householder_under_18_years: integer (nullable = true)\n",
            " |-- households_by_type-percent-female_householder_no_husband_present_family_households_with_own_children_of_the_householder_under_18_years-of-total_households: double (nullable = true)\n",
            " |-- households_by_type-households-nonfamily_households: integer (nullable = true)\n",
            " |-- households_by_type-percent-nonfamily_households-of-total_households: double (nullable = true)\n",
            " |-- households_by_type-households-householder_living_alone_households: integer (nullable = true)\n",
            " |-- households_by_type-percent-householder_living_alone-of-total_households: double (nullable = true)\n",
            " |-- households_by_type-households-householder_living_alone_65_years_and_over-total_households: integer (nullable = true)\n",
            " |-- households_by_type-percent-householder_living_alone_65_years_and_over-of-total_households: double (nullable = true)\n",
            " |-- households_by_type-households-households_with_one_or_more_people_under_18_years: integer (nullable = true)\n",
            " |-- households_by_type-percent-households_with_one_or_more_people_under_18_years-of-total_households: double (nullable = true)\n",
            " |-- households_by_type-households_households_with_one_or_more_people_65_years_and_over: integer (nullable = true)\n",
            " |-- households_by_type-percent-households_with_one_or_more_people_65_years_and_over-of-total_households: double (nullable = true)\n",
            " |-- households_by_type-population-average_household_size: double (nullable = true)\n",
            " |-- households_by_type-population-average_family_size: double (nullable = true)\n",
            " |-- relationship-population_in_households: integer (nullable = true)\n",
            " |-- relationship-population-householder: integer (nullable = true)\n",
            " |-- relationship-percent-householder-of-population_in_households: double (nullable = true)\n",
            " |-- relationship-population-spouse: integer (nullable = true)\n",
            " |-- relationship-percent-spouse-of-population_in_households: double (nullable = true)\n",
            " |-- relationship-population-child: integer (nullable = true)\n",
            " |-- relationship-percent-child-of-population_in_households: double (nullable = true)\n",
            " |-- relationship-population-other_relatives: integer (nullable = true)\n",
            " |-- relationship-percent-other_relatives-of-population_in_households: double (nullable = true)\n",
            " |-- relationship-population-nonrelatives: integer (nullable = true)\n",
            " |-- relationship-percent-nonrelatives-of-population_in_households: double (nullable = true)\n",
            " |-- relationship-population-nonrelatives_unmarried_partner: integer (nullable = true)\n",
            " |-- relationship-percent-nonrelatives_unmarried_partner-of-population_in_households: double (nullable = true)\n",
            " |-- marital_status-population_males_15_years_and_over: integer (nullable = true)\n",
            " |-- marital_status-population-never_married_males_15_years_and_over: integer (nullable = true)\n",
            " |-- marital_status-percent-never_married-of-males_15_years_and_over: double (nullable = true)\n",
            " |-- marital_status-population-now_married_except_separated_males_15_years_and_over: integer (nullable = true)\n",
            " |-- marital_status-percent-now_married_except_separated-of-males_15_years_and_over: double (nullable = true)\n",
            " |-- marital_status-population-separated_males_15_years_and_over: integer (nullable = true)\n",
            " |-- marital_status-percent-separated-of-males_15_years_and_over: double (nullable = true)\n",
            " |-- marital_status-population-widowed_males_15_years_and_over: integer (nullable = true)\n",
            " |-- marital_status-percent-widowed-of-males_15_years_and_over: double (nullable = true)\n",
            " |-- marital_status-population-divorced_males_15_years_and_over: integer (nullable = true)\n",
            " |-- marital_status-percent-divorced-of-males_15_years_and_over: double (nullable = true)\n",
            " |-- marital_status-population_females_15_years_and_over: integer (nullable = true)\n",
            " |-- marital_status-population-never_married_females_15_years_and_over: integer (nullable = true)\n",
            " |-- marital_status-percent-never_married-of-females_15_years_and_over: double (nullable = true)\n",
            " |-- marital_status-population-now_married_except_separated_females_15_years_and_over: integer (nullable = true)\n",
            " |-- marital_status-percent-now_married_except_separated-of-females_15_years_and_over: double (nullable = true)\n",
            " |-- marital_status-population-separated_females_15_years_and_over: integer (nullable = true)\n",
            " |-- marital_status-percent-separated-of-females_15_years_and_over: double (nullable = true)\n",
            " |-- marital_status-population-widowed_females_15_years_and_over: integer (nullable = true)\n",
            " |-- marital_status-percent-widowed-of-females_15_years_and_over: double (nullable = true)\n",
            " |-- marital_status-population-divorced_females_15_years_and_over: integer (nullable = true)\n",
            " |-- marital_status-percent-divorced-of-females_15_years_and_over: double (nullable = true)\n",
            " |-- fertility-population-women_15_to_50_years_old_who_had_a_birth_in_the_past_12_months: double (nullable = true)\n",
            " |-- fertility-population-unmarried_women_15_to_50_years_old_who_had_a_birth_in_the_past_12_months: double (nullable = true)\n",
            " |-- fertility-percent-unmarried_women_widowed_divorced_or_never_married-of-number_of_women_15_to_50_years_old_who_had_a_birth_in_the_past_12_months: double (nullable = true)\n",
            " |-- fertility-population-unmarried_women_15_to_50_years_old_who_had_a_birth_in_the_past_12_months_per_1000_unmarried_women: double (nullable = true)\n",
            " |-- fertility-population-15_to_50_years_old_women_who_had_a_birth_in_the_past_12_months_per_1000_15_to_50_years_old_women: double (nullable = true)\n",
            " |-- fertility-population-15_to_19_years_old_women_who_had_a_birth_in_the_past_12_months_per_1000_15_to_50_years_old_women: double (nullable = true)\n",
            " |-- fertility-population-20_to_34_years_old_women_who_had_a_birth_in_the_past_12_months_per_1000_15_to_50_years_old_women: double (nullable = true)\n",
            " |-- fertility-population-35_to_50_years_old_women_who_had_a_birth_in_the_past_12_months_per_1000_15_to_50_years_old_women: double (nullable = true)\n",
            " |-- grandparents-population-grandparents_living_with_own_grandchildren_under_18_years: integer (nullable = true)\n",
            " |-- grandparents-population-grandparents_responsible_for_grandchildren_living_with_own_grandchildren_under_18_years: integer (nullable = true)\n",
            " |-- grandparents-percent-grandparents_responsible_for_grandchildren-of-grandparents_living_with_own_grandchildren_under_18_years: double (nullable = true)\n",
            " |-- grandparents-population-responsible_for_grandchildren_less_than_1_year_grandparents_living_with_own_grandchildren_under_18_years: integer (nullable = true)\n",
            " |-- grandparents-percent-responsible_for_grandchildren_less_than_1_year-of-grandparents_living_with_own_grandchildren_under_18_years: double (nullable = true)\n",
            " |-- grandparents-population-responsible_for_grandchildren_1_to_2_years_grandparents_living_with_own_grandchildren_under_18_years: integer (nullable = true)\n",
            " |-- grandparents-percent-responsible_for_grandchildren_1_to_2_years-of-grandparents_living_with_own_grandchildren_under_18_years: double (nullable = true)\n",
            " |-- grandparents-population-responsible_for_grandchildren_3_or_4_years_grandparents_living_with_own_grandchildren_under_18_years: integer (nullable = true)\n",
            " |-- grandparents-percent-responsible_for_grandchildren_3_or_4_years-of-grandparents_living_with_own_grandchildren_under_18_years: double (nullable = true)\n",
            " |-- grandparents-population-responsible_for_grandchildren_5_or_more_years_grandparents_living_with_own_grandchildren_under_18_years: integer (nullable = true)\n",
            " |-- grandparents-percent-responsible_for_grandchildren_5_or_more_years-of-grandparents_living_with_own_grandchildren_under_18_years: double (nullable = true)\n",
            " |-- grandparents-population-female_grandparents_responsible_for_own_grandchildren_under_18_years: integer (nullable = true)\n",
            " |-- grandparents-percent-female-of-grandparents_responsible_for_own_grandchildren_under_18_years: double (nullable = true)\n",
            " |-- grandparents-population-married_grandparents_responsible_for_own_grandchildren_under_18_years: integer (nullable = true)\n",
            " |-- grandparents-percent-married-of-grandparents_responsible_for_own_grandchildren_under_18_years: double (nullable = true)\n",
            " |-- school_enrollment-population-population_3_years_and_over_enrolled_in_school: integer (nullable = true)\n",
            " |-- school_enrollment-population-nursery_school_preschool_population_3_years_and_over_enrolled_in_school: integer (nullable = true)\n",
            " |-- school_enrollment-percent-nursery_school_preschool-of-population_3_years_and_over_enrolled_in_school: double (nullable = true)\n",
            " |-- school_enrollment-population-kindergarten_population_3_years_and_over_enrolled_in_school: integer (nullable = true)\n",
            " |-- school_enrollment-percent-kindergarten-of-population_3_years_and_over_enrolled_in_school: double (nullable = true)\n",
            " |-- school_enrollment-population-elementary_school_grades_1_to_8_population_3_years_and_over_enrolled_in_school: integer (nullable = true)\n",
            " |-- school_enrollment-percent-elementary_school_grades_1_to_8-of-population_3_years_and_over_enrolled_in_school: double (nullable = true)\n",
            " |-- school_enrollment-population-high_school_grades_9_to_12-population_3_years_and_over_enrolled_in_school: integer (nullable = true)\n",
            " |-- school_enrollment-percent-high_school_grades_9_to_12-of-population_3_years_and_over_enrolled_in_school: double (nullable = true)\n",
            " |-- school_enrollment-population-college_or_graduate_school_population_3_years_and_over_enrolled_in_school: integer (nullable = true)\n",
            " |-- school_enrollment-percent-college_or_graduate_school-of-population_3_years_and_over_enrolled_in_school: double (nullable = true)\n",
            " |-- educational_attainment-population-population_25_years_and_over: integer (nullable = true)\n",
            " |-- educational_attainment-population-less_than_9th_grade_population_25_years_and_over: integer (nullable = true)\n",
            " |-- educational_attainment-percent-less_than_9th_grade-of-population_25_years_and_over: double (nullable = true)\n",
            " |-- educational_attainment-population-9th_to_12th_grade_no_diploma_population_25_years_and_over: integer (nullable = true)\n",
            " |-- educational_attainment-percent-9th_to_12th_grade_no_diploma-of-population_25_years_and_over: double (nullable = true)\n",
            " |-- educational_attainment-population-high_school_graduate_includes_equivalency_population_25_years_and_over: integer (nullable = true)\n",
            " |-- educational_attainment-percent-high_school_graduate_includes_equivalency-of-population_25_years_and_over: double (nullable = true)\n",
            " |-- educational_attainment-population-some_college_no_degree_population_25_years_and_over: integer (nullable = true)\n",
            " |-- educational_attainment-percent-some_college_no_degree-of-population_25_years_and_over: double (nullable = true)\n",
            " |-- educational_attainment-population-associates_degree_population_25_years_and_over: integer (nullable = true)\n",
            " |-- educational_attainment-percent-associates_degree-of-population_25_years_and_over: double (nullable = true)\n",
            " |-- educational_attainment-population-bachelors_degree_population_25_years_and_over: integer (nullable = true)\n",
            " |-- educational_attainment-percent-bachelors_degree-of-population_25_years_and_over: double (nullable = true)\n",
            " |-- educational_attainment-population-graduate_or_professional_degree_population_25_years_and_over: integer (nullable = true)\n",
            " |-- educational_attainment-percent-graduate_or_professional_degree-of-population_25_years_and_over: double (nullable = true)\n",
            " |-- educational_attainment-percent-high_school_graduate_or_higher-of-population_25_years_and_over: double (nullable = true)\n",
            " |-- educational_attainment-percent-bachelors_degree_or_higher-of-population_25_years_and_over: double (nullable = true)\n",
            " |-- veteran_status-population-civilian_population_18_years_and_over: integer (nullable = true)\n",
            " |-- veteran_status-population-civilian_veterans_civilian_population_18_years_and_over: integer (nullable = true)\n",
            " |-- veteran_status-percent-civilian_veterans-of-civilian_population_18_years_and_over: double (nullable = true)\n",
            " |-- disability_status_of_the_civilian_noninstitutionalized_population-population-total_civilian_noninstitutionalized_population: integer (nullable = true)\n",
            " |-- disability_status_of_the_civilian_noninstitutionalized_population-population-with_a_disability_total_civilian_noninstitutionalized_population: integer (nullable = true)\n",
            " |-- disability_status_of_the_civilian_noninstitutionalized_population-percent-with_a_disability-of-total_civilian_noninstitutionalized_population: double (nullable = true)\n",
            " |-- disability_status_of_the_civilian_noninstitutionalized_population-population-under_18_years: integer (nullable = true)\n",
            " |-- disability_status_of_the_civilian_noninstitutionalized_population-population-with_a_disability_under_18_years: integer (nullable = true)\n",
            " |-- disability_status_of_the_civilian_noninstitutionalized_population-percent-with_a_disability-of-under_18_years: double (nullable = true)\n",
            " |-- disability_status_of_the_civilian_noninstitutionalized_population-population_18_to_64_years: integer (nullable = true)\n",
            " |-- disability_status_of_the_civilian_noninstitutionalized_population-population-with_a_disability_18_to_64_years: integer (nullable = true)\n",
            " |-- disability_status_of_the_civilian_noninstitutionalized_population-percent-with_a_disability-of-18_to_64_years: double (nullable = true)\n",
            " |-- disability_status_of_the_civilian_noninstitutionalized_population-population_65_years_and_over: integer (nullable = true)\n",
            " |-- disability_status_of_the_civilian_noninstitutionalized_population-population-with_a_disability_65_years_and_over: integer (nullable = true)\n",
            " |-- disability_status_of_the_civilian_noninstitutionalized_population-percent-with_a_disability-of-65_years_and_over: double (nullable = true)\n",
            " |-- residence_1_year_ago-population-population_1_year_and_over: integer (nullable = true)\n",
            " |-- residence_1_year_ago-population-same_house_population_1_year_and_over: integer (nullable = true)\n",
            " |-- residence_1_year_ago-percent-same_house-of-population_1_year_and_over: double (nullable = true)\n",
            " |-- residence_1_year_ago-population-diff_house_population_1_year_and_over: integer (nullable = true)\n",
            " |-- residence_1_year_ago-percent-diff_house-of-population_1_year_and_over: double (nullable = true)\n",
            " |-- residence_1_year_ago-population-abroad_population_1_year_and_over: integer (nullable = true)\n",
            " |-- residence_1_year_ago-percent-abroad-of-population_1_year_and_over: double (nullable = true)\n",
            " |-- place_of_birth-population-total_population: integer (nullable = true)\n",
            " |-- place_of_birth-population-born_native_total_population: integer (nullable = true)\n",
            " |-- place_of_birth-percent-born_native-of-total_population: double (nullable = true)\n",
            " |-- place_of_birth-population-born_in_usa_or_pr_if_zip_is_pr_total_population: integer (nullable = true)\n",
            " |-- place_of_birth-percent-born_in_usa_or_pr_if_zip_is_pr-of-total_population: double (nullable = true)\n",
            " |-- place_of_birth-population-born_native_same_state_as_residence_total_population: integer (nullable = true)\n",
            " |-- place_of_birth-percent-born_native_same_state_as_residence-of-total_population: double (nullable = true)\n",
            " |-- place_of_birth-population-born_native_diff_state_as_residence_total_population: integer (nullable = true)\n",
            " |-- place_of_birth-percent-born_native_diff_state_as_residence-of-total_population: double (nullable = true)\n",
            " |-- place_of_birth-population-born_abroad_incl_pr_if_zip_is_usa_total_population: integer (nullable = true)\n",
            " |-- place_of_birth-percent-born_abroad_incl_pr_if_zip_is_usa-of-total_population: double (nullable = true)\n",
            " |-- place_of_birth-population-foreign_born_total_population: integer (nullable = true)\n",
            " |-- place_of_birth-percent-foreign_born-of-total_population: double (nullable = true)\n",
            " |-- us_citizenship_status-population-foreign_born_population: integer (nullable = true)\n",
            " |-- us_citizenship_status-population-naturalized_us_citizen_foreign_born_population: integer (nullable = true)\n",
            " |-- us_citizenship_status-population-naturalized_us_citizen-of-foreign_born_population: double (nullable = true)\n",
            " |-- us_citizenship_status-population-not_us_citizen_foreign_born_population: integer (nullable = true)\n",
            " |-- us_citizenship_status-population-not_us_citizen-of-foreign_born_population: double (nullable = true)\n",
            " |-- world_region_of_birth_of_foreign_born-population-foreign_born_population_excluding_born_at_sea: integer (nullable = true)\n",
            " |-- world_region_of_birth_of_foreign_born-population-foreign_europe_born_population_excluding_population_born_at_sea: integer (nullable = true)\n",
            " |-- world_region_of_birth_of_foreign_born-percent-foreign_europe_born-of-foreign_born_population_excluding_population_born_at_sea: double (nullable = true)\n",
            " |-- world_region_of_birth_of_foreign_born-population-foreign_asia_born_population_excluding_population_born_at_sea: integer (nullable = true)\n",
            " |-- world_region_of_birth_of_foreign_born-percent-foreign_asia_born-of-foreign_born_population_excluding_population_born_at_sea: double (nullable = true)\n",
            " |-- world_region_of_birth_of_foreign_born-population-foreign_africa_born_population_excluding_population_born_at_sea: integer (nullable = true)\n",
            " |-- world_region_of_birth_of_foreign_born-percent-foreign_africa_born-of-foreign_born_population_excluding_population_born_at_sea: double (nullable = true)\n",
            " |-- world_region_of_birth_of_foreign_born-population-foreign_oceania_born_population_excluding_population_born_at_sea: integer (nullable = true)\n",
            " |-- world_region_of_birth_of_foreign_born-percent-foreign_oceania_born-of-foreign_born_population_excluding_population_born_at_sea: double (nullable = true)\n",
            " |-- world_region_of_birth_of_foreign_born-population-foreign_latin_america_born_population_excluding_population_born_at_sea: integer (nullable = true)\n",
            " |-- world_region_of_birth_of_foreign_born-percent-foreign_latin_america_born-of-foreign_born_population_excluding_population_born_at_sea: double (nullable = true)\n",
            " |-- world_region_of_birth_of_foreign_born-population-foreign_northern_america_born_population_excluding_population_born_at_sea: integer (nullable = true)\n",
            " |-- world_region_of_birth_of_foreign_born-percent-foreign_northern_america_born-of-foreign_born_population_excluding_population_born_at_sea: double (nullable = true)\n",
            " |-- language_spoken_at_home-population-population_5_years_and_over: integer (nullable = true)\n",
            " |-- language_spoken_at_home-population-english_only_population_5_years_and_over: integer (nullable = true)\n",
            " |-- language_spoken_at_home-percent-english_only-of-population_5_years_and_over: double (nullable = true)\n",
            " |-- language_spoken_at_home-population-language_other_than_english_population_5_years_and_over: integer (nullable = true)\n",
            " |-- language_spoken_at_home-percent-language_other_than_english-of-population_5_years_and_over: double (nullable = true)\n",
            " |-- language_spoken_at_home-population-language_other_than_english_speak_english_less_than_very_well_population_5_years_and_over: integer (nullable = true)\n",
            " |-- language_spoken_at_home-percent-language_other_than_english_speak_english_less_than_very_well-of-population_5_years_and_over: double (nullable = true)\n",
            " |-- language_spoken_at_home-population-spanish_population_5_years_and_over: integer (nullable = true)\n",
            " |-- language_spoken_at_home-percent-spanish-of-population_5_years_and_over: double (nullable = true)\n",
            " |-- language_spoken_at_home-population-spanish_speak_english_less_than_very_well_population_5_years_and_over: integer (nullable = true)\n",
            " |-- language_spoken_at_home-percent-spanish_speak_english_less_than_very_well-of-population_5_years_and_over: double (nullable = true)\n",
            " |-- language_spoken_at_home-population-other_indo_european_languages_population_5_years_and_over: integer (nullable = true)\n",
            " |-- language_spoken_at_home-percent-other_indo_european_languages-of-population_5_years_and_over: double (nullable = true)\n",
            " |-- language_spoken_at_home-population-other_indo_european_languages_speak_english_less_than_very_well_population_5_years_and_over: integer (nullable = true)\n",
            " |-- language_spoken_at_home-percent-other_indo_european_languages_speak_english_less_than_very_well-of-population_5_years_and_over: double (nullable = true)\n",
            " |-- language_spoken_at_home-population-asian_and_pacific_islander_languages_population_5_years_and_over: integer (nullable = true)\n",
            " |-- language_spoken_at_home-percent-asian_and_pacific_islander_languages-of-population_5_years_and_over: double (nullable = true)\n",
            " |-- language_spoken_at_home-population-asian_and_pacific_islander_languages_speak_english_less_than_very_well-population_5_years_and_over: integer (nullable = true)\n",
            " |-- language_spoken_at_home-percent-asian_and_pacific_islander_languages_speak_english_less_than_very_well-of-population_5_years_and_over: double (nullable = true)\n",
            " |-- language_spoken_at_home-population-other_languages_population_5_years_and_over: integer (nullable = true)\n",
            " |-- language_spoken_at_home-percent-other_languages-of-population_5_years_and_over: double (nullable = true)\n",
            " |-- language_spoken_at_home-population-other_languages_speak_english_less_than_very_well-population_5_years_and_over: integer (nullable = true)\n",
            " |-- language_spoken_at_home-percent-other_languages_speak_english_less_than_very_well-of-population_5_years_and_over: double (nullable = true)\n",
            " |-- ancestry-population-total_population: integer (nullable = true)\n",
            " |-- ancestry-population-american_total_population: integer (nullable = true)\n",
            " |-- ancestry-percent-american-of-total_population: double (nullable = true)\n",
            " |-- ancestry-population-arab_total_population: integer (nullable = true)\n",
            " |-- ancestry-percent-arab-of-total_population: double (nullable = true)\n",
            " |-- ancestry-population-czech_total_population: integer (nullable = true)\n",
            " |-- ancestry-percent-czech-of-total_population: double (nullable = true)\n",
            " |-- ancestry-population-danish_total_population: integer (nullable = true)\n",
            " |-- ancestry-percent-danish-of-total_population: double (nullable = true)\n",
            " |-- ancestry-population-dutch_total_population: integer (nullable = true)\n",
            " |-- ancestry-percent-dutch-of-total_population: double (nullable = true)\n",
            " |-- ancestry-population-english_total_population: integer (nullable = true)\n",
            " |-- ancestry-percent-english-of-total_population: double (nullable = true)\n",
            " |-- ancestry-population-french_except_basque_total_population: integer (nullable = true)\n",
            " |-- ancestry-percent-french_except_basque-of-total_population: double (nullable = true)\n",
            " |-- ancestry-population-french_canadian_total_population: integer (nullable = true)\n",
            " |-- ancestry-percent-french_canadian-of-total_population: double (nullable = true)\n",
            " |-- ancestry-population-german_total_population: integer (nullable = true)\n",
            " |-- ancestry-percent-german-of-total_population: double (nullable = true)\n",
            " |-- ancestry-population-greek_total_population: integer (nullable = true)\n",
            " |-- ancestry-percent-greek-of-total_population: double (nullable = true)\n",
            " |-- ancestry-population-hungarian_total_population: integer (nullable = true)\n",
            " |-- ancestry-percent-hungarian-of-total_population: double (nullable = true)\n",
            " |-- ancestry-population-irish_total_population: integer (nullable = true)\n",
            " |-- ancestry-percent-irish-of-total_population: double (nullable = true)\n",
            " |-- ancestry-population-italian_total_population: integer (nullable = true)\n",
            " |-- ancestry-percent-italian-of-total_population: double (nullable = true)\n",
            " |-- ancestry-population-lithuanian_total_population: integer (nullable = true)\n",
            " |-- ancestry-percent-lithuanian-of-total_population: double (nullable = true)\n",
            " |-- ancestry-population-norwegian_total_population: integer (nullable = true)\n",
            " |-- ancestry-percent-norwegian-of-total_population: double (nullable = true)\n",
            " |-- ancestry-population-polish_total_population: integer (nullable = true)\n",
            " |-- ancestry-percent-polish-of-total_population: double (nullable = true)\n",
            " |-- ancestry-population-portuguese_total_population: integer (nullable = true)\n",
            " |-- ancestry-percent-portuguese-of-total_population: double (nullable = true)\n",
            " |-- ancestry-population-russian_total_population: integer (nullable = true)\n",
            " |-- ancestry-percent-russian-of-total_population: double (nullable = true)\n",
            " |-- ancestry-population-scotch-total_population_irish: integer (nullable = true)\n",
            " |-- ancestry-percent-scotch-of-total_population-irish: double (nullable = true)\n",
            " |-- ancestry-population-scottish_total_population: integer (nullable = true)\n",
            " |-- ancestry-percent-scottish-of-total_population: double (nullable = true)\n",
            " |-- ancestry-population-slovak_total_population: integer (nullable = true)\n",
            " |-- ancestry-percent-slovak-of-total_population: double (nullable = true)\n",
            " |-- ancestry-population-subsaharan_african_total_population: integer (nullable = true)\n",
            " |-- ancestry-percent-subsaharan_african-of-total_population: double (nullable = true)\n",
            " |-- ancestry-population-swedish_total_population: integer (nullable = true)\n",
            " |-- ancestry-percent-swedish-of-total_population: double (nullable = true)\n",
            " |-- ancestry-population-swiss_total_population: integer (nullable = true)\n",
            " |-- ancestry-percent-swiss-of-total_population: double (nullable = true)\n",
            " |-- ancestry-population-ukrainian_total_population: integer (nullable = true)\n",
            " |-- ancestry-percent-ukrainian-of-total_population: double (nullable = true)\n",
            " |-- ancestry-population-welsh_total_population: integer (nullable = true)\n",
            " |-- ancestry-percent-welsh-of-total_population: double (nullable = true)\n",
            " |-- ancestry-population-west_indian_excluding_hispanic_origin_groups_total_population: integer (nullable = true)\n",
            " |-- ancestry-percent-west_indian_excluding_hispanic_origin_groups-of-total_population: double (nullable = true)\n",
            " |-- computers_and_internet_use-households-total_households: string (nullable = true)\n",
            " |-- computers_and_internet_use-households-with_a_computer_total_households: string (nullable = true)\n",
            " |-- computers_and_internet_use-percent-with_a_computer-of-total_households: double (nullable = true)\n",
            " |-- computers_and_internet_use-households-with_a_broadband_internet_subscription_total_households: string (nullable = true)\n",
            " |-- computers_and_internet_use-percent-with_a_broadband_internet_subscription-of-total_households: double (nullable = true)\n",
            "\n"
          ]
        }
      ]
    },
    {
      "cell_type": "code",
      "source": [
        "print(censusDF.count(),len(censusDF.columns))"
      ],
      "metadata": {
        "colab": {
          "base_uri": "https://localhost:8080/"
        },
        "id": "xERJK3msuPBC",
        "outputId": "558807bb-c972-4b56-e912-c4fa90447b3e"
      },
      "execution_count": null,
      "outputs": [
        {
          "output_type": "stream",
          "name": "stdout",
          "text": [
            "33120 887\n"
          ]
        }
      ]
    },
    {
      "cell_type": "markdown",
      "source": [
        "# 🔴 Analysis Questions (70 points)"
      ],
      "metadata": {
        "id": "wtLQ0DCSvpSf"
      }
    },
    {
      "cell_type": "markdown",
      "source": [
        "## (1) Join the combined census data to the PPP data based on the zipcode "
      ],
      "metadata": {
        "id": "ECCq2PBHiWDa"
      }
    },
    {
      "cell_type": "markdown",
      "source": [
        "Let's call this new file `df`. Use `df` for all future analysis questions."
      ],
      "metadata": {
        "id": "58t_NGxzp7Bb"
      }
    },
    {
      "cell_type": "code",
      "source": [],
      "metadata": {
        "id": "q3jguTY0ii41"
      },
      "execution_count": null,
      "outputs": []
    },
    {
      "cell_type": "markdown",
      "source": [
        "## (2) Identify the Top 10 states that received loans"
      ],
      "metadata": {
        "id": "9GCTJvjxijTg"
      }
    },
    {
      "cell_type": "markdown",
      "source": [
        "Defined as the sum of funds per State across all records. You will need to recode this column because it is categorical data. Use the upper limit of each range and make sure it is NUMERIC data."
      ],
      "metadata": {
        "id": "7gDoliZwv4gp"
      }
    },
    {
      "cell_type": "code",
      "source": [],
      "metadata": {
        "id": "-2DTwhvqipWU"
      },
      "execution_count": null,
      "outputs": []
    },
    {
      "cell_type": "markdown",
      "source": [
        "## (3) Identify the Top 10 banks that loaned money\n",
        "Defined as the sum of loaned funds per State across all records. Are many of the banks who loaned the most money in the same State? \n",
        "\n",
        "Again, make sure you are using the numeric version of this categorical column!"
      ],
      "metadata": {
        "id": "P0Iau-sIJGfH"
      }
    },
    {
      "cell_type": "code",
      "source": [],
      "metadata": {
        "id": "IhcCFacyJMxP"
      },
      "execution_count": null,
      "outputs": []
    },
    {
      "cell_type": "markdown",
      "source": [
        "## (4) Which banks loaned the most money to businesses that were in the same State?\n",
        "You will need to do a logical statement here! For example, given that a bank is headquarted in CT, how much money was loaned to CT businesses by this bank?\n",
        "\n",
        "Generalize to all banks and businesses where this is true, then sort from high to low (return the top 10.)"
      ],
      "metadata": {
        "id": "rP4B2AScMFvE"
      }
    },
    {
      "cell_type": "code",
      "source": [],
      "metadata": {
        "id": "_bg4qzwjMdRO"
      },
      "execution_count": null,
      "outputs": []
    },
    {
      "cell_type": "markdown",
      "source": [
        "## (5) Which zipcodes received the most funding per capita?\n",
        "This requires you to calculate the sum of funds per zipcode and then divide by the population per zipcode, then sort from high to low. \n",
        "\n",
        "Make sure you use the clean 5 digit zip code!"
      ],
      "metadata": {
        "id": "4a9w5k3LyTkY"
      }
    },
    {
      "cell_type": "code",
      "source": [],
      "metadata": {
        "id": "sDDIwUx3-_Qf"
      },
      "execution_count": null,
      "outputs": []
    },
    {
      "cell_type": "markdown",
      "source": [
        "## (6) What is the top industry (NAICS codes) in the top 100 zip codes that received money?\n",
        "Top 100 zip codes meaning the zip codes that borrowed the most money. I want the most common NAICS code per zip code. Show all 100 rows then sum per NAICS to describe overall trends.\n",
        "\n",
        "This one is tricky!"
      ],
      "metadata": {
        "id": "rNFUWD1vxUg7"
      }
    },
    {
      "cell_type": "code",
      "source": [],
      "metadata": {
        "id": "RL_jPktlJQGu"
      },
      "execution_count": null,
      "outputs": []
    },
    {
      "cell_type": "markdown",
      "source": [
        "## (7) What are the socioeconomic characteristics of the top 100 zip codes? How do they relate to loan amounts?\n",
        "\n",
        "Select two census variables that look interesting to you. \n",
        "\n",
        "Create histograms or scatterplots of those interesting socioeconomic variables with data from the PPP. Make them beautiful and describe what you see.\n",
        "\n",
        "Don't just pick random variables - try to find an interesting story to tell with data and motivate WHY you picked this column!"
      ],
      "metadata": {
        "id": "apfTMApzwEwp"
      }
    },
    {
      "cell_type": "code",
      "source": [],
      "metadata": {
        "id": "LxlatTV-xTEt"
      },
      "execution_count": null,
      "outputs": []
    },
    {
      "cell_type": "markdown",
      "source": [
        "## (8) Optional extra credit for +10 points. What are the Top 10 zipcodes that had the highest per capita amount of loans going to Women-Owned businesses?\n",
        "\n",
        "This column is called `Gender` in the `PPP` data.\n",
        "\n",
        "* What State are these zipcodes in? \n",
        "* Comment on if they have anything in common? "
      ],
      "metadata": {
        "id": "9ay33g4BH83C"
      }
    },
    {
      "cell_type": "code",
      "source": [],
      "metadata": {
        "id": "ygBON1OjLM2k"
      },
      "execution_count": null,
      "outputs": []
    },
    {
      "cell_type": "markdown",
      "source": [
        "# 🔴 Conclusion (5 pts)"
      ],
      "metadata": {
        "id": "ilXXyWRlJwyY"
      }
    },
    {
      "cell_type": "markdown",
      "source": [
        "## (1) What did you learn? \n",
        "Write five detailed bullets about what you learned. "
      ],
      "metadata": {
        "id": "GgO8oYoNAKSw"
      }
    },
    {
      "cell_type": "markdown",
      "source": [
        "# On Your Own (no credit)\n",
        "No points - but can you download ALL files for PPP data (several gigabytes of data) and re-run this script with ease? Post on the discussion board if you do!"
      ],
      "metadata": {
        "id": "HmBomBoEmyrm"
      }
    }
  ]
}