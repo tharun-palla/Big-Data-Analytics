{
  "nbformat": 4,
  "nbformat_minor": 0,
  "metadata": {
    "colab": {
      "provenance": []
    },
    "kernelspec": {
      "name": "python3",
      "display_name": "Python 3"
    },
    "language_info": {
      "name": "python"
    }
  },
  "cells": [
    {
      "cell_type": "markdown",
      "source": [
        "# Download Data"
      ],
      "metadata": {
        "id": "-cncQ4qjNtFn"
      }
    },
    {
      "cell_type": "code",
      "source": [
        "!gdown 1ejm645rRkuIdt1VETpICmJbLGyxMCf7F\n",
        "!gdown 1nGfw8MOq_gYV55uJuFQ_1wgjpSIsvVw1"
      ],
      "metadata": {
        "colab": {
          "base_uri": "https://localhost:8080/"
        },
        "id": "XBaZ2OGxLs0j",
        "outputId": "9ef6c1b2-58b8-4862-cbf3-98dc299d19c1"
      },
      "execution_count": null,
      "outputs": [
        {
          "output_type": "stream",
          "name": "stdout",
          "text": [
            "Downloading...\n",
            "From: https://drive.google.com/uc?id=1ejm645rRkuIdt1VETpICmJbLGyxMCf7F\n",
            "To: /content/Ukraine.json\n",
            "100% 33.5k/33.5k [00:00<00:00, 43.1MB/s]\n",
            "Downloading...\n",
            "From: https://drive.google.com/uc?id=1nGfw8MOq_gYV55uJuFQ_1wgjpSIsvVw1\n",
            "To: /content/London.json\n",
            "100% 30.6k/30.6k [00:00<00:00, 29.5MB/s]\n"
          ]
        }
      ]
    },
    {
      "cell_type": "markdown",
      "source": [
        "# Install Spark"
      ],
      "metadata": {
        "id": "Oytbqn4ILKTj"
      }
    },
    {
      "cell_type": "code",
      "source": [
        "# install java\n",
        "!apt-get install openjdk-8-jdk-headless -qq > /dev/null\n",
        "\n",
        "# install spark (change the version number if needed)\n",
        "# note that this is grabbing from the archive\n",
        "!wget -q https://archive.apache.org/dist/spark/spark-3.0.0/spark-3.0.0-bin-hadoop3.2.tgz\n",
        "\n",
        "# unzip the spark file to the current folder\n",
        "!tar xf spark-3.0.0-bin-hadoop3.2.tgz\n",
        "\n",
        "# set your spark folder to your system path environment. \n",
        "import os\n",
        "os.environ[\"JAVA_HOME\"] = \"/usr/lib/jvm/java-8-openjdk-amd64\"\n",
        "os.environ[\"SPARK_HOME\"] = \"/content/spark-3.0.0-bin-hadoop3.2\"\n",
        "\n",
        "\n",
        "# install findspark using pip\n",
        "!pip install -q findspark\n",
        "\n",
        "# findspark\n",
        "import findspark\n",
        "findspark.init()"
      ],
      "metadata": {
        "id": "FAEo-PgfK96F"
      },
      "execution_count": null,
      "outputs": []
    },
    {
      "cell_type": "markdown",
      "source": [
        "# Start session"
      ],
      "metadata": {
        "id": "CRxEW8DkGXCF"
      }
    },
    {
      "cell_type": "markdown",
      "source": [
        "We start the builder pattern `SparkSession.builder` and then chain a configuration parameter that defined the application name."
      ],
      "metadata": {
        "id": "JuJ0P_fPhMro"
      }
    },
    {
      "cell_type": "markdown",
      "source": [
        "Providing a useful `appName` helps you identify which programs are running on your Spark cluster."
      ],
      "metadata": {
        "id": "J2w5YYf2hsUx"
      }
    },
    {
      "cell_type": "code",
      "source": [
        "from pyspark.sql import SparkSession\n",
        "spark = SparkSession.builder\\\n",
        "        .appName(\"Exploring_JSON_actors\")\\\n",
        "        .getOrCreate()"
      ],
      "metadata": {
        "id": "O3AIwdPaGWTy"
      },
      "execution_count": null,
      "outputs": []
    },
    {
      "cell_type": "code",
      "source": [
        "import pyspark.sql.functions as F"
      ],
      "metadata": {
        "id": "MaeoIdo6QhTI"
      },
      "execution_count": null,
      "outputs": []
    },
    {
      "cell_type": "markdown",
      "source": [
        "# Q1.  Inspect the .html and .json files"
      ],
      "metadata": {
        "id": "Z_7XOjEjN2PC"
      }
    },
    {
      "cell_type": "markdown",
      "source": [
        "Imagine that someone just sent you the search results for these two queries. You can see that someone has been searching for 'top actors' in various cities (Kyiv, Ukraine and London, England.) The first geographic name referes to the 'top actors', and while the second set of geographic names looks duplicative, it is actually where you are telling Google to search from! "
      ],
      "metadata": {
        "id": "QHVji8REN8wY"
      }
    },
    {
      "cell_type": "markdown",
      "source": [
        "If you dig through the two JSON files, you can actually click through and see the HTML result! It is buried in the JSON file but you can find it after looking around. Just lop off the **%7C** at the end and you can see the raw webpage you grabbed.\n",
        "* https://serpapi.com/searches/2667d9f1ec89c315/63f12abf33b236a2bb4e555d.html%7C\n",
        "\n",
        "Here are the clean HTML files:\n",
        "* https://serpapi.com/searches/0fb523f94d3aeeac/63f12abda3f4ef6286fc8dfd.html\n",
        "* https://serpapi.com/searches/2667d9f1ec89c315/63f12abf33b236a2bb4e555d.html\n",
        "\n",
        "You can also replace the .html and just get the .json right away, too.\n",
        "* https://serpapi.com/searches/0fb523f94d3aeeac/63f12abda3f4ef6286fc8dfd.json\n",
        "* https://serpapi.com/searches/2667d9f1ec89c315/63f12abf33b236a2bb4e555d.json\n"
      ],
      "metadata": {
        "id": "C2__Wg8RTC8H"
      }
    },
    {
      "cell_type": "markdown",
      "source": [
        "Now that you have examined both the .html and .json files for these two search queries, **write down three interesting observations that you see**. Pay attention to how the structure of the .html website is efficiently captured in the .json file. No code here - just your qualitative observations."
      ],
      "metadata": {
        "id": "CC2s_vWxPGjR"
      }
    },
    {
      "cell_type": "markdown",
      "source": [
        "## Interesting Thing 1"
      ],
      "metadata": {
        "id": "Pa25rFgoX2Sc"
      }
    },
    {
      "cell_type": "markdown",
      "source": [
        "Each sublink in html from search results are divided in to blocks in JSON file and are filled with data related to that block."
      ],
      "metadata": {
        "id": "4iGSwnWjX_IJ"
      }
    },
    {
      "cell_type": "markdown",
      "source": [
        "## Interesting Thing 2"
      ],
      "metadata": {
        "id": "1ghY5pBMX4jv"
      }
    },
    {
      "cell_type": "markdown",
      "source": [
        "JSON file gives a clear understanding of \"organic_results_state\": \"Results for exact spelling\" and \"organic_results\""
      ],
      "metadata": {
        "id": "V5pJO7GCX_om"
      }
    },
    {
      "cell_type": "markdown",
      "source": [
        "## Interesting Thing 3"
      ],
      "metadata": {
        "id": "GX9qWt71X5Xc"
      }
    },
    {
      "cell_type": "markdown",
      "source": [
        "HTML Files are user friendly and JSON Files are computer friendly"
      ],
      "metadata": {
        "id": "72myPcqqYAD-"
      }
    },
    {
      "cell_type": "markdown",
      "source": [
        "# 🔴 Ukraine"
      ],
      "metadata": {
        "id": "dU1fwUdVShsm"
      }
    },
    {
      "cell_type": "markdown",
      "source": [
        "I think this is the easier file to work with, so let's start here."
      ],
      "metadata": {
        "id": "5ruMbevKbCAb"
      }
    },
    {
      "cell_type": "markdown",
      "source": [
        "# Q2. Read the Ukraine .json file and printSchema()"
      ],
      "metadata": {
        "id": "QAyvKog4PfFe"
      }
    },
    {
      "cell_type": "markdown",
      "source": [
        "Describe what you see in the schema."
      ],
      "metadata": {
        "id": "u9kMpWrMbIi8"
      }
    },
    {
      "cell_type": "code",
      "source": [
        "ukraine_df = spark.read.json(\"/content/Ukraine.json\", multiLine= True)"
      ],
      "metadata": {
        "id": "6SprZKlcPvx-"
      },
      "execution_count": null,
      "outputs": []
    },
    {
      "cell_type": "code",
      "source": [
        "ukraine_df.printSchema()\n",
        "ukraine_df.count()"
      ],
      "metadata": {
        "id": "ig_ZRleJNlFB",
        "colab": {
          "base_uri": "https://localhost:8080/"
        },
        "outputId": "6a67fd1e-e905-4592-8b7c-39c63e5122bb"
      },
      "execution_count": null,
      "outputs": [
        {
          "output_type": "stream",
          "name": "stdout",
          "text": [
            "root\n",
            " |-- inline_images: array (nullable = true)\n",
            " |    |-- element: struct (containsNull = true)\n",
            " |    |    |-- link: string (nullable = true)\n",
            " |    |    |-- original: string (nullable = true)\n",
            " |    |    |-- source: string (nullable = true)\n",
            " |    |    |-- source_name: string (nullable = true)\n",
            " |    |    |-- thumbnail: string (nullable = true)\n",
            " |    |    |-- title: string (nullable = true)\n",
            " |-- organic_results: array (nullable = true)\n",
            " |    |-- element: struct (containsNull = true)\n",
            " |    |    |-- about_page_link: string (nullable = true)\n",
            " |    |    |-- about_page_serpapi_link: string (nullable = true)\n",
            " |    |    |-- about_this_result: struct (nullable = true)\n",
            " |    |    |    |-- source: struct (nullable = true)\n",
            " |    |    |    |    |-- description: string (nullable = true)\n",
            " |    |    |    |    |-- icon: string (nullable = true)\n",
            " |    |    |    |    |-- security: string (nullable = true)\n",
            " |    |    |    |    |-- source_info_link: string (nullable = true)\n",
            " |    |    |-- cached_page_link: string (nullable = true)\n",
            " |    |    |-- date: string (nullable = true)\n",
            " |    |    |-- displayed_link: string (nullable = true)\n",
            " |    |    |-- displayed_results: string (nullable = true)\n",
            " |    |    |-- link: string (nullable = true)\n",
            " |    |    |-- position: long (nullable = true)\n",
            " |    |    |-- related_results: array (nullable = true)\n",
            " |    |    |    |-- element: struct (containsNull = true)\n",
            " |    |    |    |    |-- about_page_link: string (nullable = true)\n",
            " |    |    |    |    |-- about_page_serpapi_link: string (nullable = true)\n",
            " |    |    |    |    |-- about_this_result: struct (nullable = true)\n",
            " |    |    |    |    |    |-- source: struct (nullable = true)\n",
            " |    |    |    |    |    |    |-- description: string (nullable = true)\n",
            " |    |    |    |    |    |    |-- icon: string (nullable = true)\n",
            " |    |    |    |    |    |    |-- security: string (nullable = true)\n",
            " |    |    |    |    |    |    |-- source_info_link: string (nullable = true)\n",
            " |    |    |    |    |-- cached_page_link: string (nullable = true)\n",
            " |    |    |    |    |-- displayed_link: string (nullable = true)\n",
            " |    |    |    |    |-- link: string (nullable = true)\n",
            " |    |    |    |    |-- position: long (nullable = true)\n",
            " |    |    |    |    |-- snippet: string (nullable = true)\n",
            " |    |    |    |    |-- snippet_highlighted_words: array (nullable = true)\n",
            " |    |    |    |    |    |-- element: string (containsNull = true)\n",
            " |    |    |    |    |-- title: string (nullable = true)\n",
            " |    |    |-- rich_snippet: struct (nullable = true)\n",
            " |    |    |    |-- top: struct (nullable = true)\n",
            " |    |    |    |    |-- detected_extensions: struct (nullable = true)\n",
            " |    |    |    |    |    |-- jun: long (nullable = true)\n",
            " |    |    |    |    |    |-- results_of: long (nullable = true)\n",
            " |    |    |    |    |-- extensions: array (nullable = true)\n",
            " |    |    |    |    |    |-- element: string (containsNull = true)\n",
            " |    |    |-- rich_snippet_list: array (nullable = true)\n",
            " |    |    |    |-- element: string (containsNull = true)\n",
            " |    |    |-- snippet: string (nullable = true)\n",
            " |    |    |-- snippet_highlighted_words: array (nullable = true)\n",
            " |    |    |    |-- element: string (containsNull = true)\n",
            " |    |    |-- thumbnail: string (nullable = true)\n",
            " |    |    |-- title: string (nullable = true)\n",
            " |-- pagination: struct (nullable = true)\n",
            " |    |-- current: long (nullable = true)\n",
            " |    |-- next: string (nullable = true)\n",
            " |    |-- other_pages: struct (nullable = true)\n",
            " |    |    |-- 2: string (nullable = true)\n",
            " |    |    |-- 3: string (nullable = true)\n",
            " |    |    |-- 4: string (nullable = true)\n",
            " |    |    |-- 5: string (nullable = true)\n",
            " |-- related_searches: array (nullable = true)\n",
            " |    |-- element: struct (containsNull = true)\n",
            " |    |    |-- link: string (nullable = true)\n",
            " |    |    |-- query: string (nullable = true)\n",
            " |-- search_information: struct (nullable = true)\n",
            " |    |-- menu_items: array (nullable = true)\n",
            " |    |    |-- element: struct (containsNull = true)\n",
            " |    |    |    |-- link: string (nullable = true)\n",
            " |    |    |    |-- position: long (nullable = true)\n",
            " |    |    |    |-- serpapi_link: string (nullable = true)\n",
            " |    |    |    |-- title: string (nullable = true)\n",
            " |    |-- organic_results_state: string (nullable = true)\n",
            " |    |-- query_displayed: string (nullable = true)\n",
            " |    |-- time_taken_displayed: double (nullable = true)\n",
            " |    |-- total_results: long (nullable = true)\n",
            " |-- search_metadata: struct (nullable = true)\n",
            " |    |-- created_at: string (nullable = true)\n",
            " |    |-- google_url: string (nullable = true)\n",
            " |    |-- id: string (nullable = true)\n",
            " |    |-- json_endpoint: string (nullable = true)\n",
            " |    |-- processed_at: string (nullable = true)\n",
            " |    |-- raw_html_file: string (nullable = true)\n",
            " |    |-- status: string (nullable = true)\n",
            " |    |-- total_time_taken: double (nullable = true)\n",
            " |-- search_parameters: struct (nullable = true)\n",
            " |    |-- device: string (nullable = true)\n",
            " |    |-- engine: string (nullable = true)\n",
            " |    |-- google_domain: string (nullable = true)\n",
            " |    |-- location_requested: string (nullable = true)\n",
            " |    |-- location_used: string (nullable = true)\n",
            " |    |-- num: string (nullable = true)\n",
            " |    |-- q: string (nullable = true)\n",
            " |    |-- start: long (nullable = true)\n",
            " |-- serpapi_pagination: struct (nullable = true)\n",
            " |    |-- current: long (nullable = true)\n",
            " |    |-- next: string (nullable = true)\n",
            " |    |-- next_link: string (nullable = true)\n",
            " |    |-- other_pages: struct (nullable = true)\n",
            " |    |    |-- 2: string (nullable = true)\n",
            " |    |    |-- 3: string (nullable = true)\n",
            " |    |    |-- 4: string (nullable = true)\n",
            " |    |    |-- 5: string (nullable = true)\n",
            "\n"
          ]
        },
        {
          "output_type": "execute_result",
          "data": {
            "text/plain": [
              "1"
            ]
          },
          "metadata": {},
          "execution_count": 209
        }
      ]
    },
    {
      "cell_type": "code",
      "source": [
        "ukraine_df.show(10)"
      ],
      "metadata": {
        "id": "6POTFDKCOZyF",
        "colab": {
          "base_uri": "https://localhost:8080/"
        },
        "outputId": "f18733c9-62c2-4928-ffd3-487ce251c9b0"
      },
      "execution_count": null,
      "outputs": [
        {
          "output_type": "stream",
          "name": "stdout",
          "text": [
            "+--------------------+--------------------+--------------------+--------------------+--------------------+--------------------+--------------------+--------------------+\n",
            "|       inline_images|     organic_results|          pagination|    related_searches|  search_information|     search_metadata|   search_parameters|  serpapi_pagination|\n",
            "+--------------------+--------------------+--------------------+--------------------+--------------------+--------------------+--------------------+--------------------+\n",
            "|[[https://www.goo...|[[https://www.goo...|[1, https://www.g...|[[https://www.goo...|[[[, 1,, All], [h...|[2023-02-18 19:45...|[desktop, google,...|[1, https://serpa...|\n",
            "+--------------------+--------------------+--------------------+--------------------+--------------------+--------------------+--------------------+--------------------+\n",
            "\n"
          ]
        }
      ]
    },
    {
      "cell_type": "markdown",
      "source": [
        "# Q3. Extract the `organic_results.snippet` from the Ukraine .json\n",
        "Are there any actors listed here? What does the output look like?"
      ],
      "metadata": {
        "id": "fN0sKqnqQAbH"
      }
    },
    {
      "cell_type": "code",
      "source": [
        "organic_results_snippet = ukraine_df.select(\"organic_results.snippet\")"
      ],
      "metadata": {
        "id": "J3Lkdux5QKRs"
      },
      "execution_count": null,
      "outputs": []
    },
    {
      "cell_type": "code",
      "source": [
        "organic_results_snippet.select(F.explode(\"snippet\").alias(\"snippet\")).show(100,False)"
      ],
      "metadata": {
        "id": "egsYVd7GPghz",
        "colab": {
          "base_uri": "https://localhost:8080/"
        },
        "outputId": "d4efb46f-15ea-4222-83f4-b8b34fac9494"
      },
      "execution_count": null,
      "outputs": [
        {
          "output_type": "stream",
          "name": "stdout",
          "text": [
            "+---------------------------------------------------------------------------------------------------------------------------------------------------------+\n",
            "|snippet                                                                                                                                                  |\n",
            "+---------------------------------------------------------------------------------------------------------------------------------------------------------+\n",
            "|Alec Utgoff is a British actor best known for playing 'Alexei' in the Netflix hit show, ... Ivanna Sakhno was born on November 14, 1997 in Kiev, Ukraine.|\n",
            "|From Ben Stiller to Jessica Chastain, celebrities have embraced Ukraine's president and offered support to the country's war effort.                     |\n",
            "|Zelenskyy wrote on his social media page that Sean Penn is in Ukraine filming a movie about the war. He also said that Penn was in Ukraine ...           |\n",
            "|Ukrainian actor Roman Matsiyta was ready to fight once the war began. He has no hesitation when it comes to defending his homeland.                      |\n",
            "|Ukrainian President Volodymyr Zelensky met with Ben Stiller on Monday after the actor toured parts of the war-ravaged county, advocating for ...         |\n",
            "|The Hindi film's lead actor Liza is stuck in the city of Dnipro, southeast of the Ukrainian capital Kyiv, he said.                                       |\n",
            "|Top Kyiv Theaters: See reviews and photos of Theaters in Kyiv, Ukraine on Tripadvisor.                                                                   |\n",
            "|On Saturday, Russian troops advanced on the capital city of Kyiv as Ukrainian forces struggled to hold on to the city.                                   |\n",
            "+---------------------------------------------------------------------------------------------------------------------------------------------------------+\n",
            "\n"
          ]
        }
      ]
    },
    {
      "cell_type": "markdown",
      "source": [
        "There are actors listed in the organic_results.snippet. They are embedded in the sentence describing something about their personality."
      ],
      "metadata": {
        "id": "UTRA1k3VjnaF"
      }
    },
    {
      "cell_type": "markdown",
      "source": [
        "# Q4. Extract the `organic_results.snippet_highlighted_words` from the Ukraine .json\n",
        "Are there any actors listed here? What does the output look like?"
      ],
      "metadata": {
        "id": "lPODRsJ8QRHM"
      }
    },
    {
      "cell_type": "code",
      "source": [
        "organic_results_snippet_highlighted = ukraine_df.select(\"organic_results.snippet_highlighted_words\")"
      ],
      "metadata": {
        "id": "OhELR6fyQwvB"
      },
      "execution_count": null,
      "outputs": []
    },
    {
      "cell_type": "code",
      "source": [
        "organic_results_snippet_highlighted.select(F.explode(\"snippet_highlighted_words\").alias(\"highlighted_words\")).show(100,False)"
      ],
      "metadata": {
        "id": "irUzH_vmQuTX",
        "colab": {
          "base_uri": "https://localhost:8080/"
        },
        "outputId": "03d6da5c-7450-49d3-a836-1b6d790bf83c"
      },
      "execution_count": null,
      "outputs": [
        {
          "output_type": "stream",
          "name": "stdout",
          "text": [
            "+------------------------------+\n",
            "|highlighted_words             |\n",
            "+------------------------------+\n",
            "|[actor best, Kiev, Ukraine]   |\n",
            "|[Ukraine's]                   |\n",
            "|null                          |\n",
            "|[Ukrainian actor]             |\n",
            "|[Ukrainian, actor]            |\n",
            "|[actor, city, Ukrainian, Kyiv]|\n",
            "|[Top Kyiv, Kyiv, Ukraine]     |\n",
            "|[city, Kyiv, Ukrainian, city] |\n",
            "+------------------------------+\n",
            "\n"
          ]
        }
      ]
    },
    {
      "cell_type": "markdown",
      "source": [
        "There are no actors listed in the organic_results.snippet_highlighted_words. The results contain highlighted words in each search result links."
      ],
      "metadata": {
        "id": "rexnoougkKuR"
      }
    },
    {
      "cell_type": "markdown",
      "source": [
        "# Q5. Extract the `search_parameters.q` to get the name of the search query\n",
        "Does the search you extracted match the search on the HTML page?\n",
        "\n"
      ],
      "metadata": {
        "id": "UgI1N3O2QxPa"
      }
    },
    {
      "cell_type": "code",
      "source": [
        "search_parameters = ukraine_df.select(F.col(\"search_parameters.q\").alias(\"search_parameter_q\"))"
      ],
      "metadata": {
        "id": "BLkf3fy6Q6Uy"
      },
      "execution_count": null,
      "outputs": []
    },
    {
      "cell_type": "code",
      "source": [
        "search_parameters.show(10, False)"
      ],
      "metadata": {
        "id": "9fi3_h0SRGQP",
        "colab": {
          "base_uri": "https://localhost:8080/"
        },
        "outputId": "e52eadbb-8128-419f-c563-2fc15676d4c1"
      },
      "execution_count": null,
      "outputs": [
        {
          "output_type": "stream",
          "name": "stdout",
          "text": [
            "+------------------------------------+\n",
            "|search_parameter_q                  |\n",
            "+------------------------------------+\n",
            "|top actors in Kyiv,Kyiv city,Ukraine|\n",
            "+------------------------------------+\n",
            "\n"
          ]
        }
      ]
    },
    {
      "cell_type": "markdown",
      "source": [
        "Yes, the search_parameters.q results the same as search query. "
      ],
      "metadata": {
        "id": "Zy9kwQW5kaPF"
      }
    },
    {
      "cell_type": "markdown",
      "source": [
        "# Q6. Extract the list of 12 names listed as the first SERP result from the Ukraine .json\n",
        "Where was this information hiding in the .json?"
      ],
      "metadata": {
        "id": "brYPiGSEQ685"
      }
    },
    {
      "cell_type": "code",
      "source": [
        "rich_snippet_list = ukraine_df.select(\"organic_results.rich_snippet_list\")"
      ],
      "metadata": {
        "id": "nPCGvoXQRG7o"
      },
      "execution_count": null,
      "outputs": []
    },
    {
      "cell_type": "code",
      "source": [
        "rich_snippet_list.select(F.explode(\"rich_snippet_list\").alias(\"list\")).select(F.explode(\"list\").alias(\"Names\")).show(15, False)"
      ],
      "metadata": {
        "id": "IDnUTLCHSctN",
        "colab": {
          "base_uri": "https://localhost:8080/"
        },
        "outputId": "6adbadec-036c-40f3-af97-d36f6169a5d8"
      },
      "execution_count": null,
      "outputs": [
        {
          "output_type": "stream",
          "name": "stdout",
          "text": [
            "+----------------+\n",
            "|Names           |\n",
            "+----------------+\n",
            "|Ivanna Sakhno   |\n",
            "|Natalie Burn    |\n",
            "|Gene Stupnitsky |\n",
            "|Ilia Volok      |\n",
            "|Oleg Zagorodnii |\n",
            "|Aleksey Gorbunov|\n",
            "|Ana Layevska    |\n",
            "|Larisa Polonsky |\n",
            "|Anna Sten       |\n",
            "|Vadim Perelman  |\n",
            "|Anna Sedokova   |\n",
            "|Alex Feldman    |\n",
            "+----------------+\n",
            "\n"
          ]
        }
      ]
    },
    {
      "cell_type": "markdown",
      "source": [
        "The information is in organic_results -> rich_snippet_list."
      ],
      "metadata": {
        "id": "O-HYLpTakmyU"
      }
    },
    {
      "cell_type": "markdown",
      "source": [
        "# Q7. Extract a list of the 9 websites listed on the Ukraine .json\n",
        "Sometimes Google (SERP API) does not return 10 related searches, it will give you less! To be clear, I would like all of the links from the 9 positions within the organic results. Names should include imdb.com, theguardian.com, euronews.com etc."
      ],
      "metadata": {
        "id": "tq_WKPVFSBcg"
      }
    },
    {
      "cell_type": "code",
      "source": [
        "source_info_links = ukraine_df.select(\"organic_results.about_this_result.source.source_info_link\")"
      ],
      "metadata": {
        "id": "u2I-H4ZVSqdE"
      },
      "execution_count": null,
      "outputs": []
    },
    {
      "cell_type": "code",
      "source": [
        "source_info_links.select(F.explode(\"source_info_link\").alias(\"links\")).show(100, False)"
      ],
      "metadata": {
        "id": "CywKiG8HTpCo",
        "colab": {
          "base_uri": "https://localhost:8080/"
        },
        "outputId": "bd28ff84-0f4a-4f27-bfef-507fd49dd006"
      },
      "execution_count": null,
      "outputs": [
        {
          "output_type": "stream",
          "name": "stdout",
          "text": [
            "+------------------------------------------------------------------------------------------------------------------------------------+\n",
            "|links                                                                                                                               |\n",
            "+------------------------------------------------------------------------------------------------------------------------------------+\n",
            "|https://www.imdb.com/search/name/?birth_place=Kiev,+Ukraine                                                                         |\n",
            "|https://www.theguardian.com/world/2023/jan/08/ukraine-how-zelenskiy-hollywood-man-of-the-hour                                       |\n",
            "|https://www.euronews.com/video/2022/06/28/us-actor-penn-meets-zelenskyy-in-kyiv                                                     |\n",
            "|https://nypost.com/2022/03/06/ukrainian-actor-who-played-soldier-takes-up-arms-vs-russians/                                         |\n",
            "|https://www.newsweek.com/meet-zelensky-actor-ben-stiller-tours-war-ravaged-kyiv-irpin-1717460                                       |\n",
            "|https://www.tribuneindia.com/news/nation/three-ukrainian-actors-who-shot-for-hindi-film-love-in-ukraine-missing-says-director-389883|\n",
            "|https://www.tripadvisor.com/Attractions-g294474-Activities-c58-t116-Kyiv.html                                                       |\n",
            "|https://www.latimes.com/entertainment-arts/business/story/2022-02-26/actor-sean-penn-in-ukraine-zelensky-russia-conflict            |\n",
            "+------------------------------------------------------------------------------------------------------------------------------------+\n",
            "\n"
          ]
        }
      ]
    },
    {
      "cell_type": "markdown",
      "source": [
        "SERP API has returned 8 links and the links are mentioned above. This information is in organic_results.about_this_result.source.source_info_link"
      ],
      "metadata": {
        "id": "9mb8PzN0k5K3"
      }
    },
    {
      "cell_type": "markdown",
      "source": [
        "# 🔴 London"
      ],
      "metadata": {
        "id": "eg_QEX8QSq5S"
      }
    },
    {
      "cell_type": "markdown",
      "source": [
        "# Q8. Extract the list of famous actors from the first result on the London .json\n",
        "\n",
        "```\n",
        "Richard Foreman. Christian Bale. ...\n",
        "Nick Briggs. Sean Bean. ...\n",
        "Kate Beckinsale. ...\n",
        "Dirk Bogarde. ...\n",
        "Michael Caine. ...\n",
        "John Cleese. ...\n",
        "Sacha Baron Cohen. ..\n",
        "```"
      ],
      "metadata": {
        "id": "_Pdj95QFS3Ae"
      }
    },
    {
      "cell_type": "markdown",
      "source": [
        "This one is a bit tough to extract because it is 'hiding' in an answer box (notice how this first search result is prominent and specially formatted by Google.) It is NOT the first result (from Position 1) of the organic results.\n",
        "\n",
        "While it is easy for you to just retrieve the answer (once you find it in the JSON), why not practice your PySpark and also clean up the information - I see 9 names in the answer box, please make me a table with one column called actors and 9 rows, one for each actor. **Hint:** You can use the `.` as a delimiter and replace all `...` with nothing..."
      ],
      "metadata": {
        "id": "3B8kko_STMlt"
      }
    },
    {
      "cell_type": "code",
      "source": [
        "london_df = spark.read.json(\"London.json\")\n",
        "london_df.printSchema()"
      ],
      "metadata": {
        "id": "PyGHBPfIUIZ9",
        "colab": {
          "base_uri": "https://localhost:8080/"
        },
        "outputId": "c3aa358b-24e4-4576-b281-59d00d0b7c3c"
      },
      "execution_count": null,
      "outputs": [
        {
          "output_type": "stream",
          "name": "stdout",
          "text": [
            "root\n",
            " |-- answer_box: struct (nullable = true)\n",
            " |    |-- about_this_result: struct (nullable = true)\n",
            " |    |    |-- source: struct (nullable = true)\n",
            " |    |    |    |-- description: string (nullable = true)\n",
            " |    |    |    |-- icon: string (nullable = true)\n",
            " |    |    |    |-- security: string (nullable = true)\n",
            " |    |    |    |-- source_info_link: string (nullable = true)\n",
            " |    |-- date: string (nullable = true)\n",
            " |    |-- displayed_link: string (nullable = true)\n",
            " |    |-- images: array (nullable = true)\n",
            " |    |    |-- element: string (containsNull = true)\n",
            " |    |-- link: string (nullable = true)\n",
            " |    |-- list: array (nullable = true)\n",
            " |    |    |-- element: string (containsNull = true)\n",
            " |    |-- snippet: string (nullable = true)\n",
            " |    |-- snippet_highlighted_words: array (nullable = true)\n",
            " |    |    |-- element: string (containsNull = true)\n",
            " |    |-- title: string (nullable = true)\n",
            " |    |-- type: string (nullable = true)\n",
            " |-- organic_results: array (nullable = true)\n",
            " |    |-- element: struct (containsNull = true)\n",
            " |    |    |-- about_this_result: struct (nullable = true)\n",
            " |    |    |    |-- source: struct (nullable = true)\n",
            " |    |    |    |    |-- description: string (nullable = true)\n",
            " |    |    |    |    |-- icon: string (nullable = true)\n",
            " |    |    |    |    |-- security: string (nullable = true)\n",
            " |    |    |    |    |-- source_info_link: string (nullable = true)\n",
            " |    |    |-- cached_page_link: string (nullable = true)\n",
            " |    |    |-- date: string (nullable = true)\n",
            " |    |    |-- displayed_link: string (nullable = true)\n",
            " |    |    |-- link: string (nullable = true)\n",
            " |    |    |-- missing: array (nullable = true)\n",
            " |    |    |    |-- element: string (containsNull = true)\n",
            " |    |    |-- must_include: struct (nullable = true)\n",
            " |    |    |    |-- link: string (nullable = true)\n",
            " |    |    |    |-- word: string (nullable = true)\n",
            " |    |    |-- position: long (nullable = true)\n",
            " |    |    |-- related_results: array (nullable = true)\n",
            " |    |    |    |-- element: struct (containsNull = true)\n",
            " |    |    |    |    |-- about_this_result: struct (nullable = true)\n",
            " |    |    |    |    |    |-- source: struct (nullable = true)\n",
            " |    |    |    |    |    |    |-- description: string (nullable = true)\n",
            " |    |    |    |    |    |    |-- icon: string (nullable = true)\n",
            " |    |    |    |    |    |    |-- security: string (nullable = true)\n",
            " |    |    |    |    |    |    |-- source_info_link: string (nullable = true)\n",
            " |    |    |    |    |-- cached_page_link: string (nullable = true)\n",
            " |    |    |    |    |-- displayed_link: string (nullable = true)\n",
            " |    |    |    |    |-- link: string (nullable = true)\n",
            " |    |    |    |    |-- position: long (nullable = true)\n",
            " |    |    |    |    |-- snippet: string (nullable = true)\n",
            " |    |    |    |    |-- snippet_highlighted_words: array (nullable = true)\n",
            " |    |    |    |    |    |-- element: string (containsNull = true)\n",
            " |    |    |    |    |-- title: string (nullable = true)\n",
            " |    |    |-- rich_snippet: struct (nullable = true)\n",
            " |    |    |    |-- top: struct (nullable = true)\n",
            " |    |    |    |    |-- detected_extensions: struct (nullable = true)\n",
            " |    |    |    |    |    |-- jan: long (nullable = true)\n",
            " |    |    |    |    |    |-- jul: long (nullable = true)\n",
            " |    |    |    |    |-- extensions: array (nullable = true)\n",
            " |    |    |    |    |    |-- element: string (containsNull = true)\n",
            " |    |    |-- snippet: string (nullable = true)\n",
            " |    |    |-- snippet_highlighted_words: array (nullable = true)\n",
            " |    |    |    |-- element: string (containsNull = true)\n",
            " |    |    |-- thumbnail: string (nullable = true)\n",
            " |    |    |-- title: string (nullable = true)\n",
            " |-- pagination: struct (nullable = true)\n",
            " |    |-- current: long (nullable = true)\n",
            " |    |-- next: string (nullable = true)\n",
            " |    |-- other_pages: struct (nullable = true)\n",
            " |    |    |-- 10: string (nullable = true)\n",
            " |    |    |-- 2: string (nullable = true)\n",
            " |    |    |-- 3: string (nullable = true)\n",
            " |    |    |-- 4: string (nullable = true)\n",
            " |    |    |-- 5: string (nullable = true)\n",
            " |    |    |-- 6: string (nullable = true)\n",
            " |    |    |-- 7: string (nullable = true)\n",
            " |    |    |-- 8: string (nullable = true)\n",
            " |    |    |-- 9: string (nullable = true)\n",
            " |-- related_questions: array (nullable = true)\n",
            " |    |-- element: struct (containsNull = true)\n",
            " |    |    |-- date: string (nullable = true)\n",
            " |    |    |-- displayed_link: string (nullable = true)\n",
            " |    |    |-- link: string (nullable = true)\n",
            " |    |    |-- list: array (nullable = true)\n",
            " |    |    |    |-- element: string (containsNull = true)\n",
            " |    |    |-- next_page_token: string (nullable = true)\n",
            " |    |    |-- question: string (nullable = true)\n",
            " |    |    |-- serpapi_link: string (nullable = true)\n",
            " |    |    |-- snippet: string (nullable = true)\n",
            " |    |    |-- thumbnail: string (nullable = true)\n",
            " |    |    |-- title: string (nullable = true)\n",
            " |-- related_searches: array (nullable = true)\n",
            " |    |-- element: struct (containsNull = true)\n",
            " |    |    |-- link: string (nullable = true)\n",
            " |    |    |-- query: string (nullable = true)\n",
            " |-- search_information: struct (nullable = true)\n",
            " |    |-- menu_items: array (nullable = true)\n",
            " |    |    |-- element: struct (containsNull = true)\n",
            " |    |    |    |-- link: string (nullable = true)\n",
            " |    |    |    |-- position: long (nullable = true)\n",
            " |    |    |    |-- serpapi_link: string (nullable = true)\n",
            " |    |    |    |-- title: string (nullable = true)\n",
            " |    |-- organic_results_state: string (nullable = true)\n",
            " |    |-- query_displayed: string (nullable = true)\n",
            " |    |-- time_taken_displayed: double (nullable = true)\n",
            " |    |-- total_results: long (nullable = true)\n",
            " |-- search_metadata: struct (nullable = true)\n",
            " |    |-- created_at: string (nullable = true)\n",
            " |    |-- google_url: string (nullable = true)\n",
            " |    |-- id: string (nullable = true)\n",
            " |    |-- json_endpoint: string (nullable = true)\n",
            " |    |-- processed_at: string (nullable = true)\n",
            " |    |-- raw_html_file: string (nullable = true)\n",
            " |    |-- status: string (nullable = true)\n",
            " |    |-- total_time_taken: double (nullable = true)\n",
            " |-- search_parameters: struct (nullable = true)\n",
            " |    |-- device: string (nullable = true)\n",
            " |    |-- engine: string (nullable = true)\n",
            " |    |-- google_domain: string (nullable = true)\n",
            " |    |-- location_requested: string (nullable = true)\n",
            " |    |-- location_used: string (nullable = true)\n",
            " |    |-- num: string (nullable = true)\n",
            " |    |-- q: string (nullable = true)\n",
            " |    |-- start: long (nullable = true)\n",
            " |-- serpapi_pagination: struct (nullable = true)\n",
            " |    |-- current: long (nullable = true)\n",
            " |    |-- next: string (nullable = true)\n",
            " |    |-- next_link: string (nullable = true)\n",
            " |    |-- other_pages: struct (nullable = true)\n",
            " |    |    |-- 10: string (nullable = true)\n",
            " |    |    |-- 2: string (nullable = true)\n",
            " |    |    |-- 3: string (nullable = true)\n",
            " |    |    |-- 4: string (nullable = true)\n",
            " |    |    |-- 5: string (nullable = true)\n",
            " |    |    |-- 6: string (nullable = true)\n",
            " |    |    |-- 7: string (nullable = true)\n",
            " |    |    |-- 8: string (nullable = true)\n",
            " |    |    |-- 9: string (nullable = true)\n",
            "\n"
          ]
        }
      ]
    },
    {
      "cell_type": "code",
      "source": [],
      "metadata": {
        "id": "Z4GgWQZu1iQT"
      },
      "execution_count": null,
      "outputs": []
    },
    {
      "cell_type": "code",
      "source": [
        "list_actors = london_df.select(\"answer_box.list\")\n",
        "list_actors_cleaned = list_actors.select(F.explode(\"list\").alias(\"Names\"))\\\n",
        "                                  .withColumn(\"Names\", F.regexp_replace('Names', '\\. \\.\\.\\.', ''))\\\n",
        "                                  .withColumn(\"Names\",F.split(\"Names\",\"\\.\"))\\\n",
        "                                  .select(F.explode(\"Names\").alias(\"Names\"))\\\n",
        "                                  .select(F.ltrim(\"Names\"))\\\n",
        "                                  .show(9,False)"
      ],
      "metadata": {
        "id": "pD7IA1Ms17Yf",
        "colab": {
          "base_uri": "https://localhost:8080/"
        },
        "outputId": "bd2d2e15-6e9d-431d-86cd-11a78e6c7886"
      },
      "execution_count": null,
      "outputs": [
        {
          "output_type": "stream",
          "name": "stdout",
          "text": [
            "+------------------+\n",
            "|ltrim(Names)      |\n",
            "+------------------+\n",
            "|Richard Foreman   |\n",
            "|Christian Bale    |\n",
            "|Nick Briggs       |\n",
            "|Sean Bean         |\n",
            "|Kate Beckinsale   |\n",
            "|Dirk Bogarde      |\n",
            "|Michael Caine     |\n",
            "|John Cleese       |\n",
            "|Sacha Baron Cohen |\n",
            "+------------------+\n",
            "only showing top 9 rows\n",
            "\n"
          ]
        }
      ]
    },
    {
      "cell_type": "markdown",
      "source": [
        "The above result shows the 9 actors from famous actors list in london."
      ],
      "metadata": {
        "id": "oEdvFXuUl6OI"
      }
    },
    {
      "cell_type": "markdown",
      "source": [],
      "metadata": {
        "id": "lssKZHe7l6NV"
      }
    },
    {
      "cell_type": "markdown",
      "source": [
        "# Q9. Examine 'Orang juga bertanya'/'People Also Ask' in the London .json\n",
        "For some reason, this London search result came from the Indonesian Google search engine. 'Orang juga bertanya' is Indonesian for 'People Also Ask'. \n",
        "\n",
        "Click through the HTML and find out 'Who is No 1 actor in the world?', then use code to extract the answer from the .json. Print the text of the answer to get full credit."
      ],
      "metadata": {
        "id": "dm7i5SXvUIrT"
      }
    },
    {
      "cell_type": "code",
      "source": [
        "related_questions = london_df.select(\"related_questions\")\n",
        "related_questions.printSchema()\n",
        "related_questions_ = related_questions.select(F.explode(related_questions.related_questions).alias(\"struct_cols\"))\n",
        "question = related_questions_.filter(related_questions_.struct_cols.question == \"Who is No 1 actor in the world?\")\n"
      ],
      "metadata": {
        "id": "-LQGD7IQU4tm",
        "colab": {
          "base_uri": "https://localhost:8080/"
        },
        "outputId": "16a0a8ce-a31e-4e51-e799-56d52e6b9dee"
      },
      "execution_count": null,
      "outputs": [
        {
          "output_type": "stream",
          "name": "stdout",
          "text": [
            "root\n",
            " |-- related_questions: array (nullable = true)\n",
            " |    |-- element: struct (containsNull = true)\n",
            " |    |    |-- date: string (nullable = true)\n",
            " |    |    |-- displayed_link: string (nullable = true)\n",
            " |    |    |-- link: string (nullable = true)\n",
            " |    |    |-- list: array (nullable = true)\n",
            " |    |    |    |-- element: string (containsNull = true)\n",
            " |    |    |-- next_page_token: string (nullable = true)\n",
            " |    |    |-- question: string (nullable = true)\n",
            " |    |    |-- serpapi_link: string (nullable = true)\n",
            " |    |    |-- snippet: string (nullable = true)\n",
            " |    |    |-- thumbnail: string (nullable = true)\n",
            " |    |    |-- title: string (nullable = true)\n",
            "\n"
          ]
        }
      ]
    },
    {
      "cell_type": "code",
      "source": [
        "answer = question.select(F.col(\"struct_cols.snippet\").alias(\"Answer\"))\n",
        "answer.show(1, False)"
      ],
      "metadata": {
        "colab": {
          "base_uri": "https://localhost:8080/"
        },
        "id": "BLMwL_rXmS2i",
        "outputId": "cf6a1710-93d2-43e4-f02e-85428b6308d0"
      },
      "execution_count": null,
      "outputs": [
        {
          "output_type": "stream",
          "name": "stdout",
          "text": [
            "+-----------------------------------------------------------------------------------------------------------------------------------------------------------------------------------------------------------------------------------------------------------------------------------------------------------------+\n",
            "|Answer                                                                                                                                                                                                                                                                                                           |\n",
            "+-----------------------------------------------------------------------------------------------------------------------------------------------------------------------------------------------------------------------------------------------------------------------------------------------------------------+\n",
            "|American veteran actor Dwayne Johnson is the most popular actor in the world in 2023. He was born on 2nd May 1972 in Hayward, California. He was one of the greatest WWE wrestlers of all time also known by the ring name “The Rock”. This multi-talented American actor has huge popularity all over the world.|\n",
            "+-----------------------------------------------------------------------------------------------------------------------------------------------------------------------------------------------------------------------------------------------------------------------------------------------------------------+\n",
            "\n"
          ]
        }
      ]
    },
    {
      "cell_type": "markdown",
      "source": [
        "# Q10. Extract a list of the 10 websites listed on the London .json\n",
        "Similar to what you did for Ukraine. These come from the organic results. Should include names like timeout.com, imdb.com, etc."
      ],
      "metadata": {
        "id": "OWxscwiBU2bW"
      }
    },
    {
      "cell_type": "code",
      "source": [
        "source_info_links = london_df.select(\"organic_results.about_this_result.source.source_info_link\")"
      ],
      "metadata": {
        "id": "z-l-TbFLYtET"
      },
      "execution_count": null,
      "outputs": []
    },
    {
      "cell_type": "code",
      "source": [
        "source_info_links.select(F.explode(\"source_info_link\").alias(\"links\")).show(100, False)"
      ],
      "metadata": {
        "id": "oiOIH2kPEezX",
        "colab": {
          "base_uri": "https://localhost:8080/"
        },
        "outputId": "45554732-aeff-42cc-9b7a-8bbd0b6300a6"
      },
      "execution_count": null,
      "outputs": [
        {
          "output_type": "stream",
          "name": "stdout",
          "text": [
            "+------------------------------------------------------------------------------------------------------+\n",
            "|links                                                                                                 |\n",
            "+------------------------------------------------------------------------------------------------------+\n",
            "|https://www.imdb.com/search/name/?birth_place=London,+England,+UK                                     |\n",
            "|https://www.mrdustbin.com/us/famous-british-actors/                                                   |\n",
            "|https://www.glamourmagazine.co.uk/gallery/young-hot-british-actors                                    |\n",
            "|https://www.entoin.com/entertainment/british-actors                                                   |\n",
            "|https://londranews.com/english/london-born-actors-many-of-very-different-origins/                     |\n",
            "|https://www.youtube.com/watch?v=9rduOCd8FWU                                                           |\n",
            "|https://www.youtube.com/watch?v=igyp8sxZI_E                                                           |\n",
            "|https://www.thegentlemansjournal.com/article/these-are-the-top-10-greatest-british-actors-of-all-time/|\n",
            "+------------------------------------------------------------------------------------------------------+\n",
            "\n"
          ]
        }
      ]
    },
    {
      "cell_type": "markdown",
      "source": [
        "The above result shows the 8 links in search results."
      ],
      "metadata": {
        "id": "42vc7r8H1qKU"
      }
    },
    {
      "cell_type": "markdown",
      "source": [
        "# 🔴 Q11. Comments\n",
        "Make three good bullets that describe what you learned in this assignment. Talk about how even JSON files that are semi-similar can still be difficult to work with if they are heterogenous! "
      ],
      "metadata": {
        "id": "H0Thg7IGZP3v"
      }
    },
    {
      "cell_type": "markdown",
      "source": [
        "* JSON files with semi-structed data types are hard to flatten and convert to a normal table of rows and columns.\n",
        "* To work with JSON files, it is almost certain to preview the data before performing queries and analyis.\n",
        "* Large datasets with uneven structure types can be eaisly handled with JSON formats and are eailsy transferable through databases."
      ],
      "metadata": {
        "id": "Na36_xa4bNgC"
      }
    },
    {
      "cell_type": "markdown",
      "source": [
        "# 🔵 Extra Credit (5 pts)\n",
        "This one is tough because Ukraine only has 9 links and London has 10 links!\n",
        "\n",
        "Read both .json files at once using a wildcard, and make a dataframe with two rows (one for Ukraine and one for London) and 21 columns. The first column has the search query, and the next 10 columns are the (up to) 10 websites and the 10 columns after that are the 10 snippets. Good luck!"
      ],
      "metadata": {
        "id": "JQyjDHbCYi34"
      }
    },
    {
      "cell_type": "markdown",
      "source": [
        "Max grade is 100 points on this assignment, if you still have a 105 score, it will be recoded as 100."
      ],
      "metadata": {
        "id": "QSjun55OaWP-"
      }
    },
    {
      "cell_type": "code",
      "source": [
        "! mkdir JSONdata\n",
        "! mv London.json Ukraine.json  \"/content/JSONdata/\"\n"
      ],
      "metadata": {
        "id": "MkZ03P4RGsoE",
        "colab": {
          "base_uri": "https://localhost:8080/"
        },
        "outputId": "50e47a11-bba2-4b35-f8ec-25e33d024760"
      },
      "execution_count": null,
      "outputs": [
        {
          "output_type": "stream",
          "name": "stdout",
          "text": [
            "mkdir: cannot create directory ‘JSONdata’: File exists\n"
          ]
        }
      ]
    },
    {
      "cell_type": "code",
      "source": [
        "df = spark.read.json(\"/content/JSONdata/*\")"
      ],
      "metadata": {
        "id": "Da99p_qJZJLO"
      },
      "execution_count": null,
      "outputs": []
    },
    {
      "cell_type": "code",
      "source": [
        "df.printSchema()"
      ],
      "metadata": {
        "colab": {
          "base_uri": "https://localhost:8080/"
        },
        "id": "GB9k0K4uJHzy",
        "outputId": "b9788ad0-14cb-42a2-c03f-08a24dd1dc05"
      },
      "execution_count": null,
      "outputs": [
        {
          "output_type": "stream",
          "name": "stdout",
          "text": [
            "root\n",
            " |-- answer_box: struct (nullable = true)\n",
            " |    |-- about_this_result: struct (nullable = true)\n",
            " |    |    |-- source: struct (nullable = true)\n",
            " |    |    |    |-- description: string (nullable = true)\n",
            " |    |    |    |-- icon: string (nullable = true)\n",
            " |    |    |    |-- security: string (nullable = true)\n",
            " |    |    |    |-- source_info_link: string (nullable = true)\n",
            " |    |-- date: string (nullable = true)\n",
            " |    |-- displayed_link: string (nullable = true)\n",
            " |    |-- images: array (nullable = true)\n",
            " |    |    |-- element: string (containsNull = true)\n",
            " |    |-- link: string (nullable = true)\n",
            " |    |-- list: array (nullable = true)\n",
            " |    |    |-- element: string (containsNull = true)\n",
            " |    |-- snippet: string (nullable = true)\n",
            " |    |-- snippet_highlighted_words: array (nullable = true)\n",
            " |    |    |-- element: string (containsNull = true)\n",
            " |    |-- title: string (nullable = true)\n",
            " |    |-- type: string (nullable = true)\n",
            " |-- inline_images: array (nullable = true)\n",
            " |    |-- element: struct (containsNull = true)\n",
            " |    |    |-- link: string (nullable = true)\n",
            " |    |    |-- original: string (nullable = true)\n",
            " |    |    |-- source: string (nullable = true)\n",
            " |    |    |-- source_name: string (nullable = true)\n",
            " |    |    |-- thumbnail: string (nullable = true)\n",
            " |    |    |-- title: string (nullable = true)\n",
            " |-- organic_results: array (nullable = true)\n",
            " |    |-- element: struct (containsNull = true)\n",
            " |    |    |-- about_page_link: string (nullable = true)\n",
            " |    |    |-- about_page_serpapi_link: string (nullable = true)\n",
            " |    |    |-- about_this_result: struct (nullable = true)\n",
            " |    |    |    |-- source: struct (nullable = true)\n",
            " |    |    |    |    |-- description: string (nullable = true)\n",
            " |    |    |    |    |-- icon: string (nullable = true)\n",
            " |    |    |    |    |-- security: string (nullable = true)\n",
            " |    |    |    |    |-- source_info_link: string (nullable = true)\n",
            " |    |    |-- cached_page_link: string (nullable = true)\n",
            " |    |    |-- date: string (nullable = true)\n",
            " |    |    |-- displayed_link: string (nullable = true)\n",
            " |    |    |-- displayed_results: string (nullable = true)\n",
            " |    |    |-- link: string (nullable = true)\n",
            " |    |    |-- missing: array (nullable = true)\n",
            " |    |    |    |-- element: string (containsNull = true)\n",
            " |    |    |-- must_include: struct (nullable = true)\n",
            " |    |    |    |-- link: string (nullable = true)\n",
            " |    |    |    |-- word: string (nullable = true)\n",
            " |    |    |-- position: long (nullable = true)\n",
            " |    |    |-- related_results: array (nullable = true)\n",
            " |    |    |    |-- element: struct (containsNull = true)\n",
            " |    |    |    |    |-- about_page_link: string (nullable = true)\n",
            " |    |    |    |    |-- about_page_serpapi_link: string (nullable = true)\n",
            " |    |    |    |    |-- about_this_result: struct (nullable = true)\n",
            " |    |    |    |    |    |-- source: struct (nullable = true)\n",
            " |    |    |    |    |    |    |-- description: string (nullable = true)\n",
            " |    |    |    |    |    |    |-- icon: string (nullable = true)\n",
            " |    |    |    |    |    |    |-- security: string (nullable = true)\n",
            " |    |    |    |    |    |    |-- source_info_link: string (nullable = true)\n",
            " |    |    |    |    |-- cached_page_link: string (nullable = true)\n",
            " |    |    |    |    |-- displayed_link: string (nullable = true)\n",
            " |    |    |    |    |-- link: string (nullable = true)\n",
            " |    |    |    |    |-- position: long (nullable = true)\n",
            " |    |    |    |    |-- snippet: string (nullable = true)\n",
            " |    |    |    |    |-- snippet_highlighted_words: array (nullable = true)\n",
            " |    |    |    |    |    |-- element: string (containsNull = true)\n",
            " |    |    |    |    |-- title: string (nullable = true)\n",
            " |    |    |-- rich_snippet: struct (nullable = true)\n",
            " |    |    |    |-- top: struct (nullable = true)\n",
            " |    |    |    |    |-- detected_extensions: struct (nullable = true)\n",
            " |    |    |    |    |    |-- jan: long (nullable = true)\n",
            " |    |    |    |    |    |-- jul: long (nullable = true)\n",
            " |    |    |    |    |    |-- jun: long (nullable = true)\n",
            " |    |    |    |    |    |-- results_of: long (nullable = true)\n",
            " |    |    |    |    |-- extensions: array (nullable = true)\n",
            " |    |    |    |    |    |-- element: string (containsNull = true)\n",
            " |    |    |-- rich_snippet_list: array (nullable = true)\n",
            " |    |    |    |-- element: string (containsNull = true)\n",
            " |    |    |-- snippet: string (nullable = true)\n",
            " |    |    |-- snippet_highlighted_words: array (nullable = true)\n",
            " |    |    |    |-- element: string (containsNull = true)\n",
            " |    |    |-- thumbnail: string (nullable = true)\n",
            " |    |    |-- title: string (nullable = true)\n",
            " |-- pagination: struct (nullable = true)\n",
            " |    |-- current: long (nullable = true)\n",
            " |    |-- next: string (nullable = true)\n",
            " |    |-- other_pages: struct (nullable = true)\n",
            " |    |    |-- 10: string (nullable = true)\n",
            " |    |    |-- 2: string (nullable = true)\n",
            " |    |    |-- 3: string (nullable = true)\n",
            " |    |    |-- 4: string (nullable = true)\n",
            " |    |    |-- 5: string (nullable = true)\n",
            " |    |    |-- 6: string (nullable = true)\n",
            " |    |    |-- 7: string (nullable = true)\n",
            " |    |    |-- 8: string (nullable = true)\n",
            " |    |    |-- 9: string (nullable = true)\n",
            " |-- related_questions: array (nullable = true)\n",
            " |    |-- element: struct (containsNull = true)\n",
            " |    |    |-- date: string (nullable = true)\n",
            " |    |    |-- displayed_link: string (nullable = true)\n",
            " |    |    |-- link: string (nullable = true)\n",
            " |    |    |-- list: array (nullable = true)\n",
            " |    |    |    |-- element: string (containsNull = true)\n",
            " |    |    |-- next_page_token: string (nullable = true)\n",
            " |    |    |-- question: string (nullable = true)\n",
            " |    |    |-- serpapi_link: string (nullable = true)\n",
            " |    |    |-- snippet: string (nullable = true)\n",
            " |    |    |-- thumbnail: string (nullable = true)\n",
            " |    |    |-- title: string (nullable = true)\n",
            " |-- related_searches: array (nullable = true)\n",
            " |    |-- element: struct (containsNull = true)\n",
            " |    |    |-- link: string (nullable = true)\n",
            " |    |    |-- query: string (nullable = true)\n",
            " |-- search_information: struct (nullable = true)\n",
            " |    |-- menu_items: array (nullable = true)\n",
            " |    |    |-- element: struct (containsNull = true)\n",
            " |    |    |    |-- link: string (nullable = true)\n",
            " |    |    |    |-- position: long (nullable = true)\n",
            " |    |    |    |-- serpapi_link: string (nullable = true)\n",
            " |    |    |    |-- title: string (nullable = true)\n",
            " |    |-- organic_results_state: string (nullable = true)\n",
            " |    |-- query_displayed: string (nullable = true)\n",
            " |    |-- time_taken_displayed: double (nullable = true)\n",
            " |    |-- total_results: long (nullable = true)\n",
            " |-- search_metadata: struct (nullable = true)\n",
            " |    |-- created_at: string (nullable = true)\n",
            " |    |-- google_url: string (nullable = true)\n",
            " |    |-- id: string (nullable = true)\n",
            " |    |-- json_endpoint: string (nullable = true)\n",
            " |    |-- processed_at: string (nullable = true)\n",
            " |    |-- raw_html_file: string (nullable = true)\n",
            " |    |-- status: string (nullable = true)\n",
            " |    |-- total_time_taken: double (nullable = true)\n",
            " |-- search_parameters: struct (nullable = true)\n",
            " |    |-- device: string (nullable = true)\n",
            " |    |-- engine: string (nullable = true)\n",
            " |    |-- google_domain: string (nullable = true)\n",
            " |    |-- location_requested: string (nullable = true)\n",
            " |    |-- location_used: string (nullable = true)\n",
            " |    |-- num: string (nullable = true)\n",
            " |    |-- q: string (nullable = true)\n",
            " |    |-- start: long (nullable = true)\n",
            " |-- serpapi_pagination: struct (nullable = true)\n",
            " |    |-- current: long (nullable = true)\n",
            " |    |-- next: string (nullable = true)\n",
            " |    |-- next_link: string (nullable = true)\n",
            " |    |-- other_pages: struct (nullable = true)\n",
            " |    |    |-- 10: string (nullable = true)\n",
            " |    |    |-- 2: string (nullable = true)\n",
            " |    |    |-- 3: string (nullable = true)\n",
            " |    |    |-- 4: string (nullable = true)\n",
            " |    |    |-- 5: string (nullable = true)\n",
            " |    |    |-- 6: string (nullable = true)\n",
            " |    |    |-- 7: string (nullable = true)\n",
            " |    |    |-- 8: string (nullable = true)\n",
            " |    |    |-- 9: string (nullable = true)\n",
            "\n"
          ]
        }
      ]
    },
    {
      "cell_type": "code",
      "source": [
        "# Extracting Search Parameters from loaded JSON DF\n",
        "search_parameters = df.select(\"search_parameters.q\")\n",
        "search_parameters.show(10, False)"
      ],
      "metadata": {
        "colab": {
          "base_uri": "https://localhost:8080/"
        },
        "id": "pERHVLdqJlTQ",
        "outputId": "3e7f4087-1564-4910-ff8b-88c29d105905"
      },
      "execution_count": null,
      "outputs": [
        {
          "output_type": "stream",
          "name": "stdout",
          "text": [
            "+---------------------------------------------------+\n",
            "|q                                                  |\n",
            "+---------------------------------------------------+\n",
            "|top actors in Kyiv,Kyiv city,Ukraine               |\n",
            "|top actors in Greater London,England,United Kingdom|\n",
            "+---------------------------------------------------+\n",
            "\n"
          ]
        }
      ]
    },
    {
      "cell_type": "code",
      "source": [
        "#Extracting links from loaded JSON DF\n",
        "links = df.select(\"organic_results.link\")\n",
        "links.show(10, False)\n"
      ],
      "metadata": {
        "colab": {
          "base_uri": "https://localhost:8080/"
        },
        "id": "HcSZozbZJ_Uh",
        "outputId": "f93ae273-81cb-4c35-c86a-806614250573"
      },
      "execution_count": null,
      "outputs": [
        {
          "output_type": "stream",
          "name": "stdout",
          "text": [
            "+----------------------------------------------------------------------------------------------------------------------------------------------------------------------------------------------------------------------------------------------------------------------------------------------------------------------------------------------------------------------------------------------------------------------------------------------------------------------------------------------------------------------------------------------------------------------------------------------------------------------------------------------------------------------------------------------------------------------------------------------------------------------------------------+\n",
            "|link                                                                                                                                                                                                                                                                                                                                                                                                                                                                                                                                                                                                                                                                                                                                                                                    |\n",
            "+----------------------------------------------------------------------------------------------------------------------------------------------------------------------------------------------------------------------------------------------------------------------------------------------------------------------------------------------------------------------------------------------------------------------------------------------------------------------------------------------------------------------------------------------------------------------------------------------------------------------------------------------------------------------------------------------------------------------------------------------------------------------------------------+\n",
            "|[https://www.imdb.com/search/name/?birth_place=Kiev,+Ukraine, https://www.theguardian.com/world/2023/jan/08/ukraine-how-zelenskiy-hollywood-man-of-the-hour, https://www.euronews.com/video/2022/06/28/us-actor-penn-meets-zelenskyy-in-kyiv, https://nypost.com/2022/03/06/ukrainian-actor-who-played-soldier-takes-up-arms-vs-russians/, https://www.newsweek.com/meet-zelensky-actor-ben-stiller-tours-war-ravaged-kyiv-irpin-1717460, https://www.tribuneindia.com/news/nation/three-ukrainian-actors-who-shot-for-hindi-film-love-in-ukraine-missing-says-director-389883, https://www.tripadvisor.com/Attractions-g294474-Activities-c58-t116-Kyiv.html, https://www.latimes.com/entertainment-arts/business/story/2022-02-26/actor-sean-penn-in-ukraine-zelensky-russia-conflict]|\n",
            "|[https://www.imdb.com/search/name/?birth_place=London,+England,+UK, https://www.mrdustbin.com/us/famous-british-actors/, https://www.glamourmagazine.co.uk/gallery/young-hot-british-actors, https://www.entoin.com/entertainment/british-actors, https://londranews.com/english/london-born-actors-many-of-very-different-origins/, https://www.youtube.com/watch?v=9rduOCd8FWU, https://www.youtube.com/watch?v=igyp8sxZI_E, https://www.thegentlemansjournal.com/article/these-are-the-top-10-greatest-british-actors-of-all-time/]                                                                                                                                                                                                                                                  |\n",
            "+----------------------------------------------------------------------------------------------------------------------------------------------------------------------------------------------------------------------------------------------------------------------------------------------------------------------------------------------------------------------------------------------------------------------------------------------------------------------------------------------------------------------------------------------------------------------------------------------------------------------------------------------------------------------------------------------------------------------------------------------------------------------------------------+\n",
            "\n"
          ]
        }
      ]
    },
    {
      "cell_type": "code",
      "source": [
        "# Define window function to add row number column\n",
        "from pyspark.sql.window import Window\n",
        "from pyspark.sql.functions import row_number\n",
        "\n",
        "windowSpec  = Window.orderBy(\"link\")"
      ],
      "metadata": {
        "id": "JZOFmlbtp9cN"
      },
      "execution_count": null,
      "outputs": []
    },
    {
      "cell_type": "code",
      "source": [
        "#Add row number column to links\n",
        "links = links.withColumn(\"rownum\", row_number().over(windowSpec))"
      ],
      "metadata": {
        "id": "a3NAwK8Wq4X6"
      },
      "execution_count": null,
      "outputs": []
    },
    {
      "cell_type": "code",
      "source": [
        "links.show(2, False)\n",
        "#Here first row shows Ukraine links and second row shows London links"
      ],
      "metadata": {
        "colab": {
          "base_uri": "https://localhost:8080/"
        },
        "id": "sbRTbZdzrOG3",
        "outputId": "6bfaf891-734f-4897-88e3-083203c7b6d3"
      },
      "execution_count": null,
      "outputs": [
        {
          "output_type": "stream",
          "name": "stdout",
          "text": [
            "+----------------------------------------------------------------------------------------------------------------------------------------------------------------------------------------------------------------------------------------------------------------------------------------------------------------------------------------------------------------------------------------------------------------------------------------------------------------------------------------------------------------------------------------------------------------------------------------------------------------------------------------------------------------------------------------------------------------------------------------------------------------------------------------+------+\n",
            "|link                                                                                                                                                                                                                                                                                                                                                                                                                                                                                                                                                                                                                                                                                                                                                                                    |rownum|\n",
            "+----------------------------------------------------------------------------------------------------------------------------------------------------------------------------------------------------------------------------------------------------------------------------------------------------------------------------------------------------------------------------------------------------------------------------------------------------------------------------------------------------------------------------------------------------------------------------------------------------------------------------------------------------------------------------------------------------------------------------------------------------------------------------------------+------+\n",
            "|[https://www.imdb.com/search/name/?birth_place=Kiev,+Ukraine, https://www.theguardian.com/world/2023/jan/08/ukraine-how-zelenskiy-hollywood-man-of-the-hour, https://www.euronews.com/video/2022/06/28/us-actor-penn-meets-zelenskyy-in-kyiv, https://nypost.com/2022/03/06/ukrainian-actor-who-played-soldier-takes-up-arms-vs-russians/, https://www.newsweek.com/meet-zelensky-actor-ben-stiller-tours-war-ravaged-kyiv-irpin-1717460, https://www.tribuneindia.com/news/nation/three-ukrainian-actors-who-shot-for-hindi-film-love-in-ukraine-missing-says-director-389883, https://www.tripadvisor.com/Attractions-g294474-Activities-c58-t116-Kyiv.html, https://www.latimes.com/entertainment-arts/business/story/2022-02-26/actor-sean-penn-in-ukraine-zelensky-russia-conflict]|1     |\n",
            "|[https://www.imdb.com/search/name/?birth_place=London,+England,+UK, https://www.mrdustbin.com/us/famous-british-actors/, https://www.glamourmagazine.co.uk/gallery/young-hot-british-actors, https://www.entoin.com/entertainment/british-actors, https://londranews.com/english/london-born-actors-many-of-very-different-origins/, https://www.youtube.com/watch?v=9rduOCd8FWU, https://www.youtube.com/watch?v=igyp8sxZI_E, https://www.thegentlemansjournal.com/article/these-are-the-top-10-greatest-british-actors-of-all-time/]                                                                                                                                                                                                                                                  |2     |\n",
            "+----------------------------------------------------------------------------------------------------------------------------------------------------------------------------------------------------------------------------------------------------------------------------------------------------------------------------------------------------------------------------------------------------------------------------------------------------------------------------------------------------------------------------------------------------------------------------------------------------------------------------------------------------------------------------------------------------------------------------------------------------------------------------------------+------+\n",
            "\n"
          ]
        }
      ]
    },
    {
      "cell_type": "code",
      "source": [
        "#Selecting Ukraine Search Links\n",
        "uk_links =links.where(F.col(\"rownum\") == 1).select(F.explode(\"Link\"))\n",
        "uk_links = uk_links.toPandas()\n",
        "uk_links = uk_links.transpose()\n",
        "uk_links.head()"
      ],
      "metadata": {
        "colab": {
          "base_uri": "https://localhost:8080/",
          "height": 142
        },
        "id": "7x2amdnVvxZy",
        "outputId": "aa10a901-81fa-4295-c632-0c044e058c7a"
      },
      "execution_count": null,
      "outputs": [
        {
          "output_type": "execute_result",
          "data": {
            "text/plain": [
              "                                                     0  \\\n",
              "col  https://www.imdb.com/search/name/?birth_place=...   \n",
              "\n",
              "                                                     1  \\\n",
              "col  https://www.theguardian.com/world/2023/jan/08/...   \n",
              "\n",
              "                                                     2  \\\n",
              "col  https://www.euronews.com/video/2022/06/28/us-a...   \n",
              "\n",
              "                                                     3  \\\n",
              "col  https://nypost.com/2022/03/06/ukrainian-actor-...   \n",
              "\n",
              "                                                     4  \\\n",
              "col  https://www.newsweek.com/meet-zelensky-actor-b...   \n",
              "\n",
              "                                                     5  \\\n",
              "col  https://www.tribuneindia.com/news/nation/three...   \n",
              "\n",
              "                                                     6  \\\n",
              "col  https://www.tripadvisor.com/Attractions-g29447...   \n",
              "\n",
              "                                                     7  \n",
              "col  https://www.latimes.com/entertainment-arts/bus...  "
            ],
            "text/html": [
              "\n",
              "  <div id=\"df-57b574a1-f1b2-47f3-b1b2-14c3f33a2720\">\n",
              "    <div class=\"colab-df-container\">\n",
              "      <div>\n",
              "<style scoped>\n",
              "    .dataframe tbody tr th:only-of-type {\n",
              "        vertical-align: middle;\n",
              "    }\n",
              "\n",
              "    .dataframe tbody tr th {\n",
              "        vertical-align: top;\n",
              "    }\n",
              "\n",
              "    .dataframe thead th {\n",
              "        text-align: right;\n",
              "    }\n",
              "</style>\n",
              "<table border=\"1\" class=\"dataframe\">\n",
              "  <thead>\n",
              "    <tr style=\"text-align: right;\">\n",
              "      <th></th>\n",
              "      <th>0</th>\n",
              "      <th>1</th>\n",
              "      <th>2</th>\n",
              "      <th>3</th>\n",
              "      <th>4</th>\n",
              "      <th>5</th>\n",
              "      <th>6</th>\n",
              "      <th>7</th>\n",
              "    </tr>\n",
              "  </thead>\n",
              "  <tbody>\n",
              "    <tr>\n",
              "      <th>col</th>\n",
              "      <td>https://www.imdb.com/search/name/?birth_place=...</td>\n",
              "      <td>https://www.theguardian.com/world/2023/jan/08/...</td>\n",
              "      <td>https://www.euronews.com/video/2022/06/28/us-a...</td>\n",
              "      <td>https://nypost.com/2022/03/06/ukrainian-actor-...</td>\n",
              "      <td>https://www.newsweek.com/meet-zelensky-actor-b...</td>\n",
              "      <td>https://www.tribuneindia.com/news/nation/three...</td>\n",
              "      <td>https://www.tripadvisor.com/Attractions-g29447...</td>\n",
              "      <td>https://www.latimes.com/entertainment-arts/bus...</td>\n",
              "    </tr>\n",
              "  </tbody>\n",
              "</table>\n",
              "</div>\n",
              "      <button class=\"colab-df-convert\" onclick=\"convertToInteractive('df-57b574a1-f1b2-47f3-b1b2-14c3f33a2720')\"\n",
              "              title=\"Convert this dataframe to an interactive table.\"\n",
              "              style=\"display:none;\">\n",
              "        \n",
              "  <svg xmlns=\"http://www.w3.org/2000/svg\" height=\"24px\"viewBox=\"0 0 24 24\"\n",
              "       width=\"24px\">\n",
              "    <path d=\"M0 0h24v24H0V0z\" fill=\"none\"/>\n",
              "    <path d=\"M18.56 5.44l.94 2.06.94-2.06 2.06-.94-2.06-.94-.94-2.06-.94 2.06-2.06.94zm-11 1L8.5 8.5l.94-2.06 2.06-.94-2.06-.94L8.5 2.5l-.94 2.06-2.06.94zm10 10l.94 2.06.94-2.06 2.06-.94-2.06-.94-.94-2.06-.94 2.06-2.06.94z\"/><path d=\"M17.41 7.96l-1.37-1.37c-.4-.4-.92-.59-1.43-.59-.52 0-1.04.2-1.43.59L10.3 9.45l-7.72 7.72c-.78.78-.78 2.05 0 2.83L4 21.41c.39.39.9.59 1.41.59.51 0 1.02-.2 1.41-.59l7.78-7.78 2.81-2.81c.8-.78.8-2.07 0-2.86zM5.41 20L4 18.59l7.72-7.72 1.47 1.35L5.41 20z\"/>\n",
              "  </svg>\n",
              "      </button>\n",
              "      \n",
              "  <style>\n",
              "    .colab-df-container {\n",
              "      display:flex;\n",
              "      flex-wrap:wrap;\n",
              "      gap: 12px;\n",
              "    }\n",
              "\n",
              "    .colab-df-convert {\n",
              "      background-color: #E8F0FE;\n",
              "      border: none;\n",
              "      border-radius: 50%;\n",
              "      cursor: pointer;\n",
              "      display: none;\n",
              "      fill: #1967D2;\n",
              "      height: 32px;\n",
              "      padding: 0 0 0 0;\n",
              "      width: 32px;\n",
              "    }\n",
              "\n",
              "    .colab-df-convert:hover {\n",
              "      background-color: #E2EBFA;\n",
              "      box-shadow: 0px 1px 2px rgba(60, 64, 67, 0.3), 0px 1px 3px 1px rgba(60, 64, 67, 0.15);\n",
              "      fill: #174EA6;\n",
              "    }\n",
              "\n",
              "    [theme=dark] .colab-df-convert {\n",
              "      background-color: #3B4455;\n",
              "      fill: #D2E3FC;\n",
              "    }\n",
              "\n",
              "    [theme=dark] .colab-df-convert:hover {\n",
              "      background-color: #434B5C;\n",
              "      box-shadow: 0px 1px 3px 1px rgba(0, 0, 0, 0.15);\n",
              "      filter: drop-shadow(0px 1px 2px rgba(0, 0, 0, 0.3));\n",
              "      fill: #FFFFFF;\n",
              "    }\n",
              "  </style>\n",
              "\n",
              "      <script>\n",
              "        const buttonEl =\n",
              "          document.querySelector('#df-57b574a1-f1b2-47f3-b1b2-14c3f33a2720 button.colab-df-convert');\n",
              "        buttonEl.style.display =\n",
              "          google.colab.kernel.accessAllowed ? 'block' : 'none';\n",
              "\n",
              "        async function convertToInteractive(key) {\n",
              "          const element = document.querySelector('#df-57b574a1-f1b2-47f3-b1b2-14c3f33a2720');\n",
              "          const dataTable =\n",
              "            await google.colab.kernel.invokeFunction('convertToInteractive',\n",
              "                                                     [key], {});\n",
              "          if (!dataTable) return;\n",
              "\n",
              "          const docLinkHtml = 'Like what you see? Visit the ' +\n",
              "            '<a target=\"_blank\" href=https://colab.research.google.com/notebooks/data_table.ipynb>data table notebook</a>'\n",
              "            + ' to learn more about interactive tables.';\n",
              "          element.innerHTML = '';\n",
              "          dataTable['output_type'] = 'display_data';\n",
              "          await google.colab.output.renderOutput(dataTable, element);\n",
              "          const docLink = document.createElement('div');\n",
              "          docLink.innerHTML = docLinkHtml;\n",
              "          element.appendChild(docLink);\n",
              "        }\n",
              "      </script>\n",
              "    </div>\n",
              "  </div>\n",
              "  "
            ]
          },
          "metadata": {},
          "execution_count": 235
        }
      ]
    },
    {
      "cell_type": "code",
      "source": [
        "# Selecting London Search Links\n",
        "ld_links =links.where(F.col(\"rownum\") == 2).select(F.explode(\"Link\"))\n",
        "ld_links = ld_links.toPandas()\n",
        "ld_links = ld_links.transpose()\n",
        "ld_links.head()"
      ],
      "metadata": {
        "colab": {
          "base_uri": "https://localhost:8080/",
          "height": 142
        },
        "id": "LX01fk0LwP9Q",
        "outputId": "a3c11e31-b7cd-4d5b-e943-ace52d236e49"
      },
      "execution_count": null,
      "outputs": [
        {
          "output_type": "execute_result",
          "data": {
            "text/plain": [
              "                                                     0  \\\n",
              "col  https://www.imdb.com/search/name/?birth_place=...   \n",
              "\n",
              "                                                     1  \\\n",
              "col  https://www.mrdustbin.com/us/famous-british-ac...   \n",
              "\n",
              "                                                     2  \\\n",
              "col  https://www.glamourmagazine.co.uk/gallery/youn...   \n",
              "\n",
              "                                                     3  \\\n",
              "col  https://www.entoin.com/entertainment/british-a...   \n",
              "\n",
              "                                                     4  \\\n",
              "col  https://londranews.com/english/london-born-act...   \n",
              "\n",
              "                                               5  \\\n",
              "col  https://www.youtube.com/watch?v=9rduOCd8FWU   \n",
              "\n",
              "                                               6  \\\n",
              "col  https://www.youtube.com/watch?v=igyp8sxZI_E   \n",
              "\n",
              "                                                     7  \n",
              "col  https://www.thegentlemansjournal.com/article/t...  "
            ],
            "text/html": [
              "\n",
              "  <div id=\"df-c42e0bbe-9a88-4b6c-b393-5d40fe90ed55\">\n",
              "    <div class=\"colab-df-container\">\n",
              "      <div>\n",
              "<style scoped>\n",
              "    .dataframe tbody tr th:only-of-type {\n",
              "        vertical-align: middle;\n",
              "    }\n",
              "\n",
              "    .dataframe tbody tr th {\n",
              "        vertical-align: top;\n",
              "    }\n",
              "\n",
              "    .dataframe thead th {\n",
              "        text-align: right;\n",
              "    }\n",
              "</style>\n",
              "<table border=\"1\" class=\"dataframe\">\n",
              "  <thead>\n",
              "    <tr style=\"text-align: right;\">\n",
              "      <th></th>\n",
              "      <th>0</th>\n",
              "      <th>1</th>\n",
              "      <th>2</th>\n",
              "      <th>3</th>\n",
              "      <th>4</th>\n",
              "      <th>5</th>\n",
              "      <th>6</th>\n",
              "      <th>7</th>\n",
              "    </tr>\n",
              "  </thead>\n",
              "  <tbody>\n",
              "    <tr>\n",
              "      <th>col</th>\n",
              "      <td>https://www.imdb.com/search/name/?birth_place=...</td>\n",
              "      <td>https://www.mrdustbin.com/us/famous-british-ac...</td>\n",
              "      <td>https://www.glamourmagazine.co.uk/gallery/youn...</td>\n",
              "      <td>https://www.entoin.com/entertainment/british-a...</td>\n",
              "      <td>https://londranews.com/english/london-born-act...</td>\n",
              "      <td>https://www.youtube.com/watch?v=9rduOCd8FWU</td>\n",
              "      <td>https://www.youtube.com/watch?v=igyp8sxZI_E</td>\n",
              "      <td>https://www.thegentlemansjournal.com/article/t...</td>\n",
              "    </tr>\n",
              "  </tbody>\n",
              "</table>\n",
              "</div>\n",
              "      <button class=\"colab-df-convert\" onclick=\"convertToInteractive('df-c42e0bbe-9a88-4b6c-b393-5d40fe90ed55')\"\n",
              "              title=\"Convert this dataframe to an interactive table.\"\n",
              "              style=\"display:none;\">\n",
              "        \n",
              "  <svg xmlns=\"http://www.w3.org/2000/svg\" height=\"24px\"viewBox=\"0 0 24 24\"\n",
              "       width=\"24px\">\n",
              "    <path d=\"M0 0h24v24H0V0z\" fill=\"none\"/>\n",
              "    <path d=\"M18.56 5.44l.94 2.06.94-2.06 2.06-.94-2.06-.94-.94-2.06-.94 2.06-2.06.94zm-11 1L8.5 8.5l.94-2.06 2.06-.94-2.06-.94L8.5 2.5l-.94 2.06-2.06.94zm10 10l.94 2.06.94-2.06 2.06-.94-2.06-.94-.94-2.06-.94 2.06-2.06.94z\"/><path d=\"M17.41 7.96l-1.37-1.37c-.4-.4-.92-.59-1.43-.59-.52 0-1.04.2-1.43.59L10.3 9.45l-7.72 7.72c-.78.78-.78 2.05 0 2.83L4 21.41c.39.39.9.59 1.41.59.51 0 1.02-.2 1.41-.59l7.78-7.78 2.81-2.81c.8-.78.8-2.07 0-2.86zM5.41 20L4 18.59l7.72-7.72 1.47 1.35L5.41 20z\"/>\n",
              "  </svg>\n",
              "      </button>\n",
              "      \n",
              "  <style>\n",
              "    .colab-df-container {\n",
              "      display:flex;\n",
              "      flex-wrap:wrap;\n",
              "      gap: 12px;\n",
              "    }\n",
              "\n",
              "    .colab-df-convert {\n",
              "      background-color: #E8F0FE;\n",
              "      border: none;\n",
              "      border-radius: 50%;\n",
              "      cursor: pointer;\n",
              "      display: none;\n",
              "      fill: #1967D2;\n",
              "      height: 32px;\n",
              "      padding: 0 0 0 0;\n",
              "      width: 32px;\n",
              "    }\n",
              "\n",
              "    .colab-df-convert:hover {\n",
              "      background-color: #E2EBFA;\n",
              "      box-shadow: 0px 1px 2px rgba(60, 64, 67, 0.3), 0px 1px 3px 1px rgba(60, 64, 67, 0.15);\n",
              "      fill: #174EA6;\n",
              "    }\n",
              "\n",
              "    [theme=dark] .colab-df-convert {\n",
              "      background-color: #3B4455;\n",
              "      fill: #D2E3FC;\n",
              "    }\n",
              "\n",
              "    [theme=dark] .colab-df-convert:hover {\n",
              "      background-color: #434B5C;\n",
              "      box-shadow: 0px 1px 3px 1px rgba(0, 0, 0, 0.15);\n",
              "      filter: drop-shadow(0px 1px 2px rgba(0, 0, 0, 0.3));\n",
              "      fill: #FFFFFF;\n",
              "    }\n",
              "  </style>\n",
              "\n",
              "      <script>\n",
              "        const buttonEl =\n",
              "          document.querySelector('#df-c42e0bbe-9a88-4b6c-b393-5d40fe90ed55 button.colab-df-convert');\n",
              "        buttonEl.style.display =\n",
              "          google.colab.kernel.accessAllowed ? 'block' : 'none';\n",
              "\n",
              "        async function convertToInteractive(key) {\n",
              "          const element = document.querySelector('#df-c42e0bbe-9a88-4b6c-b393-5d40fe90ed55');\n",
              "          const dataTable =\n",
              "            await google.colab.kernel.invokeFunction('convertToInteractive',\n",
              "                                                     [key], {});\n",
              "          if (!dataTable) return;\n",
              "\n",
              "          const docLinkHtml = 'Like what you see? Visit the ' +\n",
              "            '<a target=\"_blank\" href=https://colab.research.google.com/notebooks/data_table.ipynb>data table notebook</a>'\n",
              "            + ' to learn more about interactive tables.';\n",
              "          element.innerHTML = '';\n",
              "          dataTable['output_type'] = 'display_data';\n",
              "          await google.colab.output.renderOutput(dataTable, element);\n",
              "          const docLink = document.createElement('div');\n",
              "          docLink.innerHTML = docLinkHtml;\n",
              "          element.appendChild(docLink);\n",
              "        }\n",
              "      </script>\n",
              "    </div>\n",
              "  </div>\n",
              "  "
            ]
          },
          "metadata": {},
          "execution_count": 236
        }
      ]
    },
    {
      "cell_type": "code",
      "source": [
        "#Convert to Pandas DF for easy functions\n",
        "import pandas as pd\n",
        "total_links = pd.concat([uk_links, ld_links])\n",
        "total_links.info()"
      ],
      "metadata": {
        "colab": {
          "base_uri": "https://localhost:8080/"
        },
        "id": "3HJy2aOEvZ41",
        "outputId": "cb40b6c3-260e-48d4-bcf9-e5e02f65af3b"
      },
      "execution_count": null,
      "outputs": [
        {
          "output_type": "stream",
          "name": "stdout",
          "text": [
            "<class 'pandas.core.frame.DataFrame'>\n",
            "Index: 2 entries, col to col\n",
            "Data columns (total 8 columns):\n",
            " #   Column  Non-Null Count  Dtype \n",
            "---  ------  --------------  ----- \n",
            " 0   0       2 non-null      object\n",
            " 1   1       2 non-null      object\n",
            " 2   2       2 non-null      object\n",
            " 3   3       2 non-null      object\n",
            " 4   4       2 non-null      object\n",
            " 5   5       2 non-null      object\n",
            " 6   6       2 non-null      object\n",
            " 7   7       2 non-null      object\n",
            "dtypes: object(8)\n",
            "memory usage: 144.0+ bytes\n"
          ]
        }
      ]
    },
    {
      "cell_type": "code",
      "source": [
        "total_links.head()"
      ],
      "metadata": {
        "colab": {
          "base_uri": "https://localhost:8080/",
          "height": 211
        },
        "id": "GiY-YrBYxnTp",
        "outputId": "56ee2c60-582f-4985-ad31-d36ab8752347"
      },
      "execution_count": null,
      "outputs": [
        {
          "output_type": "execute_result",
          "data": {
            "text/plain": [
              "                                                     0  \\\n",
              "col  https://www.imdb.com/search/name/?birth_place=...   \n",
              "col  https://www.imdb.com/search/name/?birth_place=...   \n",
              "\n",
              "                                                     1  \\\n",
              "col  https://www.theguardian.com/world/2023/jan/08/...   \n",
              "col  https://www.mrdustbin.com/us/famous-british-ac...   \n",
              "\n",
              "                                                     2  \\\n",
              "col  https://www.euronews.com/video/2022/06/28/us-a...   \n",
              "col  https://www.glamourmagazine.co.uk/gallery/youn...   \n",
              "\n",
              "                                                     3  \\\n",
              "col  https://nypost.com/2022/03/06/ukrainian-actor-...   \n",
              "col  https://www.entoin.com/entertainment/british-a...   \n",
              "\n",
              "                                                     4  \\\n",
              "col  https://www.newsweek.com/meet-zelensky-actor-b...   \n",
              "col  https://londranews.com/english/london-born-act...   \n",
              "\n",
              "                                                     5  \\\n",
              "col  https://www.tribuneindia.com/news/nation/three...   \n",
              "col        https://www.youtube.com/watch?v=9rduOCd8FWU   \n",
              "\n",
              "                                                     6  \\\n",
              "col  https://www.tripadvisor.com/Attractions-g29447...   \n",
              "col        https://www.youtube.com/watch?v=igyp8sxZI_E   \n",
              "\n",
              "                                                     7  \n",
              "col  https://www.latimes.com/entertainment-arts/bus...  \n",
              "col  https://www.thegentlemansjournal.com/article/t...  "
            ],
            "text/html": [
              "\n",
              "  <div id=\"df-1f2723c7-00d5-4284-bd70-80ae659d927a\">\n",
              "    <div class=\"colab-df-container\">\n",
              "      <div>\n",
              "<style scoped>\n",
              "    .dataframe tbody tr th:only-of-type {\n",
              "        vertical-align: middle;\n",
              "    }\n",
              "\n",
              "    .dataframe tbody tr th {\n",
              "        vertical-align: top;\n",
              "    }\n",
              "\n",
              "    .dataframe thead th {\n",
              "        text-align: right;\n",
              "    }\n",
              "</style>\n",
              "<table border=\"1\" class=\"dataframe\">\n",
              "  <thead>\n",
              "    <tr style=\"text-align: right;\">\n",
              "      <th></th>\n",
              "      <th>0</th>\n",
              "      <th>1</th>\n",
              "      <th>2</th>\n",
              "      <th>3</th>\n",
              "      <th>4</th>\n",
              "      <th>5</th>\n",
              "      <th>6</th>\n",
              "      <th>7</th>\n",
              "    </tr>\n",
              "  </thead>\n",
              "  <tbody>\n",
              "    <tr>\n",
              "      <th>col</th>\n",
              "      <td>https://www.imdb.com/search/name/?birth_place=...</td>\n",
              "      <td>https://www.theguardian.com/world/2023/jan/08/...</td>\n",
              "      <td>https://www.euronews.com/video/2022/06/28/us-a...</td>\n",
              "      <td>https://nypost.com/2022/03/06/ukrainian-actor-...</td>\n",
              "      <td>https://www.newsweek.com/meet-zelensky-actor-b...</td>\n",
              "      <td>https://www.tribuneindia.com/news/nation/three...</td>\n",
              "      <td>https://www.tripadvisor.com/Attractions-g29447...</td>\n",
              "      <td>https://www.latimes.com/entertainment-arts/bus...</td>\n",
              "    </tr>\n",
              "    <tr>\n",
              "      <th>col</th>\n",
              "      <td>https://www.imdb.com/search/name/?birth_place=...</td>\n",
              "      <td>https://www.mrdustbin.com/us/famous-british-ac...</td>\n",
              "      <td>https://www.glamourmagazine.co.uk/gallery/youn...</td>\n",
              "      <td>https://www.entoin.com/entertainment/british-a...</td>\n",
              "      <td>https://londranews.com/english/london-born-act...</td>\n",
              "      <td>https://www.youtube.com/watch?v=9rduOCd8FWU</td>\n",
              "      <td>https://www.youtube.com/watch?v=igyp8sxZI_E</td>\n",
              "      <td>https://www.thegentlemansjournal.com/article/t...</td>\n",
              "    </tr>\n",
              "  </tbody>\n",
              "</table>\n",
              "</div>\n",
              "      <button class=\"colab-df-convert\" onclick=\"convertToInteractive('df-1f2723c7-00d5-4284-bd70-80ae659d927a')\"\n",
              "              title=\"Convert this dataframe to an interactive table.\"\n",
              "              style=\"display:none;\">\n",
              "        \n",
              "  <svg xmlns=\"http://www.w3.org/2000/svg\" height=\"24px\"viewBox=\"0 0 24 24\"\n",
              "       width=\"24px\">\n",
              "    <path d=\"M0 0h24v24H0V0z\" fill=\"none\"/>\n",
              "    <path d=\"M18.56 5.44l.94 2.06.94-2.06 2.06-.94-2.06-.94-.94-2.06-.94 2.06-2.06.94zm-11 1L8.5 8.5l.94-2.06 2.06-.94-2.06-.94L8.5 2.5l-.94 2.06-2.06.94zm10 10l.94 2.06.94-2.06 2.06-.94-2.06-.94-.94-2.06-.94 2.06-2.06.94z\"/><path d=\"M17.41 7.96l-1.37-1.37c-.4-.4-.92-.59-1.43-.59-.52 0-1.04.2-1.43.59L10.3 9.45l-7.72 7.72c-.78.78-.78 2.05 0 2.83L4 21.41c.39.39.9.59 1.41.59.51 0 1.02-.2 1.41-.59l7.78-7.78 2.81-2.81c.8-.78.8-2.07 0-2.86zM5.41 20L4 18.59l7.72-7.72 1.47 1.35L5.41 20z\"/>\n",
              "  </svg>\n",
              "      </button>\n",
              "      \n",
              "  <style>\n",
              "    .colab-df-container {\n",
              "      display:flex;\n",
              "      flex-wrap:wrap;\n",
              "      gap: 12px;\n",
              "    }\n",
              "\n",
              "    .colab-df-convert {\n",
              "      background-color: #E8F0FE;\n",
              "      border: none;\n",
              "      border-radius: 50%;\n",
              "      cursor: pointer;\n",
              "      display: none;\n",
              "      fill: #1967D2;\n",
              "      height: 32px;\n",
              "      padding: 0 0 0 0;\n",
              "      width: 32px;\n",
              "    }\n",
              "\n",
              "    .colab-df-convert:hover {\n",
              "      background-color: #E2EBFA;\n",
              "      box-shadow: 0px 1px 2px rgba(60, 64, 67, 0.3), 0px 1px 3px 1px rgba(60, 64, 67, 0.15);\n",
              "      fill: #174EA6;\n",
              "    }\n",
              "\n",
              "    [theme=dark] .colab-df-convert {\n",
              "      background-color: #3B4455;\n",
              "      fill: #D2E3FC;\n",
              "    }\n",
              "\n",
              "    [theme=dark] .colab-df-convert:hover {\n",
              "      background-color: #434B5C;\n",
              "      box-shadow: 0px 1px 3px 1px rgba(0, 0, 0, 0.15);\n",
              "      filter: drop-shadow(0px 1px 2px rgba(0, 0, 0, 0.3));\n",
              "      fill: #FFFFFF;\n",
              "    }\n",
              "  </style>\n",
              "\n",
              "      <script>\n",
              "        const buttonEl =\n",
              "          document.querySelector('#df-1f2723c7-00d5-4284-bd70-80ae659d927a button.colab-df-convert');\n",
              "        buttonEl.style.display =\n",
              "          google.colab.kernel.accessAllowed ? 'block' : 'none';\n",
              "\n",
              "        async function convertToInteractive(key) {\n",
              "          const element = document.querySelector('#df-1f2723c7-00d5-4284-bd70-80ae659d927a');\n",
              "          const dataTable =\n",
              "            await google.colab.kernel.invokeFunction('convertToInteractive',\n",
              "                                                     [key], {});\n",
              "          if (!dataTable) return;\n",
              "\n",
              "          const docLinkHtml = 'Like what you see? Visit the ' +\n",
              "            '<a target=\"_blank\" href=https://colab.research.google.com/notebooks/data_table.ipynb>data table notebook</a>'\n",
              "            + ' to learn more about interactive tables.';\n",
              "          element.innerHTML = '';\n",
              "          dataTable['output_type'] = 'display_data';\n",
              "          await google.colab.output.renderOutput(dataTable, element);\n",
              "          const docLink = document.createElement('div');\n",
              "          docLink.innerHTML = docLinkHtml;\n",
              "          element.appendChild(docLink);\n",
              "        }\n",
              "      </script>\n",
              "    </div>\n",
              "  </div>\n",
              "  "
            ]
          },
          "metadata": {},
          "execution_count": 238
        }
      ]
    },
    {
      "cell_type": "code",
      "source": [
        "#convert search_parameters to pandas DF\n",
        "search_parameters = search_parameters.toPandas()"
      ],
      "metadata": {
        "id": "hqpPBBnExrI7"
      },
      "execution_count": null,
      "outputs": []
    },
    {
      "cell_type": "code",
      "source": [
        "search_parameters.head()\n",
        "\n",
        "# reset index to concatenate\n",
        "total_links = total_links.reset_index(drop= True)\n",
        "search_parameters = search_parameters.reset_index(drop = True)"
      ],
      "metadata": {
        "id": "inDWOY4oyR81"
      },
      "execution_count": null,
      "outputs": []
    },
    {
      "cell_type": "code",
      "source": [
        "#concat links and search parameter\n",
        "total_links = pd.concat([search_parameters, total_links], axis = 1)\n",
        "total_links = total_links.rename(columns = {\"q\":\"Search Query\"})\n",
        "total_links.head()"
      ],
      "metadata": {
        "colab": {
          "base_uri": "https://localhost:8080/",
          "height": 228
        },
        "id": "dVBxZ8c-yG6w",
        "outputId": "cdb0f331-7599-49dc-b54c-4bb80f1abaeb"
      },
      "execution_count": null,
      "outputs": [
        {
          "output_type": "execute_result",
          "data": {
            "text/plain": [
              "                                        Search Query  \\\n",
              "0               top actors in Kyiv,Kyiv city,Ukraine   \n",
              "1  top actors in Greater London,England,United Ki...   \n",
              "\n",
              "                                                   0  \\\n",
              "0  https://www.imdb.com/search/name/?birth_place=...   \n",
              "1  https://www.imdb.com/search/name/?birth_place=...   \n",
              "\n",
              "                                                   1  \\\n",
              "0  https://www.theguardian.com/world/2023/jan/08/...   \n",
              "1  https://www.mrdustbin.com/us/famous-british-ac...   \n",
              "\n",
              "                                                   2  \\\n",
              "0  https://www.euronews.com/video/2022/06/28/us-a...   \n",
              "1  https://www.glamourmagazine.co.uk/gallery/youn...   \n",
              "\n",
              "                                                   3  \\\n",
              "0  https://nypost.com/2022/03/06/ukrainian-actor-...   \n",
              "1  https://www.entoin.com/entertainment/british-a...   \n",
              "\n",
              "                                                   4  \\\n",
              "0  https://www.newsweek.com/meet-zelensky-actor-b...   \n",
              "1  https://londranews.com/english/london-born-act...   \n",
              "\n",
              "                                                   5  \\\n",
              "0  https://www.tribuneindia.com/news/nation/three...   \n",
              "1        https://www.youtube.com/watch?v=9rduOCd8FWU   \n",
              "\n",
              "                                                   6  \\\n",
              "0  https://www.tripadvisor.com/Attractions-g29447...   \n",
              "1        https://www.youtube.com/watch?v=igyp8sxZI_E   \n",
              "\n",
              "                                                   7  \n",
              "0  https://www.latimes.com/entertainment-arts/bus...  \n",
              "1  https://www.thegentlemansjournal.com/article/t...  "
            ],
            "text/html": [
              "\n",
              "  <div id=\"df-765ae96c-cbab-41cd-acad-61acc45afb7b\">\n",
              "    <div class=\"colab-df-container\">\n",
              "      <div>\n",
              "<style scoped>\n",
              "    .dataframe tbody tr th:only-of-type {\n",
              "        vertical-align: middle;\n",
              "    }\n",
              "\n",
              "    .dataframe tbody tr th {\n",
              "        vertical-align: top;\n",
              "    }\n",
              "\n",
              "    .dataframe thead th {\n",
              "        text-align: right;\n",
              "    }\n",
              "</style>\n",
              "<table border=\"1\" class=\"dataframe\">\n",
              "  <thead>\n",
              "    <tr style=\"text-align: right;\">\n",
              "      <th></th>\n",
              "      <th>Search Query</th>\n",
              "      <th>0</th>\n",
              "      <th>1</th>\n",
              "      <th>2</th>\n",
              "      <th>3</th>\n",
              "      <th>4</th>\n",
              "      <th>5</th>\n",
              "      <th>6</th>\n",
              "      <th>7</th>\n",
              "    </tr>\n",
              "  </thead>\n",
              "  <tbody>\n",
              "    <tr>\n",
              "      <th>0</th>\n",
              "      <td>top actors in Kyiv,Kyiv city,Ukraine</td>\n",
              "      <td>https://www.imdb.com/search/name/?birth_place=...</td>\n",
              "      <td>https://www.theguardian.com/world/2023/jan/08/...</td>\n",
              "      <td>https://www.euronews.com/video/2022/06/28/us-a...</td>\n",
              "      <td>https://nypost.com/2022/03/06/ukrainian-actor-...</td>\n",
              "      <td>https://www.newsweek.com/meet-zelensky-actor-b...</td>\n",
              "      <td>https://www.tribuneindia.com/news/nation/three...</td>\n",
              "      <td>https://www.tripadvisor.com/Attractions-g29447...</td>\n",
              "      <td>https://www.latimes.com/entertainment-arts/bus...</td>\n",
              "    </tr>\n",
              "    <tr>\n",
              "      <th>1</th>\n",
              "      <td>top actors in Greater London,England,United Ki...</td>\n",
              "      <td>https://www.imdb.com/search/name/?birth_place=...</td>\n",
              "      <td>https://www.mrdustbin.com/us/famous-british-ac...</td>\n",
              "      <td>https://www.glamourmagazine.co.uk/gallery/youn...</td>\n",
              "      <td>https://www.entoin.com/entertainment/british-a...</td>\n",
              "      <td>https://londranews.com/english/london-born-act...</td>\n",
              "      <td>https://www.youtube.com/watch?v=9rduOCd8FWU</td>\n",
              "      <td>https://www.youtube.com/watch?v=igyp8sxZI_E</td>\n",
              "      <td>https://www.thegentlemansjournal.com/article/t...</td>\n",
              "    </tr>\n",
              "  </tbody>\n",
              "</table>\n",
              "</div>\n",
              "      <button class=\"colab-df-convert\" onclick=\"convertToInteractive('df-765ae96c-cbab-41cd-acad-61acc45afb7b')\"\n",
              "              title=\"Convert this dataframe to an interactive table.\"\n",
              "              style=\"display:none;\">\n",
              "        \n",
              "  <svg xmlns=\"http://www.w3.org/2000/svg\" height=\"24px\"viewBox=\"0 0 24 24\"\n",
              "       width=\"24px\">\n",
              "    <path d=\"M0 0h24v24H0V0z\" fill=\"none\"/>\n",
              "    <path d=\"M18.56 5.44l.94 2.06.94-2.06 2.06-.94-2.06-.94-.94-2.06-.94 2.06-2.06.94zm-11 1L8.5 8.5l.94-2.06 2.06-.94-2.06-.94L8.5 2.5l-.94 2.06-2.06.94zm10 10l.94 2.06.94-2.06 2.06-.94-2.06-.94-.94-2.06-.94 2.06-2.06.94z\"/><path d=\"M17.41 7.96l-1.37-1.37c-.4-.4-.92-.59-1.43-.59-.52 0-1.04.2-1.43.59L10.3 9.45l-7.72 7.72c-.78.78-.78 2.05 0 2.83L4 21.41c.39.39.9.59 1.41.59.51 0 1.02-.2 1.41-.59l7.78-7.78 2.81-2.81c.8-.78.8-2.07 0-2.86zM5.41 20L4 18.59l7.72-7.72 1.47 1.35L5.41 20z\"/>\n",
              "  </svg>\n",
              "      </button>\n",
              "      \n",
              "  <style>\n",
              "    .colab-df-container {\n",
              "      display:flex;\n",
              "      flex-wrap:wrap;\n",
              "      gap: 12px;\n",
              "    }\n",
              "\n",
              "    .colab-df-convert {\n",
              "      background-color: #E8F0FE;\n",
              "      border: none;\n",
              "      border-radius: 50%;\n",
              "      cursor: pointer;\n",
              "      display: none;\n",
              "      fill: #1967D2;\n",
              "      height: 32px;\n",
              "      padding: 0 0 0 0;\n",
              "      width: 32px;\n",
              "    }\n",
              "\n",
              "    .colab-df-convert:hover {\n",
              "      background-color: #E2EBFA;\n",
              "      box-shadow: 0px 1px 2px rgba(60, 64, 67, 0.3), 0px 1px 3px 1px rgba(60, 64, 67, 0.15);\n",
              "      fill: #174EA6;\n",
              "    }\n",
              "\n",
              "    [theme=dark] .colab-df-convert {\n",
              "      background-color: #3B4455;\n",
              "      fill: #D2E3FC;\n",
              "    }\n",
              "\n",
              "    [theme=dark] .colab-df-convert:hover {\n",
              "      background-color: #434B5C;\n",
              "      box-shadow: 0px 1px 3px 1px rgba(0, 0, 0, 0.15);\n",
              "      filter: drop-shadow(0px 1px 2px rgba(0, 0, 0, 0.3));\n",
              "      fill: #FFFFFF;\n",
              "    }\n",
              "  </style>\n",
              "\n",
              "      <script>\n",
              "        const buttonEl =\n",
              "          document.querySelector('#df-765ae96c-cbab-41cd-acad-61acc45afb7b button.colab-df-convert');\n",
              "        buttonEl.style.display =\n",
              "          google.colab.kernel.accessAllowed ? 'block' : 'none';\n",
              "\n",
              "        async function convertToInteractive(key) {\n",
              "          const element = document.querySelector('#df-765ae96c-cbab-41cd-acad-61acc45afb7b');\n",
              "          const dataTable =\n",
              "            await google.colab.kernel.invokeFunction('convertToInteractive',\n",
              "                                                     [key], {});\n",
              "          if (!dataTable) return;\n",
              "\n",
              "          const docLinkHtml = 'Like what you see? Visit the ' +\n",
              "            '<a target=\"_blank\" href=https://colab.research.google.com/notebooks/data_table.ipynb>data table notebook</a>'\n",
              "            + ' to learn more about interactive tables.';\n",
              "          element.innerHTML = '';\n",
              "          dataTable['output_type'] = 'display_data';\n",
              "          await google.colab.output.renderOutput(dataTable, element);\n",
              "          const docLink = document.createElement('div');\n",
              "          docLink.innerHTML = docLinkHtml;\n",
              "          element.appendChild(docLink);\n",
              "        }\n",
              "      </script>\n",
              "    </div>\n",
              "  </div>\n",
              "  "
            ]
          },
          "metadata": {},
          "execution_count": 241
        }
      ]
    },
    {
      "cell_type": "markdown",
      "source": [
        "I didn't get the problem of inconsistent schema for tables london links and ukraine links because SERP API resulted only 8 links for both london and Ukraine JSON."
      ],
      "metadata": {
        "id": "Iy04iHgn10rI"
      }
    }
  ]
}