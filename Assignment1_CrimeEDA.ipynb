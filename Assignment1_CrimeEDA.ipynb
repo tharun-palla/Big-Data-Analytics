{
  "nbformat": 4,
  "nbformat_minor": 0,
  "metadata": {
    "colab": {
      "provenance": [],
      "toc_visible": true,
      "include_colab_link": true
    },
    "kernelspec": {
      "name": "python3",
      "display_name": "Python 3"
    },
    "language_info": {
      "name": "python"
    }
  },
  "cells": [
    {
      "cell_type": "markdown",
      "metadata": {
        "id": "view-in-github",
        "colab_type": "text"
      },
      "source": [
        "<a href=\"https://colab.research.google.com/github/tharunpalla8466/Big-Data-Analytics/blob/main/Assignment1_CrimeEDA.ipynb\" target=\"_parent\"><img src=\"https://colab.research.google.com/assets/colab-badge.svg\" alt=\"Open In Colab\"/></a>"
      ]
    },
    {
      "cell_type": "markdown",
      "source": [
        "# EDA on Crime Dataset (Spring 2023)\n",
        "--------------------------------\n",
        "**Dr. Dave Wanik - Department of Operations and Information Management - University of Connecticut**\n",
        "\n",
        "\n",
        "Note: This assignment is used for OPIM 5641, 5502 and 5512 - if you are taking more than one of my classes, just submit this assignment for each respective class - thanks! \n",
        "\n",
        "Each question is 10 pts."
      ],
      "metadata": {
        "id": "c5UkLLFNlFCo"
      }
    },
    {
      "cell_type": "markdown",
      "source": [
        "* **Your name here:** Tharun Palla\n",
        "* **Your student ID here:** tmp21011\n",
        "\n",
        "You can ask your fellow classmates for help, but everyone must do their own work with lots of comments and text cells. Anyone who directly copies or allows their work to be directly copied gets a 0 on the assignment and final letter grade lowered by one letter."
      ],
      "metadata": {
        "id": "pYvP_6Mwt6XE"
      }
    },
    {
      "cell_type": "markdown",
      "source": [
        "If you are new to Python, this assignment might be tricky - come to office hours for help! I've left some old output printed so that you can check your work."
      ],
      "metadata": {
        "id": "keXhoJdouvUd"
      }
    },
    {
      "cell_type": "code",
      "source": [
        "# import modules\n",
        "import numpy as np\n",
        "import pandas as pd\n",
        "import matplotlib.pyplot as plt\n"
      ],
      "metadata": {
        "id": "BrLllQ7dmYRj"
      },
      "execution_count": null,
      "outputs": []
    },
    {
      "cell_type": "markdown",
      "source": [
        "# Intro"
      ],
      "metadata": {
        "id": "NUYs-3NllW_Q"
      }
    },
    {
      "cell_type": "markdown",
      "source": [
        "Whenever I start a class off, I like to make sure that students have basic EDA chops in Python. This semester I picked a structured time series dataset from Wikipedia which tracks violent crime per State over a few years. This homework tests your skill at using data to tell a story about crime in the US. Good luck!"
      ],
      "metadata": {
        "id": "Uf6F1pVll0TK"
      }
    },
    {
      "cell_type": "markdown",
      "source": [
        "![crime map from Wiki](https://upload.wikimedia.org/wikipedia/commons/5/51/Violent_Crime_Rate_by_U.S._state.svg)"
      ],
      "metadata": {
        "id": "BxiqH1pylZSX"
      }
    },
    {
      "cell_type": "code",
      "execution_count": null,
      "metadata": {
        "colab": {
          "base_uri": "https://localhost:8080/",
          "height": 238
        },
        "id": "HbO1bRSuk7Rq",
        "outputId": "01317691-4644-4a36-d9a3-71cc6b705e5b"
      },
      "outputs": [
        {
          "output_type": "execute_result",
          "data": {
            "text/plain": [
              "     State or Territory            2020                     \\\n",
              "     State or Territory Incidence Count Violent Crime Rate   \n",
              "0                   NaN             NaN                NaN   \n",
              "1  District of Columbia          7127.0              999.8   \n",
              "2                Alaska          6126.0              837.8   \n",
              "3            New Mexico         16393.0              778.3   \n",
              "4             Tennessee         46328.0              672.7   \n",
              "\n",
              "  Historical Violent Crime Rates                                         \\\n",
              "                            2019   2018    2017    2016    2015    2014   \n",
              "0                            NaN    NaN     NaN     NaN     NaN     NaN   \n",
              "1                         1045.2  997.1  1002.7  1203.5  1269.1  1242.6   \n",
              "2                          865.0  891.7   856.7   804.6   730.2   635.5   \n",
              "3                          824.0  842.8   778.6   699.4   656.1   597.7   \n",
              "4                          598.9  630.4   655.0   638.5   612.1   610.7   \n",
              "\n",
              "                           \n",
              "     2013    2012    2011  \n",
              "0     NaN     NaN     NaN  \n",
              "1  1281.9  1241.8  1202.1  \n",
              "2   602.6   604.1   606.5  \n",
              "3   596.7   559.6   567.5  \n",
              "4   579.7   638.5   608.2  "
            ],
            "text/html": [
              "\n",
              "  <div id=\"df-5cf921ce-02f8-4116-815f-affe1cd96bd2\">\n",
              "    <div class=\"colab-df-container\">\n",
              "      <div>\n",
              "<style scoped>\n",
              "    .dataframe tbody tr th:only-of-type {\n",
              "        vertical-align: middle;\n",
              "    }\n",
              "\n",
              "    .dataframe tbody tr th {\n",
              "        vertical-align: top;\n",
              "    }\n",
              "\n",
              "    .dataframe thead tr th {\n",
              "        text-align: left;\n",
              "    }\n",
              "</style>\n",
              "<table border=\"1\" class=\"dataframe\">\n",
              "  <thead>\n",
              "    <tr>\n",
              "      <th></th>\n",
              "      <th>State or Territory</th>\n",
              "      <th colspan=\"2\" halign=\"left\">2020</th>\n",
              "      <th colspan=\"9\" halign=\"left\">Historical Violent Crime Rates</th>\n",
              "    </tr>\n",
              "    <tr>\n",
              "      <th></th>\n",
              "      <th>State or Territory</th>\n",
              "      <th>Incidence Count</th>\n",
              "      <th>Violent Crime Rate</th>\n",
              "      <th>2019</th>\n",
              "      <th>2018</th>\n",
              "      <th>2017</th>\n",
              "      <th>2016</th>\n",
              "      <th>2015</th>\n",
              "      <th>2014</th>\n",
              "      <th>2013</th>\n",
              "      <th>2012</th>\n",
              "      <th>2011</th>\n",
              "    </tr>\n",
              "  </thead>\n",
              "  <tbody>\n",
              "    <tr>\n",
              "      <th>0</th>\n",
              "      <td>NaN</td>\n",
              "      <td>NaN</td>\n",
              "      <td>NaN</td>\n",
              "      <td>NaN</td>\n",
              "      <td>NaN</td>\n",
              "      <td>NaN</td>\n",
              "      <td>NaN</td>\n",
              "      <td>NaN</td>\n",
              "      <td>NaN</td>\n",
              "      <td>NaN</td>\n",
              "      <td>NaN</td>\n",
              "      <td>NaN</td>\n",
              "    </tr>\n",
              "    <tr>\n",
              "      <th>1</th>\n",
              "      <td>District of Columbia</td>\n",
              "      <td>7127.0</td>\n",
              "      <td>999.8</td>\n",
              "      <td>1045.2</td>\n",
              "      <td>997.1</td>\n",
              "      <td>1002.7</td>\n",
              "      <td>1203.5</td>\n",
              "      <td>1269.1</td>\n",
              "      <td>1242.6</td>\n",
              "      <td>1281.9</td>\n",
              "      <td>1241.8</td>\n",
              "      <td>1202.1</td>\n",
              "    </tr>\n",
              "    <tr>\n",
              "      <th>2</th>\n",
              "      <td>Alaska</td>\n",
              "      <td>6126.0</td>\n",
              "      <td>837.8</td>\n",
              "      <td>865.0</td>\n",
              "      <td>891.7</td>\n",
              "      <td>856.7</td>\n",
              "      <td>804.6</td>\n",
              "      <td>730.2</td>\n",
              "      <td>635.5</td>\n",
              "      <td>602.6</td>\n",
              "      <td>604.1</td>\n",
              "      <td>606.5</td>\n",
              "    </tr>\n",
              "    <tr>\n",
              "      <th>3</th>\n",
              "      <td>New Mexico</td>\n",
              "      <td>16393.0</td>\n",
              "      <td>778.3</td>\n",
              "      <td>824.0</td>\n",
              "      <td>842.8</td>\n",
              "      <td>778.6</td>\n",
              "      <td>699.4</td>\n",
              "      <td>656.1</td>\n",
              "      <td>597.7</td>\n",
              "      <td>596.7</td>\n",
              "      <td>559.6</td>\n",
              "      <td>567.5</td>\n",
              "    </tr>\n",
              "    <tr>\n",
              "      <th>4</th>\n",
              "      <td>Tennessee</td>\n",
              "      <td>46328.0</td>\n",
              "      <td>672.7</td>\n",
              "      <td>598.9</td>\n",
              "      <td>630.4</td>\n",
              "      <td>655.0</td>\n",
              "      <td>638.5</td>\n",
              "      <td>612.1</td>\n",
              "      <td>610.7</td>\n",
              "      <td>579.7</td>\n",
              "      <td>638.5</td>\n",
              "      <td>608.2</td>\n",
              "    </tr>\n",
              "  </tbody>\n",
              "</table>\n",
              "</div>\n",
              "      <button class=\"colab-df-convert\" onclick=\"convertToInteractive('df-5cf921ce-02f8-4116-815f-affe1cd96bd2')\"\n",
              "              title=\"Convert this dataframe to an interactive table.\"\n",
              "              style=\"display:none;\">\n",
              "        \n",
              "  <svg xmlns=\"http://www.w3.org/2000/svg\" height=\"24px\"viewBox=\"0 0 24 24\"\n",
              "       width=\"24px\">\n",
              "    <path d=\"M0 0h24v24H0V0z\" fill=\"none\"/>\n",
              "    <path d=\"M18.56 5.44l.94 2.06.94-2.06 2.06-.94-2.06-.94-.94-2.06-.94 2.06-2.06.94zm-11 1L8.5 8.5l.94-2.06 2.06-.94-2.06-.94L8.5 2.5l-.94 2.06-2.06.94zm10 10l.94 2.06.94-2.06 2.06-.94-2.06-.94-.94-2.06-.94 2.06-2.06.94z\"/><path d=\"M17.41 7.96l-1.37-1.37c-.4-.4-.92-.59-1.43-.59-.52 0-1.04.2-1.43.59L10.3 9.45l-7.72 7.72c-.78.78-.78 2.05 0 2.83L4 21.41c.39.39.9.59 1.41.59.51 0 1.02-.2 1.41-.59l7.78-7.78 2.81-2.81c.8-.78.8-2.07 0-2.86zM5.41 20L4 18.59l7.72-7.72 1.47 1.35L5.41 20z\"/>\n",
              "  </svg>\n",
              "      </button>\n",
              "      \n",
              "  <style>\n",
              "    .colab-df-container {\n",
              "      display:flex;\n",
              "      flex-wrap:wrap;\n",
              "      gap: 12px;\n",
              "    }\n",
              "\n",
              "    .colab-df-convert {\n",
              "      background-color: #E8F0FE;\n",
              "      border: none;\n",
              "      border-radius: 50%;\n",
              "      cursor: pointer;\n",
              "      display: none;\n",
              "      fill: #1967D2;\n",
              "      height: 32px;\n",
              "      padding: 0 0 0 0;\n",
              "      width: 32px;\n",
              "    }\n",
              "\n",
              "    .colab-df-convert:hover {\n",
              "      background-color: #E2EBFA;\n",
              "      box-shadow: 0px 1px 2px rgba(60, 64, 67, 0.3), 0px 1px 3px 1px rgba(60, 64, 67, 0.15);\n",
              "      fill: #174EA6;\n",
              "    }\n",
              "\n",
              "    [theme=dark] .colab-df-convert {\n",
              "      background-color: #3B4455;\n",
              "      fill: #D2E3FC;\n",
              "    }\n",
              "\n",
              "    [theme=dark] .colab-df-convert:hover {\n",
              "      background-color: #434B5C;\n",
              "      box-shadow: 0px 1px 3px 1px rgba(0, 0, 0, 0.15);\n",
              "      filter: drop-shadow(0px 1px 2px rgba(0, 0, 0, 0.3));\n",
              "      fill: #FFFFFF;\n",
              "    }\n",
              "  </style>\n",
              "\n",
              "      <script>\n",
              "        const buttonEl =\n",
              "          document.querySelector('#df-5cf921ce-02f8-4116-815f-affe1cd96bd2 button.colab-df-convert');\n",
              "        buttonEl.style.display =\n",
              "          google.colab.kernel.accessAllowed ? 'block' : 'none';\n",
              "\n",
              "        async function convertToInteractive(key) {\n",
              "          const element = document.querySelector('#df-5cf921ce-02f8-4116-815f-affe1cd96bd2');\n",
              "          const dataTable =\n",
              "            await google.colab.kernel.invokeFunction('convertToInteractive',\n",
              "                                                     [key], {});\n",
              "          if (!dataTable) return;\n",
              "\n",
              "          const docLinkHtml = 'Like what you see? Visit the ' +\n",
              "            '<a target=\"_blank\" href=https://colab.research.google.com/notebooks/data_table.ipynb>data table notebook</a>'\n",
              "            + ' to learn more about interactive tables.';\n",
              "          element.innerHTML = '';\n",
              "          dataTable['output_type'] = 'display_data';\n",
              "          await google.colab.output.renderOutput(dataTable, element);\n",
              "          const docLink = document.createElement('div');\n",
              "          docLink.innerHTML = docLinkHtml;\n",
              "          element.appendChild(docLink);\n",
              "        }\n",
              "      </script>\n",
              "    </div>\n",
              "  </div>\n",
              "  "
            ]
          },
          "metadata": {},
          "execution_count": 10
        }
      ],
      "source": [
        "# read the data\n",
        "df = pd.read_html('https://en.wikipedia.org/wiki/List_of_U.S._states_and_territories_by_violent_crime_rate')[0]\n",
        "df.head()"
      ]
    },
    {
      "cell_type": "markdown",
      "source": [
        "This dataset is a bit dirty - let's clean it up!"
      ],
      "metadata": {
        "id": "DhDw5AOyn6TY"
      }
    },
    {
      "cell_type": "markdown",
      "source": [
        "# Q1. Collapse the multi-index\n",
        "The index is really a double index with two layers - which in my experience is quite annoying in most cases. "
      ],
      "metadata": {
        "id": "6K8uV9wKn8ca"
      }
    },
    {
      "cell_type": "code",
      "source": [
        "# look at this complicated multiIndex - yuck!\n",
        "df.columns"
      ],
      "metadata": {
        "colab": {
          "base_uri": "https://localhost:8080/"
        },
        "id": "YfbV6WL8viZR",
        "outputId": "c05416da-f1ab-4fba-a184-7255b8de4744"
      },
      "execution_count": null,
      "outputs": [
        {
          "output_type": "execute_result",
          "data": {
            "text/plain": [
              "MultiIndex([(            'State or Territory', 'State or Territory'),\n",
              "            (                          '2020',    'Incidence Count'),\n",
              "            (                          '2020', 'Violent Crime Rate'),\n",
              "            ('Historical Violent Crime Rates',               '2019'),\n",
              "            ('Historical Violent Crime Rates',               '2018'),\n",
              "            ('Historical Violent Crime Rates',               '2017'),\n",
              "            ('Historical Violent Crime Rates',               '2016'),\n",
              "            ('Historical Violent Crime Rates',               '2015'),\n",
              "            ('Historical Violent Crime Rates',               '2014'),\n",
              "            ('Historical Violent Crime Rates',               '2013'),\n",
              "            ('Historical Violent Crime Rates',               '2012'),\n",
              "            ('Historical Violent Crime Rates',               '2011')],\n",
              "           )"
            ]
          },
          "metadata": {},
          "execution_count": 11
        }
      ]
    },
    {
      "cell_type": "markdown",
      "source": [
        "Read these articles then make a single set of sensible column names.\n",
        "* https://stackoverflow.com/questions/14507794/how-to-flatten-a-hierarchical-index-in-columns\n",
        "* https://stackoverflow.com/questions/19758364/rename-specific-columns-in-pandas\n",
        "\n",
        "Like ['State', '2020_incidence_count', '2020_crime_rate', '2019_crime_rate', etc.]"
      ],
      "metadata": {
        "id": "Vtwf0KSevvxd"
      }
    },
    {
      "cell_type": "code",
      "source": [
        "df.columns = [\"_\".join(a) for a in df.columns.to_flat_index()]\n",
        "df.rename(columns = {'State or Territory_State or Territory' : 'State or Territory'}, inplace = True)\n",
        "df.head()"
      ],
      "metadata": {
        "colab": {
          "base_uri": "https://localhost:8080/",
          "height": 285
        },
        "id": "wHwzmGBfxu0Y",
        "outputId": "f25b2ca3-17af-46a0-ea25-51518b95ac8e"
      },
      "execution_count": null,
      "outputs": [
        {
          "output_type": "execute_result",
          "data": {
            "text/plain": [
              "     State or Territory  2020_Incidence Count  2020_Violent Crime Rate  \\\n",
              "0                   NaN                   NaN                      NaN   \n",
              "1  District of Columbia                7127.0                    999.8   \n",
              "2                Alaska                6126.0                    837.8   \n",
              "3            New Mexico               16393.0                    778.3   \n",
              "4             Tennessee               46328.0                    672.7   \n",
              "\n",
              "   Historical Violent Crime Rates_2019  Historical Violent Crime Rates_2018  \\\n",
              "0                                  NaN                                  NaN   \n",
              "1                               1045.2                                997.1   \n",
              "2                                865.0                                891.7   \n",
              "3                                824.0                                842.8   \n",
              "4                                598.9                                630.4   \n",
              "\n",
              "   Historical Violent Crime Rates_2017  Historical Violent Crime Rates_2016  \\\n",
              "0                                  NaN                                  NaN   \n",
              "1                               1002.7                               1203.5   \n",
              "2                                856.7                                804.6   \n",
              "3                                778.6                                699.4   \n",
              "4                                655.0                                638.5   \n",
              "\n",
              "   Historical Violent Crime Rates_2015  Historical Violent Crime Rates_2014  \\\n",
              "0                                  NaN                                  NaN   \n",
              "1                               1269.1                               1242.6   \n",
              "2                                730.2                                635.5   \n",
              "3                                656.1                                597.7   \n",
              "4                                612.1                                610.7   \n",
              "\n",
              "   Historical Violent Crime Rates_2013  Historical Violent Crime Rates_2012  \\\n",
              "0                                  NaN                                  NaN   \n",
              "1                               1281.9                               1241.8   \n",
              "2                                602.6                                604.1   \n",
              "3                                596.7                                559.6   \n",
              "4                                579.7                                638.5   \n",
              "\n",
              "   Historical Violent Crime Rates_2011  \n",
              "0                                  NaN  \n",
              "1                               1202.1  \n",
              "2                                606.5  \n",
              "3                                567.5  \n",
              "4                                608.2  "
            ],
            "text/html": [
              "\n",
              "  <div id=\"df-0fa25746-a3f0-4cd4-9811-c8696e45dbcf\">\n",
              "    <div class=\"colab-df-container\">\n",
              "      <div>\n",
              "<style scoped>\n",
              "    .dataframe tbody tr th:only-of-type {\n",
              "        vertical-align: middle;\n",
              "    }\n",
              "\n",
              "    .dataframe tbody tr th {\n",
              "        vertical-align: top;\n",
              "    }\n",
              "\n",
              "    .dataframe thead th {\n",
              "        text-align: right;\n",
              "    }\n",
              "</style>\n",
              "<table border=\"1\" class=\"dataframe\">\n",
              "  <thead>\n",
              "    <tr style=\"text-align: right;\">\n",
              "      <th></th>\n",
              "      <th>State or Territory</th>\n",
              "      <th>2020_Incidence Count</th>\n",
              "      <th>2020_Violent Crime Rate</th>\n",
              "      <th>Historical Violent Crime Rates_2019</th>\n",
              "      <th>Historical Violent Crime Rates_2018</th>\n",
              "      <th>Historical Violent Crime Rates_2017</th>\n",
              "      <th>Historical Violent Crime Rates_2016</th>\n",
              "      <th>Historical Violent Crime Rates_2015</th>\n",
              "      <th>Historical Violent Crime Rates_2014</th>\n",
              "      <th>Historical Violent Crime Rates_2013</th>\n",
              "      <th>Historical Violent Crime Rates_2012</th>\n",
              "      <th>Historical Violent Crime Rates_2011</th>\n",
              "    </tr>\n",
              "  </thead>\n",
              "  <tbody>\n",
              "    <tr>\n",
              "      <th>0</th>\n",
              "      <td>NaN</td>\n",
              "      <td>NaN</td>\n",
              "      <td>NaN</td>\n",
              "      <td>NaN</td>\n",
              "      <td>NaN</td>\n",
              "      <td>NaN</td>\n",
              "      <td>NaN</td>\n",
              "      <td>NaN</td>\n",
              "      <td>NaN</td>\n",
              "      <td>NaN</td>\n",
              "      <td>NaN</td>\n",
              "      <td>NaN</td>\n",
              "    </tr>\n",
              "    <tr>\n",
              "      <th>1</th>\n",
              "      <td>District of Columbia</td>\n",
              "      <td>7127.0</td>\n",
              "      <td>999.8</td>\n",
              "      <td>1045.2</td>\n",
              "      <td>997.1</td>\n",
              "      <td>1002.7</td>\n",
              "      <td>1203.5</td>\n",
              "      <td>1269.1</td>\n",
              "      <td>1242.6</td>\n",
              "      <td>1281.9</td>\n",
              "      <td>1241.8</td>\n",
              "      <td>1202.1</td>\n",
              "    </tr>\n",
              "    <tr>\n",
              "      <th>2</th>\n",
              "      <td>Alaska</td>\n",
              "      <td>6126.0</td>\n",
              "      <td>837.8</td>\n",
              "      <td>865.0</td>\n",
              "      <td>891.7</td>\n",
              "      <td>856.7</td>\n",
              "      <td>804.6</td>\n",
              "      <td>730.2</td>\n",
              "      <td>635.5</td>\n",
              "      <td>602.6</td>\n",
              "      <td>604.1</td>\n",
              "      <td>606.5</td>\n",
              "    </tr>\n",
              "    <tr>\n",
              "      <th>3</th>\n",
              "      <td>New Mexico</td>\n",
              "      <td>16393.0</td>\n",
              "      <td>778.3</td>\n",
              "      <td>824.0</td>\n",
              "      <td>842.8</td>\n",
              "      <td>778.6</td>\n",
              "      <td>699.4</td>\n",
              "      <td>656.1</td>\n",
              "      <td>597.7</td>\n",
              "      <td>596.7</td>\n",
              "      <td>559.6</td>\n",
              "      <td>567.5</td>\n",
              "    </tr>\n",
              "    <tr>\n",
              "      <th>4</th>\n",
              "      <td>Tennessee</td>\n",
              "      <td>46328.0</td>\n",
              "      <td>672.7</td>\n",
              "      <td>598.9</td>\n",
              "      <td>630.4</td>\n",
              "      <td>655.0</td>\n",
              "      <td>638.5</td>\n",
              "      <td>612.1</td>\n",
              "      <td>610.7</td>\n",
              "      <td>579.7</td>\n",
              "      <td>638.5</td>\n",
              "      <td>608.2</td>\n",
              "    </tr>\n",
              "  </tbody>\n",
              "</table>\n",
              "</div>\n",
              "      <button class=\"colab-df-convert\" onclick=\"convertToInteractive('df-0fa25746-a3f0-4cd4-9811-c8696e45dbcf')\"\n",
              "              title=\"Convert this dataframe to an interactive table.\"\n",
              "              style=\"display:none;\">\n",
              "        \n",
              "  <svg xmlns=\"http://www.w3.org/2000/svg\" height=\"24px\"viewBox=\"0 0 24 24\"\n",
              "       width=\"24px\">\n",
              "    <path d=\"M0 0h24v24H0V0z\" fill=\"none\"/>\n",
              "    <path d=\"M18.56 5.44l.94 2.06.94-2.06 2.06-.94-2.06-.94-.94-2.06-.94 2.06-2.06.94zm-11 1L8.5 8.5l.94-2.06 2.06-.94-2.06-.94L8.5 2.5l-.94 2.06-2.06.94zm10 10l.94 2.06.94-2.06 2.06-.94-2.06-.94-.94-2.06-.94 2.06-2.06.94z\"/><path d=\"M17.41 7.96l-1.37-1.37c-.4-.4-.92-.59-1.43-.59-.52 0-1.04.2-1.43.59L10.3 9.45l-7.72 7.72c-.78.78-.78 2.05 0 2.83L4 21.41c.39.39.9.59 1.41.59.51 0 1.02-.2 1.41-.59l7.78-7.78 2.81-2.81c.8-.78.8-2.07 0-2.86zM5.41 20L4 18.59l7.72-7.72 1.47 1.35L5.41 20z\"/>\n",
              "  </svg>\n",
              "      </button>\n",
              "      \n",
              "  <style>\n",
              "    .colab-df-container {\n",
              "      display:flex;\n",
              "      flex-wrap:wrap;\n",
              "      gap: 12px;\n",
              "    }\n",
              "\n",
              "    .colab-df-convert {\n",
              "      background-color: #E8F0FE;\n",
              "      border: none;\n",
              "      border-radius: 50%;\n",
              "      cursor: pointer;\n",
              "      display: none;\n",
              "      fill: #1967D2;\n",
              "      height: 32px;\n",
              "      padding: 0 0 0 0;\n",
              "      width: 32px;\n",
              "    }\n",
              "\n",
              "    .colab-df-convert:hover {\n",
              "      background-color: #E2EBFA;\n",
              "      box-shadow: 0px 1px 2px rgba(60, 64, 67, 0.3), 0px 1px 3px 1px rgba(60, 64, 67, 0.15);\n",
              "      fill: #174EA6;\n",
              "    }\n",
              "\n",
              "    [theme=dark] .colab-df-convert {\n",
              "      background-color: #3B4455;\n",
              "      fill: #D2E3FC;\n",
              "    }\n",
              "\n",
              "    [theme=dark] .colab-df-convert:hover {\n",
              "      background-color: #434B5C;\n",
              "      box-shadow: 0px 1px 3px 1px rgba(0, 0, 0, 0.15);\n",
              "      filter: drop-shadow(0px 1px 2px rgba(0, 0, 0, 0.3));\n",
              "      fill: #FFFFFF;\n",
              "    }\n",
              "  </style>\n",
              "\n",
              "      <script>\n",
              "        const buttonEl =\n",
              "          document.querySelector('#df-0fa25746-a3f0-4cd4-9811-c8696e45dbcf button.colab-df-convert');\n",
              "        buttonEl.style.display =\n",
              "          google.colab.kernel.accessAllowed ? 'block' : 'none';\n",
              "\n",
              "        async function convertToInteractive(key) {\n",
              "          const element = document.querySelector('#df-0fa25746-a3f0-4cd4-9811-c8696e45dbcf');\n",
              "          const dataTable =\n",
              "            await google.colab.kernel.invokeFunction('convertToInteractive',\n",
              "                                                     [key], {});\n",
              "          if (!dataTable) return;\n",
              "\n",
              "          const docLinkHtml = 'Like what you see? Visit the ' +\n",
              "            '<a target=\"_blank\" href=https://colab.research.google.com/notebooks/data_table.ipynb>data table notebook</a>'\n",
              "            + ' to learn more about interactive tables.';\n",
              "          element.innerHTML = '';\n",
              "          dataTable['output_type'] = 'display_data';\n",
              "          await google.colab.output.renderOutput(dataTable, element);\n",
              "          const docLink = document.createElement('div');\n",
              "          docLink.innerHTML = docLinkHtml;\n",
              "          element.appendChild(docLink);\n",
              "        }\n",
              "      </script>\n",
              "    </div>\n",
              "  </div>\n",
              "  "
            ]
          },
          "metadata": {},
          "execution_count": 12
        }
      ]
    },
    {
      "cell_type": "code",
      "source": [
        "# nice names for each column (you can manually rename each column)\n",
        "# or use something like _add_suffix"
      ],
      "metadata": {
        "id": "GrbPzNbayXDP"
      },
      "execution_count": null,
      "outputs": []
    },
    {
      "cell_type": "markdown",
      "source": [
        "# Q2. What is the shape of the dataframe?\n",
        "State the number of rows and number of columns."
      ],
      "metadata": {
        "id": "5pyFylc4wBPx"
      }
    },
    {
      "cell_type": "code",
      "source": [
        "df.shape\n",
        "df.head()"
      ],
      "metadata": {
        "id": "98GKEDubwJrS",
        "colab": {
          "base_uri": "https://localhost:8080/",
          "height": 285
        },
        "outputId": "c5b69920-3eb5-48e8-94a7-4a0651d68eb9"
      },
      "execution_count": null,
      "outputs": [
        {
          "output_type": "execute_result",
          "data": {
            "text/plain": [
              "     State or Territory  2020_Incidence Count  2020_Violent Crime Rate  \\\n",
              "0                   NaN                   NaN                      NaN   \n",
              "1  District of Columbia                7127.0                    999.8   \n",
              "2                Alaska                6126.0                    837.8   \n",
              "3            New Mexico               16393.0                    778.3   \n",
              "4             Tennessee               46328.0                    672.7   \n",
              "\n",
              "   Historical Violent Crime Rates_2019  Historical Violent Crime Rates_2018  \\\n",
              "0                                  NaN                                  NaN   \n",
              "1                               1045.2                                997.1   \n",
              "2                                865.0                                891.7   \n",
              "3                                824.0                                842.8   \n",
              "4                                598.9                                630.4   \n",
              "\n",
              "   Historical Violent Crime Rates_2017  Historical Violent Crime Rates_2016  \\\n",
              "0                                  NaN                                  NaN   \n",
              "1                               1002.7                               1203.5   \n",
              "2                                856.7                                804.6   \n",
              "3                                778.6                                699.4   \n",
              "4                                655.0                                638.5   \n",
              "\n",
              "   Historical Violent Crime Rates_2015  Historical Violent Crime Rates_2014  \\\n",
              "0                                  NaN                                  NaN   \n",
              "1                               1269.1                               1242.6   \n",
              "2                                730.2                                635.5   \n",
              "3                                656.1                                597.7   \n",
              "4                                612.1                                610.7   \n",
              "\n",
              "   Historical Violent Crime Rates_2013  Historical Violent Crime Rates_2012  \\\n",
              "0                                  NaN                                  NaN   \n",
              "1                               1281.9                               1241.8   \n",
              "2                                602.6                                604.1   \n",
              "3                                596.7                                559.6   \n",
              "4                                579.7                                638.5   \n",
              "\n",
              "   Historical Violent Crime Rates_2011  \n",
              "0                                  NaN  \n",
              "1                               1202.1  \n",
              "2                                606.5  \n",
              "3                                567.5  \n",
              "4                                608.2  "
            ],
            "text/html": [
              "\n",
              "  <div id=\"df-56ec7fc3-f381-4358-82b0-71a8af5c42a8\">\n",
              "    <div class=\"colab-df-container\">\n",
              "      <div>\n",
              "<style scoped>\n",
              "    .dataframe tbody tr th:only-of-type {\n",
              "        vertical-align: middle;\n",
              "    }\n",
              "\n",
              "    .dataframe tbody tr th {\n",
              "        vertical-align: top;\n",
              "    }\n",
              "\n",
              "    .dataframe thead th {\n",
              "        text-align: right;\n",
              "    }\n",
              "</style>\n",
              "<table border=\"1\" class=\"dataframe\">\n",
              "  <thead>\n",
              "    <tr style=\"text-align: right;\">\n",
              "      <th></th>\n",
              "      <th>State or Territory</th>\n",
              "      <th>2020_Incidence Count</th>\n",
              "      <th>2020_Violent Crime Rate</th>\n",
              "      <th>Historical Violent Crime Rates_2019</th>\n",
              "      <th>Historical Violent Crime Rates_2018</th>\n",
              "      <th>Historical Violent Crime Rates_2017</th>\n",
              "      <th>Historical Violent Crime Rates_2016</th>\n",
              "      <th>Historical Violent Crime Rates_2015</th>\n",
              "      <th>Historical Violent Crime Rates_2014</th>\n",
              "      <th>Historical Violent Crime Rates_2013</th>\n",
              "      <th>Historical Violent Crime Rates_2012</th>\n",
              "      <th>Historical Violent Crime Rates_2011</th>\n",
              "    </tr>\n",
              "  </thead>\n",
              "  <tbody>\n",
              "    <tr>\n",
              "      <th>0</th>\n",
              "      <td>NaN</td>\n",
              "      <td>NaN</td>\n",
              "      <td>NaN</td>\n",
              "      <td>NaN</td>\n",
              "      <td>NaN</td>\n",
              "      <td>NaN</td>\n",
              "      <td>NaN</td>\n",
              "      <td>NaN</td>\n",
              "      <td>NaN</td>\n",
              "      <td>NaN</td>\n",
              "      <td>NaN</td>\n",
              "      <td>NaN</td>\n",
              "    </tr>\n",
              "    <tr>\n",
              "      <th>1</th>\n",
              "      <td>District of Columbia</td>\n",
              "      <td>7127.0</td>\n",
              "      <td>999.8</td>\n",
              "      <td>1045.2</td>\n",
              "      <td>997.1</td>\n",
              "      <td>1002.7</td>\n",
              "      <td>1203.5</td>\n",
              "      <td>1269.1</td>\n",
              "      <td>1242.6</td>\n",
              "      <td>1281.9</td>\n",
              "      <td>1241.8</td>\n",
              "      <td>1202.1</td>\n",
              "    </tr>\n",
              "    <tr>\n",
              "      <th>2</th>\n",
              "      <td>Alaska</td>\n",
              "      <td>6126.0</td>\n",
              "      <td>837.8</td>\n",
              "      <td>865.0</td>\n",
              "      <td>891.7</td>\n",
              "      <td>856.7</td>\n",
              "      <td>804.6</td>\n",
              "      <td>730.2</td>\n",
              "      <td>635.5</td>\n",
              "      <td>602.6</td>\n",
              "      <td>604.1</td>\n",
              "      <td>606.5</td>\n",
              "    </tr>\n",
              "    <tr>\n",
              "      <th>3</th>\n",
              "      <td>New Mexico</td>\n",
              "      <td>16393.0</td>\n",
              "      <td>778.3</td>\n",
              "      <td>824.0</td>\n",
              "      <td>842.8</td>\n",
              "      <td>778.6</td>\n",
              "      <td>699.4</td>\n",
              "      <td>656.1</td>\n",
              "      <td>597.7</td>\n",
              "      <td>596.7</td>\n",
              "      <td>559.6</td>\n",
              "      <td>567.5</td>\n",
              "    </tr>\n",
              "    <tr>\n",
              "      <th>4</th>\n",
              "      <td>Tennessee</td>\n",
              "      <td>46328.0</td>\n",
              "      <td>672.7</td>\n",
              "      <td>598.9</td>\n",
              "      <td>630.4</td>\n",
              "      <td>655.0</td>\n",
              "      <td>638.5</td>\n",
              "      <td>612.1</td>\n",
              "      <td>610.7</td>\n",
              "      <td>579.7</td>\n",
              "      <td>638.5</td>\n",
              "      <td>608.2</td>\n",
              "    </tr>\n",
              "  </tbody>\n",
              "</table>\n",
              "</div>\n",
              "      <button class=\"colab-df-convert\" onclick=\"convertToInteractive('df-56ec7fc3-f381-4358-82b0-71a8af5c42a8')\"\n",
              "              title=\"Convert this dataframe to an interactive table.\"\n",
              "              style=\"display:none;\">\n",
              "        \n",
              "  <svg xmlns=\"http://www.w3.org/2000/svg\" height=\"24px\"viewBox=\"0 0 24 24\"\n",
              "       width=\"24px\">\n",
              "    <path d=\"M0 0h24v24H0V0z\" fill=\"none\"/>\n",
              "    <path d=\"M18.56 5.44l.94 2.06.94-2.06 2.06-.94-2.06-.94-.94-2.06-.94 2.06-2.06.94zm-11 1L8.5 8.5l.94-2.06 2.06-.94-2.06-.94L8.5 2.5l-.94 2.06-2.06.94zm10 10l.94 2.06.94-2.06 2.06-.94-2.06-.94-.94-2.06-.94 2.06-2.06.94z\"/><path d=\"M17.41 7.96l-1.37-1.37c-.4-.4-.92-.59-1.43-.59-.52 0-1.04.2-1.43.59L10.3 9.45l-7.72 7.72c-.78.78-.78 2.05 0 2.83L4 21.41c.39.39.9.59 1.41.59.51 0 1.02-.2 1.41-.59l7.78-7.78 2.81-2.81c.8-.78.8-2.07 0-2.86zM5.41 20L4 18.59l7.72-7.72 1.47 1.35L5.41 20z\"/>\n",
              "  </svg>\n",
              "      </button>\n",
              "      \n",
              "  <style>\n",
              "    .colab-df-container {\n",
              "      display:flex;\n",
              "      flex-wrap:wrap;\n",
              "      gap: 12px;\n",
              "    }\n",
              "\n",
              "    .colab-df-convert {\n",
              "      background-color: #E8F0FE;\n",
              "      border: none;\n",
              "      border-radius: 50%;\n",
              "      cursor: pointer;\n",
              "      display: none;\n",
              "      fill: #1967D2;\n",
              "      height: 32px;\n",
              "      padding: 0 0 0 0;\n",
              "      width: 32px;\n",
              "    }\n",
              "\n",
              "    .colab-df-convert:hover {\n",
              "      background-color: #E2EBFA;\n",
              "      box-shadow: 0px 1px 2px rgba(60, 64, 67, 0.3), 0px 1px 3px 1px rgba(60, 64, 67, 0.15);\n",
              "      fill: #174EA6;\n",
              "    }\n",
              "\n",
              "    [theme=dark] .colab-df-convert {\n",
              "      background-color: #3B4455;\n",
              "      fill: #D2E3FC;\n",
              "    }\n",
              "\n",
              "    [theme=dark] .colab-df-convert:hover {\n",
              "      background-color: #434B5C;\n",
              "      box-shadow: 0px 1px 3px 1px rgba(0, 0, 0, 0.15);\n",
              "      filter: drop-shadow(0px 1px 2px rgba(0, 0, 0, 0.3));\n",
              "      fill: #FFFFFF;\n",
              "    }\n",
              "  </style>\n",
              "\n",
              "      <script>\n",
              "        const buttonEl =\n",
              "          document.querySelector('#df-56ec7fc3-f381-4358-82b0-71a8af5c42a8 button.colab-df-convert');\n",
              "        buttonEl.style.display =\n",
              "          google.colab.kernel.accessAllowed ? 'block' : 'none';\n",
              "\n",
              "        async function convertToInteractive(key) {\n",
              "          const element = document.querySelector('#df-56ec7fc3-f381-4358-82b0-71a8af5c42a8');\n",
              "          const dataTable =\n",
              "            await google.colab.kernel.invokeFunction('convertToInteractive',\n",
              "                                                     [key], {});\n",
              "          if (!dataTable) return;\n",
              "\n",
              "          const docLinkHtml = 'Like what you see? Visit the ' +\n",
              "            '<a target=\"_blank\" href=https://colab.research.google.com/notebooks/data_table.ipynb>data table notebook</a>'\n",
              "            + ' to learn more about interactive tables.';\n",
              "          element.innerHTML = '';\n",
              "          dataTable['output_type'] = 'display_data';\n",
              "          await google.colab.output.renderOutput(dataTable, element);\n",
              "          const docLink = document.createElement('div');\n",
              "          docLink.innerHTML = docLinkHtml;\n",
              "          element.appendChild(docLink);\n",
              "        }\n",
              "      </script>\n",
              "    </div>\n",
              "  </div>\n",
              "  "
            ]
          },
          "metadata": {},
          "execution_count": 13
        }
      ]
    },
    {
      "cell_type": "markdown",
      "source": [
        "# Q3. Count the number of missing values per column, then print a list of unique values for the State/territory column."
      ],
      "metadata": {
        "id": "X-TV0JdTwI01"
      }
    },
    {
      "cell_type": "markdown",
      "source": [
        "Read this:\n",
        "* https://stackoverflow.com/questions/13413590/how-to-drop-rows-of-pandas-dataframe-whose-value-in-a-certain-column-is-nan\n",
        "\n",
        "Now drop any rows where the 'State or Territory' column is nan."
      ],
      "metadata": {
        "id": "TYse5qDhxdSa"
      }
    },
    {
      "cell_type": "code",
      "source": [
        "df = df.dropna(subset=['State or Territory'])\n",
        "df.shape\n",
        "df.isna().sum()"
      ],
      "metadata": {
        "id": "nNe6t-8ivdnO",
        "colab": {
          "base_uri": "https://localhost:8080/"
        },
        "outputId": "f7cebea3-4066-498f-8ba8-26e25a2e5205"
      },
      "execution_count": null,
      "outputs": [
        {
          "output_type": "execute_result",
          "data": {
            "text/plain": [
              "State or Territory                     0\n",
              "2020_Incidence Count                   0\n",
              "2020_Violent Crime Rate                0\n",
              "Historical Violent Crime Rates_2019    0\n",
              "Historical Violent Crime Rates_2018    0\n",
              "Historical Violent Crime Rates_2017    0\n",
              "Historical Violent Crime Rates_2016    0\n",
              "Historical Violent Crime Rates_2015    0\n",
              "Historical Violent Crime Rates_2014    0\n",
              "Historical Violent Crime Rates_2013    0\n",
              "Historical Violent Crime Rates_2012    0\n",
              "Historical Violent Crime Rates_2011    0\n",
              "dtype: int64"
            ]
          },
          "metadata": {},
          "execution_count": 14
        }
      ]
    },
    {
      "cell_type": "markdown",
      "source": [
        "Read this:\n",
        "* https://stackoverflow.com/questions/19960077/how-to-filter-pandas-dataframe-using-in-and-not-in-like-in-sql\n",
        "\n",
        "Now drop values where this column is equal to District of Columbia, United States or Puerto Rico. How many rows do you have now?"
      ],
      "metadata": {
        "id": "2cQSFiAUwW13"
      }
    },
    {
      "cell_type": "code",
      "source": [
        "df = df[np.isin(df['State or Territory'], ['District of Columbia' , 'United States', 'Puerto Rico'], invert = True)]\n",
        "df.shape"
      ],
      "metadata": {
        "id": "T41i7UoMxA_Y",
        "colab": {
          "base_uri": "https://localhost:8080/"
        },
        "outputId": "08b40f94-415a-4e0b-febc-797c065d75d5"
      },
      "execution_count": null,
      "outputs": [
        {
          "output_type": "execute_result",
          "data": {
            "text/plain": [
              "(50, 12)"
            ]
          },
          "metadata": {},
          "execution_count": 15
        }
      ]
    },
    {
      "cell_type": "code",
      "source": [
        "df.head()"
      ],
      "metadata": {
        "colab": {
          "base_uri": "https://localhost:8080/",
          "height": 268
        },
        "id": "pOm8AdpSs08c",
        "outputId": "d33cc945-aad3-429b-e3a0-8a890414fa6a"
      },
      "execution_count": null,
      "outputs": [
        {
          "output_type": "execute_result",
          "data": {
            "text/plain": [
              "  State or Territory  2020_Incidence Count  2020_Violent Crime Rate  \\\n",
              "2             Alaska                6126.0                    837.8   \n",
              "3         New Mexico               16393.0                    778.3   \n",
              "4          Tennessee               46328.0                    672.7   \n",
              "5           Arkansas               20363.0                    671.9   \n",
              "6            Arizona               35980.0                    654.8   \n",
              "\n",
              "   Historical Violent Crime Rates_2019  Historical Violent Crime Rates_2018  \\\n",
              "2                                865.0                                891.7   \n",
              "3                                824.0                                842.8   \n",
              "4                                598.9                                630.4   \n",
              "5                                580.8                                561.6   \n",
              "6                                447.1                                475.7   \n",
              "\n",
              "   Historical Violent Crime Rates_2017  Historical Violent Crime Rates_2016  \\\n",
              "2                                856.7                                804.6   \n",
              "3                                778.6                                699.4   \n",
              "4                                655.0                                638.5   \n",
              "5                                566.0                                554.3   \n",
              "6                                505.7                                471.0   \n",
              "\n",
              "   Historical Violent Crime Rates_2015  Historical Violent Crime Rates_2014  \\\n",
              "2                                730.2                                635.5   \n",
              "3                                656.1                                597.7   \n",
              "4                                612.1                                610.7   \n",
              "5                                521.3                                480.2   \n",
              "6                                410.2                                392.7   \n",
              "\n",
              "   Historical Violent Crime Rates_2013  Historical Violent Crime Rates_2012  \\\n",
              "2                                602.6                                604.1   \n",
              "3                                596.7                                559.6   \n",
              "4                                579.7                                638.5   \n",
              "5                                445.7                                469.6   \n",
              "6                                405.8                                428.6   \n",
              "\n",
              "   Historical Violent Crime Rates_2011  \n",
              "2                                606.5  \n",
              "3                                567.5  \n",
              "4                                608.2  \n",
              "5                                480.9  \n",
              "6                                405.9  "
            ],
            "text/html": [
              "\n",
              "  <div id=\"df-823e02e8-78a4-4d7d-9eb8-d56c5dabd0a6\">\n",
              "    <div class=\"colab-df-container\">\n",
              "      <div>\n",
              "<style scoped>\n",
              "    .dataframe tbody tr th:only-of-type {\n",
              "        vertical-align: middle;\n",
              "    }\n",
              "\n",
              "    .dataframe tbody tr th {\n",
              "        vertical-align: top;\n",
              "    }\n",
              "\n",
              "    .dataframe thead th {\n",
              "        text-align: right;\n",
              "    }\n",
              "</style>\n",
              "<table border=\"1\" class=\"dataframe\">\n",
              "  <thead>\n",
              "    <tr style=\"text-align: right;\">\n",
              "      <th></th>\n",
              "      <th>State or Territory</th>\n",
              "      <th>2020_Incidence Count</th>\n",
              "      <th>2020_Violent Crime Rate</th>\n",
              "      <th>Historical Violent Crime Rates_2019</th>\n",
              "      <th>Historical Violent Crime Rates_2018</th>\n",
              "      <th>Historical Violent Crime Rates_2017</th>\n",
              "      <th>Historical Violent Crime Rates_2016</th>\n",
              "      <th>Historical Violent Crime Rates_2015</th>\n",
              "      <th>Historical Violent Crime Rates_2014</th>\n",
              "      <th>Historical Violent Crime Rates_2013</th>\n",
              "      <th>Historical Violent Crime Rates_2012</th>\n",
              "      <th>Historical Violent Crime Rates_2011</th>\n",
              "    </tr>\n",
              "  </thead>\n",
              "  <tbody>\n",
              "    <tr>\n",
              "      <th>2</th>\n",
              "      <td>Alaska</td>\n",
              "      <td>6126.0</td>\n",
              "      <td>837.8</td>\n",
              "      <td>865.0</td>\n",
              "      <td>891.7</td>\n",
              "      <td>856.7</td>\n",
              "      <td>804.6</td>\n",
              "      <td>730.2</td>\n",
              "      <td>635.5</td>\n",
              "      <td>602.6</td>\n",
              "      <td>604.1</td>\n",
              "      <td>606.5</td>\n",
              "    </tr>\n",
              "    <tr>\n",
              "      <th>3</th>\n",
              "      <td>New Mexico</td>\n",
              "      <td>16393.0</td>\n",
              "      <td>778.3</td>\n",
              "      <td>824.0</td>\n",
              "      <td>842.8</td>\n",
              "      <td>778.6</td>\n",
              "      <td>699.4</td>\n",
              "      <td>656.1</td>\n",
              "      <td>597.7</td>\n",
              "      <td>596.7</td>\n",
              "      <td>559.6</td>\n",
              "      <td>567.5</td>\n",
              "    </tr>\n",
              "    <tr>\n",
              "      <th>4</th>\n",
              "      <td>Tennessee</td>\n",
              "      <td>46328.0</td>\n",
              "      <td>672.7</td>\n",
              "      <td>598.9</td>\n",
              "      <td>630.4</td>\n",
              "      <td>655.0</td>\n",
              "      <td>638.5</td>\n",
              "      <td>612.1</td>\n",
              "      <td>610.7</td>\n",
              "      <td>579.7</td>\n",
              "      <td>638.5</td>\n",
              "      <td>608.2</td>\n",
              "    </tr>\n",
              "    <tr>\n",
              "      <th>5</th>\n",
              "      <td>Arkansas</td>\n",
              "      <td>20363.0</td>\n",
              "      <td>671.9</td>\n",
              "      <td>580.8</td>\n",
              "      <td>561.6</td>\n",
              "      <td>566.0</td>\n",
              "      <td>554.3</td>\n",
              "      <td>521.3</td>\n",
              "      <td>480.2</td>\n",
              "      <td>445.7</td>\n",
              "      <td>469.6</td>\n",
              "      <td>480.9</td>\n",
              "    </tr>\n",
              "    <tr>\n",
              "      <th>6</th>\n",
              "      <td>Arizona</td>\n",
              "      <td>35980.0</td>\n",
              "      <td>654.8</td>\n",
              "      <td>447.1</td>\n",
              "      <td>475.7</td>\n",
              "      <td>505.7</td>\n",
              "      <td>471.0</td>\n",
              "      <td>410.2</td>\n",
              "      <td>392.7</td>\n",
              "      <td>405.8</td>\n",
              "      <td>428.6</td>\n",
              "      <td>405.9</td>\n",
              "    </tr>\n",
              "  </tbody>\n",
              "</table>\n",
              "</div>\n",
              "      <button class=\"colab-df-convert\" onclick=\"convertToInteractive('df-823e02e8-78a4-4d7d-9eb8-d56c5dabd0a6')\"\n",
              "              title=\"Convert this dataframe to an interactive table.\"\n",
              "              style=\"display:none;\">\n",
              "        \n",
              "  <svg xmlns=\"http://www.w3.org/2000/svg\" height=\"24px\"viewBox=\"0 0 24 24\"\n",
              "       width=\"24px\">\n",
              "    <path d=\"M0 0h24v24H0V0z\" fill=\"none\"/>\n",
              "    <path d=\"M18.56 5.44l.94 2.06.94-2.06 2.06-.94-2.06-.94-.94-2.06-.94 2.06-2.06.94zm-11 1L8.5 8.5l.94-2.06 2.06-.94-2.06-.94L8.5 2.5l-.94 2.06-2.06.94zm10 10l.94 2.06.94-2.06 2.06-.94-2.06-.94-.94-2.06-.94 2.06-2.06.94z\"/><path d=\"M17.41 7.96l-1.37-1.37c-.4-.4-.92-.59-1.43-.59-.52 0-1.04.2-1.43.59L10.3 9.45l-7.72 7.72c-.78.78-.78 2.05 0 2.83L4 21.41c.39.39.9.59 1.41.59.51 0 1.02-.2 1.41-.59l7.78-7.78 2.81-2.81c.8-.78.8-2.07 0-2.86zM5.41 20L4 18.59l7.72-7.72 1.47 1.35L5.41 20z\"/>\n",
              "  </svg>\n",
              "      </button>\n",
              "      \n",
              "  <style>\n",
              "    .colab-df-container {\n",
              "      display:flex;\n",
              "      flex-wrap:wrap;\n",
              "      gap: 12px;\n",
              "    }\n",
              "\n",
              "    .colab-df-convert {\n",
              "      background-color: #E8F0FE;\n",
              "      border: none;\n",
              "      border-radius: 50%;\n",
              "      cursor: pointer;\n",
              "      display: none;\n",
              "      fill: #1967D2;\n",
              "      height: 32px;\n",
              "      padding: 0 0 0 0;\n",
              "      width: 32px;\n",
              "    }\n",
              "\n",
              "    .colab-df-convert:hover {\n",
              "      background-color: #E2EBFA;\n",
              "      box-shadow: 0px 1px 2px rgba(60, 64, 67, 0.3), 0px 1px 3px 1px rgba(60, 64, 67, 0.15);\n",
              "      fill: #174EA6;\n",
              "    }\n",
              "\n",
              "    [theme=dark] .colab-df-convert {\n",
              "      background-color: #3B4455;\n",
              "      fill: #D2E3FC;\n",
              "    }\n",
              "\n",
              "    [theme=dark] .colab-df-convert:hover {\n",
              "      background-color: #434B5C;\n",
              "      box-shadow: 0px 1px 3px 1px rgba(0, 0, 0, 0.15);\n",
              "      filter: drop-shadow(0px 1px 2px rgba(0, 0, 0, 0.3));\n",
              "      fill: #FFFFFF;\n",
              "    }\n",
              "  </style>\n",
              "\n",
              "      <script>\n",
              "        const buttonEl =\n",
              "          document.querySelector('#df-823e02e8-78a4-4d7d-9eb8-d56c5dabd0a6 button.colab-df-convert');\n",
              "        buttonEl.style.display =\n",
              "          google.colab.kernel.accessAllowed ? 'block' : 'none';\n",
              "\n",
              "        async function convertToInteractive(key) {\n",
              "          const element = document.querySelector('#df-823e02e8-78a4-4d7d-9eb8-d56c5dabd0a6');\n",
              "          const dataTable =\n",
              "            await google.colab.kernel.invokeFunction('convertToInteractive',\n",
              "                                                     [key], {});\n",
              "          if (!dataTable) return;\n",
              "\n",
              "          const docLinkHtml = 'Like what you see? Visit the ' +\n",
              "            '<a target=\"_blank\" href=https://colab.research.google.com/notebooks/data_table.ipynb>data table notebook</a>'\n",
              "            + ' to learn more about interactive tables.';\n",
              "          element.innerHTML = '';\n",
              "          dataTable['output_type'] = 'display_data';\n",
              "          await google.colab.output.renderOutput(dataTable, element);\n",
              "          const docLink = document.createElement('div');\n",
              "          docLink.innerHTML = docLinkHtml;\n",
              "          element.appendChild(docLink);\n",
              "        }\n",
              "      </script>\n",
              "    </div>\n",
              "  </div>\n",
              "  "
            ]
          },
          "metadata": {},
          "execution_count": 31
        }
      ]
    },
    {
      "cell_type": "markdown",
      "source": [
        "# Q4. Which State had the highest and lowest crime rate in 2020?"
      ],
      "metadata": {
        "id": "7TjJFZplzotN"
      }
    },
    {
      "cell_type": "markdown",
      "source": [
        "You can either sort by high and low to show the tail, or you can select the row where the min and max 2020 rates exist. Do not just print the value of the min and max!"
      ],
      "metadata": {
        "id": "q2Csz0WulXDh"
      }
    },
    {
      "cell_type": "code",
      "source": [
        "highest = df.where(df['2020_Violent Crime Rate'] == np.max(df['2020_Violent Crime Rate'])).dropna()\n",
        "lowest =  df.where(df['2020_Violent Crime Rate'] == np.min(df['2020_Violent Crime Rate'])).dropna()\n",
        "print(np.array(highest['State or Territory']), np.array(lowest['State or Territory']))"
      ],
      "metadata": {
        "colab": {
          "base_uri": "https://localhost:8080/"
        },
        "id": "OGvGNSA0m52m",
        "outputId": "67fd33e9-d732-4af1-cb65-fad0f9ebcc67"
      },
      "execution_count": null,
      "outputs": [
        {
          "output_type": "stream",
          "name": "stdout",
          "text": [
            "['Alaska'] ['Maine']\n"
          ]
        }
      ]
    },
    {
      "cell_type": "markdown",
      "source": [
        "# Q5. Make a line plot that shows the trend of violent crime in Alaska.\n",
        "One plot for each State. X = year and Y = violent crime. Have nice titles, axes and a unique color for each plot. Note that this question probably requires you to take the transpose or to create a pivot table (your choice.)"
      ],
      "metadata": {
        "id": "7ISys26QnsFK"
      }
    },
    {
      "cell_type": "code",
      "source": [
        "alaska = df.where(df['State or Territory'] == 'Alaska').dropna()\n",
        "alaska = alaska.transpose()[2:]\n",
        "\n",
        "\n",
        "alaska = alaska.reset_index()\n",
        "alaska.columns = ['Year', \"CrimeRate\"]\n",
        "alaska.head()\n",
        "plt.plot(alaska.Year,alaska.CrimeRate , label ='Violent Crime Rate' ,color = \"gray\")\n",
        "plt.legend(loc='upper right')\n",
        "plt.xlabel(\"Year\")\n",
        "plt.xticks(rotation=45, ha='right')\n",
        "plt.ylabel(\"Crime Rate\")\n",
        "plt.title(\"Crime Rate in Alaska\")\n",
        "plt.show()"
      ],
      "metadata": {
        "colab": {
          "base_uri": "https://localhost:8080/",
          "height": 420
        },
        "id": "yUvtdVaTpdCn",
        "outputId": "3e5e93b3-085b-48ab-90e2-dda30b6bd5cd"
      },
      "execution_count": null,
      "outputs": [
        {
          "output_type": "display_data",
          "data": {
            "text/plain": [
              "<Figure size 432x288 with 1 Axes>"
            ],
            "image/png": "[encoded data removed]"
          },
          "metadata": {
            "needs_background": "light"
          }
        }
      ]
    },
    {
      "cell_type": "markdown",
      "source": [
        "Students may opt to make a new column for Year, or they can use a long column name so long as data doesn't overlap on the X axis."
      ],
      "metadata": {
        "id": "iZVde9NSqHq9"
      }
    },
    {
      "cell_type": "markdown",
      "source": [
        "# Q6. Which States had crime rates go down in 2020 vs. 2019?"
      ],
      "metadata": {
        "id": "krOBDbWCz1V1"
      }
    },
    {
      "cell_type": "markdown",
      "source": [
        "Print the unique values in the State column after you do your subset."
      ],
      "metadata": {
        "id": "TeBsRGlfvw-1"
      }
    },
    {
      "cell_type": "code",
      "source": [
        "states = np.array(df.where(df['2020_Violent Crime Rate'] < df['Historical Violent Crime Rates_2019']).dropna()['State or Territory'].unique())\n",
        "print(states)"
      ],
      "metadata": {
        "colab": {
          "base_uri": "https://localhost:8080/"
        },
        "id": "32tvzUNrxX3K",
        "outputId": "0f14ae83-147f-494e-cbe4-627a27969d35"
      },
      "execution_count": null,
      "outputs": [
        {
          "output_type": "stream",
          "name": "stdout",
          "text": [
            "['Alaska' 'New Mexico' 'Nevada' 'Alabama' 'California' 'Maryland'\n",
            " 'Indiana' 'Massachusetts' 'Washington' 'Oregon' 'Hawaii' 'Virginia'\n",
            " 'New Jersey' 'Connecticut' 'Vermont' 'New Hampshire' 'Maine']\n"
          ]
        }
      ]
    },
    {
      "cell_type": "markdown",
      "source": [
        "# Q7. Compute the raw change between 2020 and 2019 for all States and print summary statistics.\n",
        "This one should have the raw units of Y - add a text cell and describe what you see in the summary statistics output."
      ],
      "metadata": {
        "id": "MaIfajKyz7y8"
      }
    },
    {
      "cell_type": "code",
      "source": [
        "change = pd.DataFrame(df[['State or Territory', \"2020_Violent Crime Rate\", \"Historical Violent Crime Rates_2019\"]])\n",
        "change['Difference'] = change['2020_Violent Crime Rate'] - change['Historical Violent Crime Rates_2019']\n",
        "change.describe()"
      ],
      "metadata": {
        "id": "Y9VbS2Q9v5d3",
        "colab": {
          "base_uri": "https://localhost:8080/",
          "height": 300
        },
        "outputId": "140c8143-3f78-46c6-f915-8421554b39d2"
      },
      "execution_count": null,
      "outputs": [
        {
          "output_type": "execute_result",
          "data": {
            "text/plain": [
              "       2020_Violent Crime Rate  Historical Violent Crime Rates_2019  \\\n",
              "count                50.000000                            50.000000   \n",
              "mean                387.422000                           366.968000   \n",
              "std                 158.952549                           150.412832   \n",
              "min                 108.600000                           116.100000   \n",
              "25%                 280.925000                           262.025000   \n",
              "50%                 373.700000                           344.850000   \n",
              "75%                 457.350000                           438.025000   \n",
              "max                 837.800000                           865.000000   \n",
              "\n",
              "       Difference  \n",
              "count   50.000000  \n",
              "mean    20.454000  \n",
              "std     44.755359  \n",
              "min    -54.500000  \n",
              "25%     -6.375000  \n",
              "50%     17.550000  \n",
              "75%     38.475000  \n",
              "max    207.700000  "
            ],
            "text/html": [
              "\n",
              "  <div id=\"df-f9cd1f0f-aaa8-4c2a-8aaa-584e5baf423a\">\n",
              "    <div class=\"colab-df-container\">\n",
              "      <div>\n",
              "<style scoped>\n",
              "    .dataframe tbody tr th:only-of-type {\n",
              "        vertical-align: middle;\n",
              "    }\n",
              "\n",
              "    .dataframe tbody tr th {\n",
              "        vertical-align: top;\n",
              "    }\n",
              "\n",
              "    .dataframe thead th {\n",
              "        text-align: right;\n",
              "    }\n",
              "</style>\n",
              "<table border=\"1\" class=\"dataframe\">\n",
              "  <thead>\n",
              "    <tr style=\"text-align: right;\">\n",
              "      <th></th>\n",
              "      <th>2020_Violent Crime Rate</th>\n",
              "      <th>Historical Violent Crime Rates_2019</th>\n",
              "      <th>Difference</th>\n",
              "    </tr>\n",
              "  </thead>\n",
              "  <tbody>\n",
              "    <tr>\n",
              "      <th>count</th>\n",
              "      <td>50.000000</td>\n",
              "      <td>50.000000</td>\n",
              "      <td>50.000000</td>\n",
              "    </tr>\n",
              "    <tr>\n",
              "      <th>mean</th>\n",
              "      <td>387.422000</td>\n",
              "      <td>366.968000</td>\n",
              "      <td>20.454000</td>\n",
              "    </tr>\n",
              "    <tr>\n",
              "      <th>std</th>\n",
              "      <td>158.952549</td>\n",
              "      <td>150.412832</td>\n",
              "      <td>44.755359</td>\n",
              "    </tr>\n",
              "    <tr>\n",
              "      <th>min</th>\n",
              "      <td>108.600000</td>\n",
              "      <td>116.100000</td>\n",
              "      <td>-54.500000</td>\n",
              "    </tr>\n",
              "    <tr>\n",
              "      <th>25%</th>\n",
              "      <td>280.925000</td>\n",
              "      <td>262.025000</td>\n",
              "      <td>-6.375000</td>\n",
              "    </tr>\n",
              "    <tr>\n",
              "      <th>50%</th>\n",
              "      <td>373.700000</td>\n",
              "      <td>344.850000</td>\n",
              "      <td>17.550000</td>\n",
              "    </tr>\n",
              "    <tr>\n",
              "      <th>75%</th>\n",
              "      <td>457.350000</td>\n",
              "      <td>438.025000</td>\n",
              "      <td>38.475000</td>\n",
              "    </tr>\n",
              "    <tr>\n",
              "      <th>max</th>\n",
              "      <td>837.800000</td>\n",
              "      <td>865.000000</td>\n",
              "      <td>207.700000</td>\n",
              "    </tr>\n",
              "  </tbody>\n",
              "</table>\n",
              "</div>\n",
              "      <button class=\"colab-df-convert\" onclick=\"convertToInteractive('df-f9cd1f0f-aaa8-4c2a-8aaa-584e5baf423a')\"\n",
              "              title=\"Convert this dataframe to an interactive table.\"\n",
              "              style=\"display:none;\">\n",
              "        \n",
              "  <svg xmlns=\"http://www.w3.org/2000/svg\" height=\"24px\"viewBox=\"0 0 24 24\"\n",
              "       width=\"24px\">\n",
              "    <path d=\"M0 0h24v24H0V0z\" fill=\"none\"/>\n",
              "    <path d=\"M18.56 5.44l.94 2.06.94-2.06 2.06-.94-2.06-.94-.94-2.06-.94 2.06-2.06.94zm-11 1L8.5 8.5l.94-2.06 2.06-.94-2.06-.94L8.5 2.5l-.94 2.06-2.06.94zm10 10l.94 2.06.94-2.06 2.06-.94-2.06-.94-.94-2.06-.94 2.06-2.06.94z\"/><path d=\"M17.41 7.96l-1.37-1.37c-.4-.4-.92-.59-1.43-.59-.52 0-1.04.2-1.43.59L10.3 9.45l-7.72 7.72c-.78.78-.78 2.05 0 2.83L4 21.41c.39.39.9.59 1.41.59.51 0 1.02-.2 1.41-.59l7.78-7.78 2.81-2.81c.8-.78.8-2.07 0-2.86zM5.41 20L4 18.59l7.72-7.72 1.47 1.35L5.41 20z\"/>\n",
              "  </svg>\n",
              "      </button>\n",
              "      \n",
              "  <style>\n",
              "    .colab-df-container {\n",
              "      display:flex;\n",
              "      flex-wrap:wrap;\n",
              "      gap: 12px;\n",
              "    }\n",
              "\n",
              "    .colab-df-convert {\n",
              "      background-color: #E8F0FE;\n",
              "      border: none;\n",
              "      border-radius: 50%;\n",
              "      cursor: pointer;\n",
              "      display: none;\n",
              "      fill: #1967D2;\n",
              "      height: 32px;\n",
              "      padding: 0 0 0 0;\n",
              "      width: 32px;\n",
              "    }\n",
              "\n",
              "    .colab-df-convert:hover {\n",
              "      background-color: #E2EBFA;\n",
              "      box-shadow: 0px 1px 2px rgba(60, 64, 67, 0.3), 0px 1px 3px 1px rgba(60, 64, 67, 0.15);\n",
              "      fill: #174EA6;\n",
              "    }\n",
              "\n",
              "    [theme=dark] .colab-df-convert {\n",
              "      background-color: #3B4455;\n",
              "      fill: #D2E3FC;\n",
              "    }\n",
              "\n",
              "    [theme=dark] .colab-df-convert:hover {\n",
              "      background-color: #434B5C;\n",
              "      box-shadow: 0px 1px 3px 1px rgba(0, 0, 0, 0.15);\n",
              "      filter: drop-shadow(0px 1px 2px rgba(0, 0, 0, 0.3));\n",
              "      fill: #FFFFFF;\n",
              "    }\n",
              "  </style>\n",
              "\n",
              "      <script>\n",
              "        const buttonEl =\n",
              "          document.querySelector('#df-f9cd1f0f-aaa8-4c2a-8aaa-584e5baf423a button.colab-df-convert');\n",
              "        buttonEl.style.display =\n",
              "          google.colab.kernel.accessAllowed ? 'block' : 'none';\n",
              "\n",
              "        async function convertToInteractive(key) {\n",
              "          const element = document.querySelector('#df-f9cd1f0f-aaa8-4c2a-8aaa-584e5baf423a');\n",
              "          const dataTable =\n",
              "            await google.colab.kernel.invokeFunction('convertToInteractive',\n",
              "                                                     [key], {});\n",
              "          if (!dataTable) return;\n",
              "\n",
              "          const docLinkHtml = 'Like what you see? Visit the ' +\n",
              "            '<a target=\"_blank\" href=https://colab.research.google.com/notebooks/data_table.ipynb>data table notebook</a>'\n",
              "            + ' to learn more about interactive tables.';\n",
              "          element.innerHTML = '';\n",
              "          dataTable['output_type'] = 'display_data';\n",
              "          await google.colab.output.renderOutput(dataTable, element);\n",
              "          const docLink = document.createElement('div');\n",
              "          docLink.innerHTML = docLinkHtml;\n",
              "          element.appendChild(docLink);\n",
              "        }\n",
              "      </script>\n",
              "    </div>\n",
              "  </div>\n",
              "  "
            ]
          },
          "metadata": {},
          "execution_count": 111
        }
      ]
    },
    {
      "cell_type": "markdown",
      "source": [
        "# Q8. Make a nice boxplot or histogram for the output from Q7."
      ],
      "metadata": {
        "id": "HZYW9VkrqvNT"
      }
    },
    {
      "cell_type": "markdown",
      "source": [
        "Add nice labels and titles and a fun color for your boxplot."
      ],
      "metadata": {
        "id": "GKf30--orPyP"
      }
    },
    {
      "cell_type": "code",
      "source": [
        "plt.hist(change['Difference'], color =\"gray\", edgecolor = \"black\", density = True)\n",
        "plt.xlabel(\"Change in Crime Rate from 2019 to 2020\")\n",
        "plt.ylabel(\"Frequency\")\n",
        "plt.title(\"Histogram of Change in Crime rate\")\n",
        "plt.show()"
      ],
      "metadata": {
        "colab": {
          "base_uri": "https://localhost:8080/",
          "height": 295
        },
        "id": "1lgiOxXfrS-B",
        "outputId": "e593e0d0-7e66-44db-e16e-4d5a097a3334"
      },
      "execution_count": null,
      "outputs": [
        {
          "output_type": "display_data",
          "data": {
            "text/plain": [
              "<Figure size 432x288 with 1 Axes>"
            ],
            "image/png": "[encoded data removed]"
          },
          "metadata": {
            "needs_background": "light"
          }
        }
      ]
    },
    {
      "cell_type": "markdown",
      "source": [
        "# Q9. Compute the percentage change between 2020 and 2019 for all States and print summary statistics"
      ],
      "metadata": {
        "id": "IOEspM27z9vD"
      }
    },
    {
      "cell_type": "markdown",
      "source": [
        "This one should be a percentage, of course! Don't forget to multiply by 100. The denominator should be 2019."
      ],
      "metadata": {
        "id": "fVKKE4yRqnIx"
      }
    },
    {
      "cell_type": "code",
      "source": [
        "change['Percentage Change'] = (change['Difference']/change['Historical Violent Crime Rates_2019']) *100\n",
        "change.describe()"
      ],
      "metadata": {
        "id": "9QEwoWVlwDxD",
        "colab": {
          "base_uri": "https://localhost:8080/",
          "height": 300
        },
        "outputId": "b76db731-2e6e-431b-e2f0-4372bb0a6fde"
      },
      "execution_count": null,
      "outputs": [
        {
          "output_type": "execute_result",
          "data": {
            "text/plain": [
              "       2020_Violent Crime Rate  Historical Violent Crime Rates_2019  \\\n",
              "count                50.000000                            50.000000   \n",
              "mean                387.422000                           366.968000   \n",
              "std                 158.952549                           150.412832   \n",
              "min                 108.600000                           116.100000   \n",
              "25%                 280.925000                           262.025000   \n",
              "50%                 373.700000                           344.850000   \n",
              "75%                 457.350000                           438.025000   \n",
              "max                 837.800000                           865.000000   \n",
              "\n",
              "       Difference  Percentage Change  \n",
              "count   50.000000          50.000000  \n",
              "mean    20.454000           5.415681  \n",
              "std     44.755359          11.120359  \n",
              "min    -54.500000         -16.312741  \n",
              "25%     -6.375000          -2.764665  \n",
              "50%     17.550000           4.566601  \n",
              "75%     38.475000          10.552274  \n",
              "max    207.700000          46.454932  "
            ],
            "text/html": [
              "\n",
              "  <div id=\"df-e9feb6e6-8f37-4925-88a4-b78780550cad\">\n",
              "    <div class=\"colab-df-container\">\n",
              "      <div>\n",
              "<style scoped>\n",
              "    .dataframe tbody tr th:only-of-type {\n",
              "        vertical-align: middle;\n",
              "    }\n",
              "\n",
              "    .dataframe tbody tr th {\n",
              "        vertical-align: top;\n",
              "    }\n",
              "\n",
              "    .dataframe thead th {\n",
              "        text-align: right;\n",
              "    }\n",
              "</style>\n",
              "<table border=\"1\" class=\"dataframe\">\n",
              "  <thead>\n",
              "    <tr style=\"text-align: right;\">\n",
              "      <th></th>\n",
              "      <th>2020_Violent Crime Rate</th>\n",
              "      <th>Historical Violent Crime Rates_2019</th>\n",
              "      <th>Difference</th>\n",
              "      <th>Percentage Change</th>\n",
              "    </tr>\n",
              "  </thead>\n",
              "  <tbody>\n",
              "    <tr>\n",
              "      <th>count</th>\n",
              "      <td>50.000000</td>\n",
              "      <td>50.000000</td>\n",
              "      <td>50.000000</td>\n",
              "      <td>50.000000</td>\n",
              "    </tr>\n",
              "    <tr>\n",
              "      <th>mean</th>\n",
              "      <td>387.422000</td>\n",
              "      <td>366.968000</td>\n",
              "      <td>20.454000</td>\n",
              "      <td>5.415681</td>\n",
              "    </tr>\n",
              "    <tr>\n",
              "      <th>std</th>\n",
              "      <td>158.952549</td>\n",
              "      <td>150.412832</td>\n",
              "      <td>44.755359</td>\n",
              "      <td>11.120359</td>\n",
              "    </tr>\n",
              "    <tr>\n",
              "      <th>min</th>\n",
              "      <td>108.600000</td>\n",
              "      <td>116.100000</td>\n",
              "      <td>-54.500000</td>\n",
              "      <td>-16.312741</td>\n",
              "    </tr>\n",
              "    <tr>\n",
              "      <th>25%</th>\n",
              "      <td>280.925000</td>\n",
              "      <td>262.025000</td>\n",
              "      <td>-6.375000</td>\n",
              "      <td>-2.764665</td>\n",
              "    </tr>\n",
              "    <tr>\n",
              "      <th>50%</th>\n",
              "      <td>373.700000</td>\n",
              "      <td>344.850000</td>\n",
              "      <td>17.550000</td>\n",
              "      <td>4.566601</td>\n",
              "    </tr>\n",
              "    <tr>\n",
              "      <th>75%</th>\n",
              "      <td>457.350000</td>\n",
              "      <td>438.025000</td>\n",
              "      <td>38.475000</td>\n",
              "      <td>10.552274</td>\n",
              "    </tr>\n",
              "    <tr>\n",
              "      <th>max</th>\n",
              "      <td>837.800000</td>\n",
              "      <td>865.000000</td>\n",
              "      <td>207.700000</td>\n",
              "      <td>46.454932</td>\n",
              "    </tr>\n",
              "  </tbody>\n",
              "</table>\n",
              "</div>\n",
              "      <button class=\"colab-df-convert\" onclick=\"convertToInteractive('df-e9feb6e6-8f37-4925-88a4-b78780550cad')\"\n",
              "              title=\"Convert this dataframe to an interactive table.\"\n",
              "              style=\"display:none;\">\n",
              "        \n",
              "  <svg xmlns=\"http://www.w3.org/2000/svg\" height=\"24px\"viewBox=\"0 0 24 24\"\n",
              "       width=\"24px\">\n",
              "    <path d=\"M0 0h24v24H0V0z\" fill=\"none\"/>\n",
              "    <path d=\"M18.56 5.44l.94 2.06.94-2.06 2.06-.94-2.06-.94-.94-2.06-.94 2.06-2.06.94zm-11 1L8.5 8.5l.94-2.06 2.06-.94-2.06-.94L8.5 2.5l-.94 2.06-2.06.94zm10 10l.94 2.06.94-2.06 2.06-.94-2.06-.94-.94-2.06-.94 2.06-2.06.94z\"/><path d=\"M17.41 7.96l-1.37-1.37c-.4-.4-.92-.59-1.43-.59-.52 0-1.04.2-1.43.59L10.3 9.45l-7.72 7.72c-.78.78-.78 2.05 0 2.83L4 21.41c.39.39.9.59 1.41.59.51 0 1.02-.2 1.41-.59l7.78-7.78 2.81-2.81c.8-.78.8-2.07 0-2.86zM5.41 20L4 18.59l7.72-7.72 1.47 1.35L5.41 20z\"/>\n",
              "  </svg>\n",
              "      </button>\n",
              "      \n",
              "  <style>\n",
              "    .colab-df-container {\n",
              "      display:flex;\n",
              "      flex-wrap:wrap;\n",
              "      gap: 12px;\n",
              "    }\n",
              "\n",
              "    .colab-df-convert {\n",
              "      background-color: #E8F0FE;\n",
              "      border: none;\n",
              "      border-radius: 50%;\n",
              "      cursor: pointer;\n",
              "      display: none;\n",
              "      fill: #1967D2;\n",
              "      height: 32px;\n",
              "      padding: 0 0 0 0;\n",
              "      width: 32px;\n",
              "    }\n",
              "\n",
              "    .colab-df-convert:hover {\n",
              "      background-color: #E2EBFA;\n",
              "      box-shadow: 0px 1px 2px rgba(60, 64, 67, 0.3), 0px 1px 3px 1px rgba(60, 64, 67, 0.15);\n",
              "      fill: #174EA6;\n",
              "    }\n",
              "\n",
              "    [theme=dark] .colab-df-convert {\n",
              "      background-color: #3B4455;\n",
              "      fill: #D2E3FC;\n",
              "    }\n",
              "\n",
              "    [theme=dark] .colab-df-convert:hover {\n",
              "      background-color: #434B5C;\n",
              "      box-shadow: 0px 1px 3px 1px rgba(0, 0, 0, 0.15);\n",
              "      filter: drop-shadow(0px 1px 2px rgba(0, 0, 0, 0.3));\n",
              "      fill: #FFFFFF;\n",
              "    }\n",
              "  </style>\n",
              "\n",
              "      <script>\n",
              "        const buttonEl =\n",
              "          document.querySelector('#df-e9feb6e6-8f37-4925-88a4-b78780550cad button.colab-df-convert');\n",
              "        buttonEl.style.display =\n",
              "          google.colab.kernel.accessAllowed ? 'block' : 'none';\n",
              "\n",
              "        async function convertToInteractive(key) {\n",
              "          const element = document.querySelector('#df-e9feb6e6-8f37-4925-88a4-b78780550cad');\n",
              "          const dataTable =\n",
              "            await google.colab.kernel.invokeFunction('convertToInteractive',\n",
              "                                                     [key], {});\n",
              "          if (!dataTable) return;\n",
              "\n",
              "          const docLinkHtml = 'Like what you see? Visit the ' +\n",
              "            '<a target=\"_blank\" href=https://colab.research.google.com/notebooks/data_table.ipynb>data table notebook</a>'\n",
              "            + ' to learn more about interactive tables.';\n",
              "          element.innerHTML = '';\n",
              "          dataTable['output_type'] = 'display_data';\n",
              "          await google.colab.output.renderOutput(dataTable, element);\n",
              "          const docLink = document.createElement('div');\n",
              "          docLink.innerHTML = docLinkHtml;\n",
              "          element.appendChild(docLink);\n",
              "        }\n",
              "      </script>\n",
              "    </div>\n",
              "  </div>\n",
              "  "
            ]
          },
          "metadata": {},
          "execution_count": 114
        }
      ]
    },
    {
      "cell_type": "markdown",
      "source": [
        "# Q10. Make a nice boxplot or histogram for the output from Q9."
      ],
      "metadata": {
        "id": "T5QnKyzXq3QW"
      }
    },
    {
      "cell_type": "code",
      "source": [
        "plt.boxplot(change['Percentage Change'], notch=True, patch_artist=True, labels =['Change in Crime Rate(%)'])\n",
        "plt.title(\"Box Plot of change of Crime Rate in Percentage\")\n",
        "plt.show()"
      ],
      "metadata": {
        "colab": {
          "base_uri": "https://localhost:8080/",
          "height": 281
        },
        "id": "811ANxkiq9_E",
        "outputId": "66ae6ce8-585f-47fb-ac3d-53b7e5847f0d"
      },
      "execution_count": null,
      "outputs": [
        {
          "output_type": "display_data",
          "data": {
            "text/plain": [
              "<Figure size 432x288 with 1 Axes>"
            ],
            "image/png": "[encoded data removed]"
          },
          "metadata": {
            "needs_background": "light"
          }
        }
      ]
    },
    {
      "cell_type": "code",
      "source": [
        "plt.hist(change['Percentage Change'] , edgecolor=\"black\", color = \"gray\")\n",
        "plt.title(\"Box Plot of change of Crime Rate in Percentage\")\n",
        "plt.xlabel(\"Change in Crime Rate(%)\")\n",
        "plt.show()"
      ],
      "metadata": {
        "colab": {
          "base_uri": "https://localhost:8080/",
          "height": 295
        },
        "id": "m75BoxLO87RK",
        "outputId": "171e129f-6240-4683-8ed1-c2f386f3ca56"
      },
      "execution_count": null,
      "outputs": [
        {
          "output_type": "display_data",
          "data": {
            "text/plain": [
              "<Figure size 432x288 with 1 Axes>"
            ],
            "image/png": "[encoded data removed]"
          },
          "metadata": {
            "needs_background": "light"
          }
        }
      ]
    }
  ]
}